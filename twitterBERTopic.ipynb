{
 "cells": [
  {
   "cell_type": "markdown",
   "metadata": {},
   "source": [
    "# BERTopic Twitter\n",
    "## Tweets with #britishmuseum was collected by Twitter API."
   ]
  },
  {
   "cell_type": "code",
   "execution_count": 7,
   "metadata": {},
   "outputs": [],
   "source": [
    "import pandas as pd"
   ]
  },
  {
   "cell_type": "code",
   "execution_count": 8,
   "metadata": {},
   "outputs": [],
   "source": [
    "df =pd.read_csv('./#britishmuseum_no_retweet_raw.csv')\n",
    "df=df.drop('text.1', axis=1)\n",
    "df['query']='#britishmuseum'"
   ]
  },
  {
   "cell_type": "code",
   "execution_count": 6,
   "metadata": {},
   "outputs": [
    {
     "data": {
      "text/html": [
       "<div>\n",
       "<style scoped>\n",
       "    .dataframe tbody tr th:only-of-type {\n",
       "        vertical-align: middle;\n",
       "    }\n",
       "\n",
       "    .dataframe tbody tr th {\n",
       "        vertical-align: top;\n",
       "    }\n",
       "\n",
       "    .dataframe thead th {\n",
       "        text-align: right;\n",
       "    }\n",
       "</style>\n",
       "<table border=\"1\" class=\"dataframe\">\n",
       "  <thead>\n",
       "    <tr style=\"text-align: right;\">\n",
       "      <th></th>\n",
       "      <th>date</th>\n",
       "      <th>text</th>\n",
       "      <th>likes</th>\n",
       "      <th>quote</th>\n",
       "      <th>reply</th>\n",
       "      <th>retweet</th>\n",
       "      <th>query</th>\n",
       "    </tr>\n",
       "  </thead>\n",
       "  <tbody>\n",
       "    <tr>\n",
       "      <th>0</th>\n",
       "      <td>2014-06-30</td>\n",
       "      <td>Follow @EY_Foundation launching this Wed #brit...</td>\n",
       "      <td>1</td>\n",
       "      <td>0</td>\n",
       "      <td>1</td>\n",
       "      <td>0</td>\n",
       "      <td>#britishmuseum</td>\n",
       "    </tr>\n",
       "    <tr>\n",
       "      <th>1</th>\n",
       "      <td>2014-06-30</td>\n",
       "      <td>\"The exact moment Spotty the Cat realized he w...</td>\n",
       "      <td>0</td>\n",
       "      <td>0</td>\n",
       "      <td>0</td>\n",
       "      <td>0</td>\n",
       "      <td>#britishmuseum</td>\n",
       "    </tr>\n",
       "    <tr>\n",
       "      <th>2</th>\n",
       "      <td>2014-06-30</td>\n",
       "      <td>This is me living on the edge. Can you see why...</td>\n",
       "      <td>0</td>\n",
       "      <td>0</td>\n",
       "      <td>0</td>\n",
       "      <td>0</td>\n",
       "      <td>#britishmuseum</td>\n",
       "    </tr>\n",
       "    <tr>\n",
       "      <th>3</th>\n",
       "      <td>2014-06-30</td>\n",
       "      <td>#Dish of the day : #Ru ware 1086-1106 #British...</td>\n",
       "      <td>1</td>\n",
       "      <td>0</td>\n",
       "      <td>0</td>\n",
       "      <td>0</td>\n",
       "      <td>#britishmuseum</td>\n",
       "    </tr>\n",
       "    <tr>\n",
       "      <th>4</th>\n",
       "      <td>2014-06-30</td>\n",
       "      <td>Watch out kids! #Lion on the rampage in the #B...</td>\n",
       "      <td>4</td>\n",
       "      <td>0</td>\n",
       "      <td>0</td>\n",
       "      <td>5</td>\n",
       "      <td>#britishmuseum</td>\n",
       "    </tr>\n",
       "    <tr>\n",
       "      <th>...</th>\n",
       "      <td>...</td>\n",
       "      <td>...</td>\n",
       "      <td>...</td>\n",
       "      <td>...</td>\n",
       "      <td>...</td>\n",
       "      <td>...</td>\n",
       "      <td>...</td>\n",
       "    </tr>\n",
       "    <tr>\n",
       "      <th>34986</th>\n",
       "      <td>2022-06-01</td>\n",
       "      <td>Sexy Boy · Air  ♂️  https://t.co/j9GOuVpi5g\\n#...</td>\n",
       "      <td>0</td>\n",
       "      <td>0</td>\n",
       "      <td>0</td>\n",
       "      <td>0</td>\n",
       "      <td>#britishmuseum</td>\n",
       "    </tr>\n",
       "    <tr>\n",
       "      <th>34987</th>\n",
       "      <td>2022-06-01</td>\n",
       "      <td>#TheQueenvisited the @britishmuseum many times...</td>\n",
       "      <td>0</td>\n",
       "      <td>0</td>\n",
       "      <td>0</td>\n",
       "      <td>0</td>\n",
       "      <td>#britishmuseum</td>\n",
       "    </tr>\n",
       "    <tr>\n",
       "      <th>34988</th>\n",
       "      <td>2022-06-01</td>\n",
       "      <td>Koya Abe: After Robert Rich, 2nd Earl of Warwi...</td>\n",
       "      <td>0</td>\n",
       "      <td>0</td>\n",
       "      <td>0</td>\n",
       "      <td>1</td>\n",
       "      <td>#britishmuseum</td>\n",
       "    </tr>\n",
       "    <tr>\n",
       "      <th>34989</th>\n",
       "      <td>2022-06-01</td>\n",
       "      <td>Off to London later this week. Anyone been to ...</td>\n",
       "      <td>0</td>\n",
       "      <td>0</td>\n",
       "      <td>0</td>\n",
       "      <td>1</td>\n",
       "      <td>#britishmuseum</td>\n",
       "    </tr>\n",
       "    <tr>\n",
       "      <th>34990</th>\n",
       "      <td>2022-06-01</td>\n",
       "      <td>#India  Akademi presents APOTHEOSIS: Indian cl...</td>\n",
       "      <td>1</td>\n",
       "      <td>0</td>\n",
       "      <td>0</td>\n",
       "      <td>0</td>\n",
       "      <td>#britishmuseum</td>\n",
       "    </tr>\n",
       "  </tbody>\n",
       "</table>\n",
       "<p>34991 rows × 7 columns</p>\n",
       "</div>"
      ],
      "text/plain": [
       "             date                                               text  likes  \\\n",
       "0      2014-06-30  Follow @EY_Foundation launching this Wed #brit...      1   \n",
       "1      2014-06-30  \"The exact moment Spotty the Cat realized he w...      0   \n",
       "2      2014-06-30  This is me living on the edge. Can you see why...      0   \n",
       "3      2014-06-30  #Dish of the day : #Ru ware 1086-1106 #British...      1   \n",
       "4      2014-06-30  Watch out kids! #Lion on the rampage in the #B...      4   \n",
       "...           ...                                                ...    ...   \n",
       "34986  2022-06-01  Sexy Boy · Air  ♂️  https://t.co/j9GOuVpi5g\\n#...      0   \n",
       "34987  2022-06-01  #TheQueenvisited the @britishmuseum many times...      0   \n",
       "34988  2022-06-01  Koya Abe: After Robert Rich, 2nd Earl of Warwi...      0   \n",
       "34989  2022-06-01  Off to London later this week. Anyone been to ...      0   \n",
       "34990  2022-06-01  #India  Akademi presents APOTHEOSIS: Indian cl...      1   \n",
       "\n",
       "       quote  reply  retweet           query  \n",
       "0          0      1        0  #britishmuseum  \n",
       "1          0      0        0  #britishmuseum  \n",
       "2          0      0        0  #britishmuseum  \n",
       "3          0      0        0  #britishmuseum  \n",
       "4          0      0        5  #britishmuseum  \n",
       "...      ...    ...      ...             ...  \n",
       "34986      0      0        0  #britishmuseum  \n",
       "34987      0      0        0  #britishmuseum  \n",
       "34988      0      0        1  #britishmuseum  \n",
       "34989      0      0        1  #britishmuseum  \n",
       "34990      0      0        0  #britishmuseum  \n",
       "\n",
       "[34991 rows x 7 columns]"
      ]
     },
     "execution_count": 6,
     "metadata": {},
     "output_type": "execute_result"
    }
   ],
   "source": [
    "df"
   ]
  },
  {
   "cell_type": "code",
   "execution_count": 9,
   "metadata": {},
   "outputs": [
    {
     "data": {
      "text/plain": [
       "'2014-06'"
      ]
     },
     "execution_count": 9,
     "metadata": {},
     "output_type": "execute_result"
    }
   ],
   "source": [
    "#only need year and month\n",
    "df['date'][0][:-3]"
   ]
  },
  {
   "cell_type": "code",
   "execution_count": 10,
   "metadata": {},
   "outputs": [],
   "source": [
    "#only need year and month\n",
    "def date_to_month(d) :\n",
    "    result = d[:-3]\n",
    "    return result\n",
    "\n",
    "\n",
    "\n",
    "df['date'] = df['date'].apply(date_to_month)"
   ]
  },
  {
   "cell_type": "code",
   "execution_count": 11,
   "metadata": {},
   "outputs": [
    {
     "data": {
      "text/html": [
       "<div>\n",
       "<style scoped>\n",
       "    .dataframe tbody tr th:only-of-type {\n",
       "        vertical-align: middle;\n",
       "    }\n",
       "\n",
       "    .dataframe tbody tr th {\n",
       "        vertical-align: top;\n",
       "    }\n",
       "\n",
       "    .dataframe thead th {\n",
       "        text-align: right;\n",
       "    }\n",
       "</style>\n",
       "<table border=\"1\" class=\"dataframe\">\n",
       "  <thead>\n",
       "    <tr style=\"text-align: right;\">\n",
       "      <th></th>\n",
       "      <th>date</th>\n",
       "      <th>text</th>\n",
       "      <th>likes</th>\n",
       "      <th>quote</th>\n",
       "      <th>reply</th>\n",
       "      <th>retweet</th>\n",
       "      <th>query</th>\n",
       "    </tr>\n",
       "  </thead>\n",
       "  <tbody>\n",
       "    <tr>\n",
       "      <th>0</th>\n",
       "      <td>2014-06</td>\n",
       "      <td>Follow @EY_Foundation launching this Wed #brit...</td>\n",
       "      <td>1</td>\n",
       "      <td>0</td>\n",
       "      <td>1</td>\n",
       "      <td>0</td>\n",
       "      <td>#britishmuseum</td>\n",
       "    </tr>\n",
       "    <tr>\n",
       "      <th>1</th>\n",
       "      <td>2014-06</td>\n",
       "      <td>\"The exact moment Spotty the Cat realized he w...</td>\n",
       "      <td>0</td>\n",
       "      <td>0</td>\n",
       "      <td>0</td>\n",
       "      <td>0</td>\n",
       "      <td>#britishmuseum</td>\n",
       "    </tr>\n",
       "    <tr>\n",
       "      <th>2</th>\n",
       "      <td>2014-06</td>\n",
       "      <td>This is me living on the edge. Can you see why...</td>\n",
       "      <td>0</td>\n",
       "      <td>0</td>\n",
       "      <td>0</td>\n",
       "      <td>0</td>\n",
       "      <td>#britishmuseum</td>\n",
       "    </tr>\n",
       "    <tr>\n",
       "      <th>3</th>\n",
       "      <td>2014-06</td>\n",
       "      <td>#Dish of the day : #Ru ware 1086-1106 #British...</td>\n",
       "      <td>1</td>\n",
       "      <td>0</td>\n",
       "      <td>0</td>\n",
       "      <td>0</td>\n",
       "      <td>#britishmuseum</td>\n",
       "    </tr>\n",
       "    <tr>\n",
       "      <th>4</th>\n",
       "      <td>2014-06</td>\n",
       "      <td>Watch out kids! #Lion on the rampage in the #B...</td>\n",
       "      <td>4</td>\n",
       "      <td>0</td>\n",
       "      <td>0</td>\n",
       "      <td>5</td>\n",
       "      <td>#britishmuseum</td>\n",
       "    </tr>\n",
       "    <tr>\n",
       "      <th>...</th>\n",
       "      <td>...</td>\n",
       "      <td>...</td>\n",
       "      <td>...</td>\n",
       "      <td>...</td>\n",
       "      <td>...</td>\n",
       "      <td>...</td>\n",
       "      <td>...</td>\n",
       "    </tr>\n",
       "    <tr>\n",
       "      <th>34986</th>\n",
       "      <td>2022-06</td>\n",
       "      <td>Sexy Boy · Air  ♂️  https://t.co/j9GOuVpi5g\\n#...</td>\n",
       "      <td>0</td>\n",
       "      <td>0</td>\n",
       "      <td>0</td>\n",
       "      <td>0</td>\n",
       "      <td>#britishmuseum</td>\n",
       "    </tr>\n",
       "    <tr>\n",
       "      <th>34987</th>\n",
       "      <td>2022-06</td>\n",
       "      <td>#TheQueenvisited the @britishmuseum many times...</td>\n",
       "      <td>0</td>\n",
       "      <td>0</td>\n",
       "      <td>0</td>\n",
       "      <td>0</td>\n",
       "      <td>#britishmuseum</td>\n",
       "    </tr>\n",
       "    <tr>\n",
       "      <th>34988</th>\n",
       "      <td>2022-06</td>\n",
       "      <td>Koya Abe: After Robert Rich, 2nd Earl of Warwi...</td>\n",
       "      <td>0</td>\n",
       "      <td>0</td>\n",
       "      <td>0</td>\n",
       "      <td>1</td>\n",
       "      <td>#britishmuseum</td>\n",
       "    </tr>\n",
       "    <tr>\n",
       "      <th>34989</th>\n",
       "      <td>2022-06</td>\n",
       "      <td>Off to London later this week. Anyone been to ...</td>\n",
       "      <td>0</td>\n",
       "      <td>0</td>\n",
       "      <td>0</td>\n",
       "      <td>1</td>\n",
       "      <td>#britishmuseum</td>\n",
       "    </tr>\n",
       "    <tr>\n",
       "      <th>34990</th>\n",
       "      <td>2022-06</td>\n",
       "      <td>#India  Akademi presents APOTHEOSIS: Indian cl...</td>\n",
       "      <td>1</td>\n",
       "      <td>0</td>\n",
       "      <td>0</td>\n",
       "      <td>0</td>\n",
       "      <td>#britishmuseum</td>\n",
       "    </tr>\n",
       "  </tbody>\n",
       "</table>\n",
       "<p>34991 rows × 7 columns</p>\n",
       "</div>"
      ],
      "text/plain": [
       "          date                                               text  likes  \\\n",
       "0      2014-06  Follow @EY_Foundation launching this Wed #brit...      1   \n",
       "1      2014-06  \"The exact moment Spotty the Cat realized he w...      0   \n",
       "2      2014-06  This is me living on the edge. Can you see why...      0   \n",
       "3      2014-06  #Dish of the day : #Ru ware 1086-1106 #British...      1   \n",
       "4      2014-06  Watch out kids! #Lion on the rampage in the #B...      4   \n",
       "...        ...                                                ...    ...   \n",
       "34986  2022-06  Sexy Boy · Air  ♂️  https://t.co/j9GOuVpi5g\\n#...      0   \n",
       "34987  2022-06  #TheQueenvisited the @britishmuseum many times...      0   \n",
       "34988  2022-06  Koya Abe: After Robert Rich, 2nd Earl of Warwi...      0   \n",
       "34989  2022-06  Off to London later this week. Anyone been to ...      0   \n",
       "34990  2022-06  #India  Akademi presents APOTHEOSIS: Indian cl...      1   \n",
       "\n",
       "       quote  reply  retweet           query  \n",
       "0          0      1        0  #britishmuseum  \n",
       "1          0      0        0  #britishmuseum  \n",
       "2          0      0        0  #britishmuseum  \n",
       "3          0      0        0  #britishmuseum  \n",
       "4          0      0        5  #britishmuseum  \n",
       "...      ...    ...      ...             ...  \n",
       "34986      0      0        0  #britishmuseum  \n",
       "34987      0      0        0  #britishmuseum  \n",
       "34988      0      0        1  #britishmuseum  \n",
       "34989      0      0        1  #britishmuseum  \n",
       "34990      0      0        0  #britishmuseum  \n",
       "\n",
       "[34991 rows x 7 columns]"
      ]
     },
     "execution_count": 11,
     "metadata": {},
     "output_type": "execute_result"
    }
   ],
   "source": [
    "df"
   ]
  },
  {
   "cell_type": "code",
   "execution_count": 12,
   "metadata": {},
   "outputs": [
    {
     "data": {
      "text/html": [
       "<div>\n",
       "<style scoped>\n",
       "    .dataframe tbody tr th:only-of-type {\n",
       "        vertical-align: middle;\n",
       "    }\n",
       "\n",
       "    .dataframe tbody tr th {\n",
       "        vertical-align: top;\n",
       "    }\n",
       "\n",
       "    .dataframe thead th {\n",
       "        text-align: right;\n",
       "    }\n",
       "</style>\n",
       "<table border=\"1\" class=\"dataframe\">\n",
       "  <thead>\n",
       "    <tr style=\"text-align: right;\">\n",
       "      <th></th>\n",
       "      <th>date</th>\n",
       "      <th>text</th>\n",
       "      <th>likes</th>\n",
       "      <th>quote</th>\n",
       "      <th>reply</th>\n",
       "      <th>retweet</th>\n",
       "      <th>query</th>\n",
       "    </tr>\n",
       "  </thead>\n",
       "  <tbody>\n",
       "    <tr>\n",
       "      <th>0</th>\n",
       "      <td>2014-06</td>\n",
       "      <td>Follow @EY_Foundation launching this Wed #brit...</td>\n",
       "      <td>1</td>\n",
       "      <td>0</td>\n",
       "      <td>1</td>\n",
       "      <td>0</td>\n",
       "      <td>#britishmuseum</td>\n",
       "    </tr>\n",
       "    <tr>\n",
       "      <th>1</th>\n",
       "      <td>2014-06</td>\n",
       "      <td>Bronze votive statue Etrusco-Roman 200-100BC S...</td>\n",
       "      <td>0</td>\n",
       "      <td>0</td>\n",
       "      <td>0</td>\n",
       "      <td>0</td>\n",
       "      <td>#britishmuseum</td>\n",
       "    </tr>\n",
       "    <tr>\n",
       "      <th>2</th>\n",
       "      <td>2014-06</td>\n",
       "      <td>Yesterday I spent the full day at the #british...</td>\n",
       "      <td>5</td>\n",
       "      <td>0</td>\n",
       "      <td>0</td>\n",
       "      <td>2</td>\n",
       "      <td>#britishmuseum</td>\n",
       "    </tr>\n",
       "    <tr>\n",
       "      <th>3</th>\n",
       "      <td>2014-06</td>\n",
       "      <td>#Britishmuseum #crieale @ British Museum http:...</td>\n",
       "      <td>0</td>\n",
       "      <td>0</td>\n",
       "      <td>0</td>\n",
       "      <td>0</td>\n",
       "      <td>#britishmuseum</td>\n",
       "    </tr>\n",
       "    <tr>\n",
       "      <th>4</th>\n",
       "      <td>2014-06</td>\n",
       "      <td>Judy from #BritishMuseum is running a drop-in ...</td>\n",
       "      <td>0</td>\n",
       "      <td>0</td>\n",
       "      <td>0</td>\n",
       "      <td>0</td>\n",
       "      <td>#britishmuseum</td>\n",
       "    </tr>\n",
       "    <tr>\n",
       "      <th>...</th>\n",
       "      <td>...</td>\n",
       "      <td>...</td>\n",
       "      <td>...</td>\n",
       "      <td>...</td>\n",
       "      <td>...</td>\n",
       "      <td>...</td>\n",
       "      <td>...</td>\n",
       "    </tr>\n",
       "    <tr>\n",
       "      <th>34986</th>\n",
       "      <td>2022-06</td>\n",
       "      <td>My protest at the British Museum 4 years ago t...</td>\n",
       "      <td>0</td>\n",
       "      <td>0</td>\n",
       "      <td>0</td>\n",
       "      <td>0</td>\n",
       "      <td>#britishmuseum</td>\n",
       "    </tr>\n",
       "    <tr>\n",
       "      <th>34987</th>\n",
       "      <td>2022-06</td>\n",
       "      <td>@ivan_ruggeri The main block and facade of the...</td>\n",
       "      <td>0</td>\n",
       "      <td>0</td>\n",
       "      <td>0</td>\n",
       "      <td>0</td>\n",
       "      <td>#britishmuseum</td>\n",
       "    </tr>\n",
       "    <tr>\n",
       "      <th>34988</th>\n",
       "      <td>2022-06</td>\n",
       "      <td>Demands are growing for #BritishMuseum to retu...</td>\n",
       "      <td>0</td>\n",
       "      <td>0</td>\n",
       "      <td>0</td>\n",
       "      <td>0</td>\n",
       "      <td>#britishmuseum</td>\n",
       "    </tr>\n",
       "    <tr>\n",
       "      <th>34989</th>\n",
       "      <td>2022-06</td>\n",
       "      <td>Now at British Museum again to taking new pict...</td>\n",
       "      <td>1</td>\n",
       "      <td>0</td>\n",
       "      <td>0</td>\n",
       "      <td>1</td>\n",
       "      <td>#britishmuseum</td>\n",
       "    </tr>\n",
       "    <tr>\n",
       "      <th>34990</th>\n",
       "      <td>2022-06</td>\n",
       "      <td>#India  Akademi presents APOTHEOSIS: Indian cl...</td>\n",
       "      <td>1</td>\n",
       "      <td>0</td>\n",
       "      <td>0</td>\n",
       "      <td>0</td>\n",
       "      <td>#britishmuseum</td>\n",
       "    </tr>\n",
       "  </tbody>\n",
       "</table>\n",
       "<p>34991 rows × 7 columns</p>\n",
       "</div>"
      ],
      "text/plain": [
       "          date                                               text  likes  \\\n",
       "0      2014-06  Follow @EY_Foundation launching this Wed #brit...      1   \n",
       "1      2014-06  Bronze votive statue Etrusco-Roman 200-100BC S...      0   \n",
       "2      2014-06  Yesterday I spent the full day at the #british...      5   \n",
       "3      2014-06  #Britishmuseum #crieale @ British Museum http:...      0   \n",
       "4      2014-06  Judy from #BritishMuseum is running a drop-in ...      0   \n",
       "...        ...                                                ...    ...   \n",
       "34986  2022-06  My protest at the British Museum 4 years ago t...      0   \n",
       "34987  2022-06  @ivan_ruggeri The main block and facade of the...      0   \n",
       "34988  2022-06  Demands are growing for #BritishMuseum to retu...      0   \n",
       "34989  2022-06  Now at British Museum again to taking new pict...      1   \n",
       "34990  2022-06  #India  Akademi presents APOTHEOSIS: Indian cl...      1   \n",
       "\n",
       "       quote  reply  retweet           query  \n",
       "0          0      1        0  #britishmuseum  \n",
       "1          0      0        0  #britishmuseum  \n",
       "2          0      0        2  #britishmuseum  \n",
       "3          0      0        0  #britishmuseum  \n",
       "4          0      0        0  #britishmuseum  \n",
       "...      ...    ...      ...             ...  \n",
       "34986      0      0        0  #britishmuseum  \n",
       "34987      0      0        0  #britishmuseum  \n",
       "34988      0      0        0  #britishmuseum  \n",
       "34989      0      0        1  #britishmuseum  \n",
       "34990      0      0        0  #britishmuseum  \n",
       "\n",
       "[34991 rows x 7 columns]"
      ]
     },
     "execution_count": 12,
     "metadata": {},
     "output_type": "execute_result"
    }
   ],
   "source": [
    "df.sort_values('date', inplace=True)\n",
    "df.reset_index(drop=True, inplace=True)\n",
    "df"
   ]
  },
  {
   "cell_type": "markdown",
   "metadata": {},
   "source": [
    "### Install packages"
   ]
  },
  {
   "cell_type": "code",
   "execution_count": 13,
   "metadata": {},
   "outputs": [],
   "source": [
    "import spacy # preprocessing\n",
    "\n",
    "from tqdm.notebook import tqdm\n",
    "tqdm.pandas()\n",
    "\n",
    "from collections import Counter\n",
    "import regex\n",
    "import re\n",
    "\n",
    "from nltk.tokenize import TreebankWordTokenizer\n",
    "\n",
    "from flashtext import KeywordProcessor\n",
    "kp = KeywordProcessor()"
   ]
  },
  {
   "cell_type": "code",
   "execution_count": 14,
   "metadata": {},
   "outputs": [
    {
     "name": "stdout",
     "output_type": "stream",
     "text": [
      "326\n",
      "<class 'set'>\n"
     ]
    }
   ],
   "source": [
    "import spacy\n",
    "\n",
    "nlp = spacy.load(\"en_core_web_sm\")\n",
    "spacy_stopwords = nlp.Defaults.stop_words\n",
    "print(len(spacy_stopwords))\n",
    "print(type(spacy_stopwords))"
   ]
  },
  {
   "cell_type": "markdown",
   "metadata": {},
   "source": [
    "# EDA"
   ]
  },
  {
   "cell_type": "code",
   "execution_count": 15,
   "metadata": {},
   "outputs": [
    {
     "data": {
      "text/html": [
       "<div>\n",
       "<style scoped>\n",
       "    .dataframe tbody tr th:only-of-type {\n",
       "        vertical-align: middle;\n",
       "    }\n",
       "\n",
       "    .dataframe tbody tr th {\n",
       "        vertical-align: top;\n",
       "    }\n",
       "\n",
       "    .dataframe thead th {\n",
       "        text-align: right;\n",
       "    }\n",
       "</style>\n",
       "<table border=\"1\" class=\"dataframe\">\n",
       "  <thead>\n",
       "    <tr style=\"text-align: right;\">\n",
       "      <th></th>\n",
       "      <th>date</th>\n",
       "      <th>text</th>\n",
       "      <th>likes</th>\n",
       "      <th>quote</th>\n",
       "      <th>reply</th>\n",
       "      <th>retweet</th>\n",
       "      <th>query</th>\n",
       "    </tr>\n",
       "  </thead>\n",
       "  <tbody>\n",
       "    <tr>\n",
       "      <th>0</th>\n",
       "      <td>2014-06</td>\n",
       "      <td>Follow @EY_Foundation launching this Wed #brit...</td>\n",
       "      <td>1</td>\n",
       "      <td>0</td>\n",
       "      <td>1</td>\n",
       "      <td>0</td>\n",
       "      <td>#britishmuseum</td>\n",
       "    </tr>\n",
       "    <tr>\n",
       "      <th>1</th>\n",
       "      <td>2014-06</td>\n",
       "      <td>Bronze votive statue Etrusco-Roman 200-100BC S...</td>\n",
       "      <td>0</td>\n",
       "      <td>0</td>\n",
       "      <td>0</td>\n",
       "      <td>0</td>\n",
       "      <td>#britishmuseum</td>\n",
       "    </tr>\n",
       "    <tr>\n",
       "      <th>2</th>\n",
       "      <td>2014-06</td>\n",
       "      <td>Yesterday I spent the full day at the #british...</td>\n",
       "      <td>5</td>\n",
       "      <td>0</td>\n",
       "      <td>0</td>\n",
       "      <td>2</td>\n",
       "      <td>#britishmuseum</td>\n",
       "    </tr>\n",
       "    <tr>\n",
       "      <th>3</th>\n",
       "      <td>2014-06</td>\n",
       "      <td>#Britishmuseum #crieale @ British Museum http:...</td>\n",
       "      <td>0</td>\n",
       "      <td>0</td>\n",
       "      <td>0</td>\n",
       "      <td>0</td>\n",
       "      <td>#britishmuseum</td>\n",
       "    </tr>\n",
       "    <tr>\n",
       "      <th>4</th>\n",
       "      <td>2014-06</td>\n",
       "      <td>Judy from #BritishMuseum is running a drop-in ...</td>\n",
       "      <td>0</td>\n",
       "      <td>0</td>\n",
       "      <td>0</td>\n",
       "      <td>0</td>\n",
       "      <td>#britishmuseum</td>\n",
       "    </tr>\n",
       "    <tr>\n",
       "      <th>...</th>\n",
       "      <td>...</td>\n",
       "      <td>...</td>\n",
       "      <td>...</td>\n",
       "      <td>...</td>\n",
       "      <td>...</td>\n",
       "      <td>...</td>\n",
       "      <td>...</td>\n",
       "    </tr>\n",
       "    <tr>\n",
       "      <th>34986</th>\n",
       "      <td>2022-06</td>\n",
       "      <td>My protest at the British Museum 4 years ago t...</td>\n",
       "      <td>0</td>\n",
       "      <td>0</td>\n",
       "      <td>0</td>\n",
       "      <td>0</td>\n",
       "      <td>#britishmuseum</td>\n",
       "    </tr>\n",
       "    <tr>\n",
       "      <th>34987</th>\n",
       "      <td>2022-06</td>\n",
       "      <td>@ivan_ruggeri The main block and facade of the...</td>\n",
       "      <td>0</td>\n",
       "      <td>0</td>\n",
       "      <td>0</td>\n",
       "      <td>0</td>\n",
       "      <td>#britishmuseum</td>\n",
       "    </tr>\n",
       "    <tr>\n",
       "      <th>34988</th>\n",
       "      <td>2022-06</td>\n",
       "      <td>Demands are growing for #BritishMuseum to retu...</td>\n",
       "      <td>0</td>\n",
       "      <td>0</td>\n",
       "      <td>0</td>\n",
       "      <td>0</td>\n",
       "      <td>#britishmuseum</td>\n",
       "    </tr>\n",
       "    <tr>\n",
       "      <th>34989</th>\n",
       "      <td>2022-06</td>\n",
       "      <td>Now at British Museum again to taking new pict...</td>\n",
       "      <td>1</td>\n",
       "      <td>0</td>\n",
       "      <td>0</td>\n",
       "      <td>1</td>\n",
       "      <td>#britishmuseum</td>\n",
       "    </tr>\n",
       "    <tr>\n",
       "      <th>34990</th>\n",
       "      <td>2022-06</td>\n",
       "      <td>#India  Akademi presents APOTHEOSIS: Indian cl...</td>\n",
       "      <td>1</td>\n",
       "      <td>0</td>\n",
       "      <td>0</td>\n",
       "      <td>0</td>\n",
       "      <td>#britishmuseum</td>\n",
       "    </tr>\n",
       "  </tbody>\n",
       "</table>\n",
       "<p>34991 rows × 7 columns</p>\n",
       "</div>"
      ],
      "text/plain": [
       "          date                                               text  likes  \\\n",
       "0      2014-06  Follow @EY_Foundation launching this Wed #brit...      1   \n",
       "1      2014-06  Bronze votive statue Etrusco-Roman 200-100BC S...      0   \n",
       "2      2014-06  Yesterday I spent the full day at the #british...      5   \n",
       "3      2014-06  #Britishmuseum #crieale @ British Museum http:...      0   \n",
       "4      2014-06  Judy from #BritishMuseum is running a drop-in ...      0   \n",
       "...        ...                                                ...    ...   \n",
       "34986  2022-06  My protest at the British Museum 4 years ago t...      0   \n",
       "34987  2022-06  @ivan_ruggeri The main block and facade of the...      0   \n",
       "34988  2022-06  Demands are growing for #BritishMuseum to retu...      0   \n",
       "34989  2022-06  Now at British Museum again to taking new pict...      1   \n",
       "34990  2022-06  #India  Akademi presents APOTHEOSIS: Indian cl...      1   \n",
       "\n",
       "       quote  reply  retweet           query  \n",
       "0          0      1        0  #britishmuseum  \n",
       "1          0      0        0  #britishmuseum  \n",
       "2          0      0        2  #britishmuseum  \n",
       "3          0      0        0  #britishmuseum  \n",
       "4          0      0        0  #britishmuseum  \n",
       "...      ...    ...      ...             ...  \n",
       "34986      0      0        0  #britishmuseum  \n",
       "34987      0      0        0  #britishmuseum  \n",
       "34988      0      0        0  #britishmuseum  \n",
       "34989      0      0        1  #britishmuseum  \n",
       "34990      0      0        0  #britishmuseum  \n",
       "\n",
       "[34991 rows x 7 columns]"
      ]
     },
     "execution_count": 15,
     "metadata": {},
     "output_type": "execute_result"
    }
   ],
   "source": [
    "df"
   ]
  },
  {
   "cell_type": "code",
   "execution_count": 17,
   "metadata": {},
   "outputs": [
    {
     "data": {
      "text/plain": [
       "date\n",
       "2014-06    364\n",
       "2014-07    320\n",
       "2014-08    385\n",
       "2014-09    987\n",
       "2014-10    474\n",
       "          ... \n",
       "2022-02    234\n",
       "2022-03    184\n",
       "2022-04    224\n",
       "2022-05    279\n",
       "2022-06    194\n",
       "Name: text, Length: 97, dtype: int64"
      ]
     },
     "execution_count": 17,
     "metadata": {},
     "output_type": "execute_result"
    }
   ],
   "source": [
    "df_date=df.groupby('date').count()['text']\n",
    "df_date"
   ]
  },
  {
   "cell_type": "code",
   "execution_count": 19,
   "metadata": {},
   "outputs": [
    {
     "data": {
      "text/plain": [
       "<AxesSubplot:xlabel='date'>"
      ]
     },
     "execution_count": 19,
     "metadata": {},
     "output_type": "execute_result"
    },
    {
     "data": {
      "image/png": "[encoded data removed]",
      "text/plain": [
       "<Figure size 432x288 with 1 Axes>"
      ]
     },
     "metadata": {
      "needs_background": "light"
     },
     "output_type": "display_data"
    }
   ],
   "source": [
    "df_date.plot()"
   ]
  },
  {
   "cell_type": "markdown",
   "metadata": {},
   "source": [
    "### Countvectorizer =>find word frequency"
   ]
  },
  {
   "cell_type": "code",
   "execution_count": 20,
   "metadata": {},
   "outputs": [],
   "source": [
    "from sklearn.feature_extraction.text import CountVectorizer\n",
    "import spacy\n",
    "import pandas as pd"
   ]
  },
  {
   "cell_type": "code",
   "execution_count": 21,
   "metadata": {},
   "outputs": [],
   "source": [
    "def find_freq(df):\n",
    "    nlp = spacy.load(\"en_core_web_sm\") #set stopwords by spacy package\n",
    "    spacy_stopwords = nlp.Defaults.stop_words\n",
    "    docs =  df['text'].to_list() \n",
    "    cv =CountVectorizer(stop_words=spacy_stopwords, max_df=0.7) #set max documents frequency based on data size \n",
    "    cv_fit = cv.fit_transform(docs)    \n",
    "    word_list = cv.get_feature_names() \n",
    "    count_list = cv_fit.toarray().sum(axis=0)\n",
    "    freq_dict=dict(zip(word_list,count_list))\n",
    "    df_vocab= pd.DataFrame([freq_dict])\n",
    "    df_vocab=df_vocab.T\n",
    "\n",
    "    df_vocab.reset_index(inplace=True)\n",
    "    df_vocab=df_vocab.rename(columns={'index':'word', 0:'freq'})\n",
    "    df_vocab=df_vocab.sort_values('freq', ascending=False)\n",
    "    df_vocab.reset_index(drop=True, inplace=True)\n",
    "\n",
    "    return df_vocab"
   ]
  },
  {
   "cell_type": "code",
   "execution_count": 22,
   "metadata": {},
   "outputs": [
    {
     "name": "stderr",
     "output_type": "stream",
     "text": [
      "/Users/brightcircle/miniconda3/lib/python3.9/site-packages/sklearn/feature_extraction/text.py:396: UserWarning: Your stop_words may be inconsistent with your preprocessing. Tokenizing the stop words generated tokens ['ll', 've'] not in stop_words.\n",
      "  warnings.warn(\n",
      "/Users/brightcircle/miniconda3/lib/python3.9/site-packages/sklearn/utils/deprecation.py:87: FutureWarning: Function get_feature_names is deprecated; get_feature_names is deprecated in 1.0 and will be removed in 1.2. Please use get_feature_names_out instead.\n",
      "  warnings.warn(msg, category=FutureWarning)\n"
     ]
    }
   ],
   "source": [
    "df_vocab=find_freq(df)"
   ]
  },
  {
   "cell_type": "code",
   "execution_count": 23,
   "metadata": {},
   "outputs": [
    {
     "data": {
      "text/html": [
       "<div>\n",
       "<style scoped>\n",
       "    .dataframe tbody tr th:only-of-type {\n",
       "        vertical-align: middle;\n",
       "    }\n",
       "\n",
       "    .dataframe tbody tr th {\n",
       "        vertical-align: top;\n",
       "    }\n",
       "\n",
       "    .dataframe thead th {\n",
       "        text-align: right;\n",
       "    }\n",
       "</style>\n",
       "<table border=\"1\" class=\"dataframe\">\n",
       "  <thead>\n",
       "    <tr style=\"text-align: right;\">\n",
       "      <th></th>\n",
       "      <th>word</th>\n",
       "      <th>freq</th>\n",
       "    </tr>\n",
       "  </thead>\n",
       "  <tbody>\n",
       "    <tr>\n",
       "      <th>0</th>\n",
       "      <td>museum</td>\n",
       "      <td>11917</td>\n",
       "    </tr>\n",
       "    <tr>\n",
       "      <th>1</th>\n",
       "      <td>london</td>\n",
       "      <td>9706</td>\n",
       "    </tr>\n",
       "    <tr>\n",
       "      <th>2</th>\n",
       "      <td>british</td>\n",
       "      <td>9344</td>\n",
       "    </tr>\n",
       "    <tr>\n",
       "      <th>3</th>\n",
       "      <td>http</td>\n",
       "      <td>5815</td>\n",
       "    </tr>\n",
       "    <tr>\n",
       "      <th>4</th>\n",
       "      <td>amp</td>\n",
       "      <td>2585</td>\n",
       "    </tr>\n",
       "    <tr>\n",
       "      <th>...</th>\n",
       "      <td>...</td>\n",
       "      <td>...</td>\n",
       "    </tr>\n",
       "    <tr>\n",
       "      <th>80778</th>\n",
       "      <td>atcypznmjn</td>\n",
       "      <td>1</td>\n",
       "    </tr>\n",
       "    <tr>\n",
       "      <th>80779</th>\n",
       "      <td>juststopoil</td>\n",
       "      <td>1</td>\n",
       "    </tr>\n",
       "    <tr>\n",
       "      <th>80780</th>\n",
       "      <td>justtwothings</td>\n",
       "      <td>1</td>\n",
       "    </tr>\n",
       "    <tr>\n",
       "      <th>80781</th>\n",
       "      <td>jusy</td>\n",
       "      <td>1</td>\n",
       "    </tr>\n",
       "    <tr>\n",
       "      <th>80782</th>\n",
       "      <td>𝘮𝘰𝘯𝘥𝘦</td>\n",
       "      <td>1</td>\n",
       "    </tr>\n",
       "  </tbody>\n",
       "</table>\n",
       "<p>80783 rows × 2 columns</p>\n",
       "</div>"
      ],
      "text/plain": [
       "                word   freq\n",
       "0             museum  11917\n",
       "1             london   9706\n",
       "2            british   9344\n",
       "3               http   5815\n",
       "4                amp   2585\n",
       "...              ...    ...\n",
       "80778     atcypznmjn      1\n",
       "80779    juststopoil      1\n",
       "80780  justtwothings      1\n",
       "80781           jusy      1\n",
       "80782          𝘮𝘰𝘯𝘥𝘦      1\n",
       "\n",
       "[80783 rows x 2 columns]"
      ]
     },
     "execution_count": 23,
     "metadata": {},
     "output_type": "execute_result"
    }
   ],
   "source": [
    "df_vocab"
   ]
  },
  {
   "cell_type": "markdown",
   "metadata": {},
   "source": [
    "### BERTopic\n",
    "\n",
    "install BERTopic "
   ]
  },
  {
   "cell_type": "code",
   "execution_count": 24,
   "metadata": {},
   "outputs": [
    {
     "name": "stdout",
     "output_type": "stream",
     "text": [
      "Requirement already satisfied: bertopic in /Users/brightcircle/miniconda3/lib/python3.9/site-packages (0.12.0)\n",
      "Requirement already satisfied: numpy>=1.20.0 in /Users/brightcircle/miniconda3/lib/python3.9/site-packages (from bertopic) (1.22.3)\n",
      "Requirement already satisfied: tqdm>=4.41.1 in /Users/brightcircle/miniconda3/lib/python3.9/site-packages (from bertopic) (4.62.3)\n",
      "Requirement already satisfied: umap-learn>=0.5.0 in /Users/brightcircle/miniconda3/lib/python3.9/site-packages (from bertopic) (0.5.3)\n",
      "Requirement already satisfied: scikit-learn>=0.22.2.post1 in /Users/brightcircle/miniconda3/lib/python3.9/site-packages (from bertopic) (1.0.2)\n",
      "Requirement already satisfied: pyyaml<6.0 in /Users/brightcircle/miniconda3/lib/python3.9/site-packages (from bertopic) (5.4.1)\n",
      "Requirement already satisfied: sentence-transformers>=0.4.1 in /Users/brightcircle/miniconda3/lib/python3.9/site-packages (from bertopic) (2.2.2)\n",
      "Requirement already satisfied: plotly>=4.7.0 in /Users/brightcircle/miniconda3/lib/python3.9/site-packages (from bertopic) (5.10.0)\n",
      "Requirement already satisfied: pandas>=1.1.5 in /Users/brightcircle/miniconda3/lib/python3.9/site-packages (from bertopic) (1.4.1)\n",
      "Requirement already satisfied: hdbscan>=0.8.28 in /Users/brightcircle/miniconda3/lib/python3.9/site-packages (from bertopic) (0.8.28)\n",
      "Requirement already satisfied: scipy>=1.0 in /Users/brightcircle/miniconda3/lib/python3.9/site-packages (from hdbscan>=0.8.28->bertopic) (1.8.0)\n",
      "Requirement already satisfied: cython>=0.27 in /Users/brightcircle/miniconda3/lib/python3.9/site-packages (from hdbscan>=0.8.28->bertopic) (0.29.30)\n",
      "Requirement already satisfied: joblib>=1.0 in /Users/brightcircle/miniconda3/lib/python3.9/site-packages (from hdbscan>=0.8.28->bertopic) (1.1.0)\n",
      "Requirement already satisfied: pytz>=2020.1 in /Users/brightcircle/miniconda3/lib/python3.9/site-packages (from pandas>=1.1.5->bertopic) (2022.1)\n",
      "Requirement already satisfied: python-dateutil>=2.8.1 in /Users/brightcircle/miniconda3/lib/python3.9/site-packages (from pandas>=1.1.5->bertopic) (2.8.2)\n",
      "Requirement already satisfied: tenacity>=6.2.0 in /Users/brightcircle/miniconda3/lib/python3.9/site-packages (from plotly>=4.7.0->bertopic) (8.1.0)\n",
      "Requirement already satisfied: threadpoolctl>=2.0.0 in /Users/brightcircle/miniconda3/lib/python3.9/site-packages (from scikit-learn>=0.22.2.post1->bertopic) (3.1.0)\n",
      "Requirement already satisfied: torchvision in /Users/brightcircle/miniconda3/lib/python3.9/site-packages (from sentence-transformers>=0.4.1->bertopic) (0.12.0)\n",
      "Requirement already satisfied: sentencepiece in /Users/brightcircle/miniconda3/lib/python3.9/site-packages (from sentence-transformers>=0.4.1->bertopic) (0.1.96)\n",
      "Requirement already satisfied: nltk in /Users/brightcircle/miniconda3/lib/python3.9/site-packages (from sentence-transformers>=0.4.1->bertopic) (3.7)\n",
      "Requirement already satisfied: huggingface-hub>=0.4.0 in /Users/brightcircle/miniconda3/lib/python3.9/site-packages (from sentence-transformers>=0.4.1->bertopic) (0.4.0)\n",
      "Requirement already satisfied: transformers<5.0.0,>=4.6.0 in /Users/brightcircle/miniconda3/lib/python3.9/site-packages (from sentence-transformers>=0.4.1->bertopic) (4.17.0)\n",
      "Requirement already satisfied: torch>=1.6.0 in /Users/brightcircle/miniconda3/lib/python3.9/site-packages (from sentence-transformers>=0.4.1->bertopic) (1.11.0)\n",
      "Requirement already satisfied: pynndescent>=0.5 in /Users/brightcircle/miniconda3/lib/python3.9/site-packages (from umap-learn>=0.5.0->bertopic) (0.5.7)\n",
      "Requirement already satisfied: numba>=0.49 in /Users/brightcircle/miniconda3/lib/python3.9/site-packages (from umap-learn>=0.5.0->bertopic) (0.56.3)\n",
      "Requirement already satisfied: filelock in /Users/brightcircle/miniconda3/lib/python3.9/site-packages (from huggingface-hub>=0.4.0->sentence-transformers>=0.4.1->bertopic) (3.6.0)\n",
      "Requirement already satisfied: packaging>=20.9 in /Users/brightcircle/miniconda3/lib/python3.9/site-packages (from huggingface-hub>=0.4.0->sentence-transformers>=0.4.1->bertopic) (21.3)\n",
      "Requirement already satisfied: requests in /Users/brightcircle/miniconda3/lib/python3.9/site-packages (from huggingface-hub>=0.4.0->sentence-transformers>=0.4.1->bertopic) (2.27.1)\n",
      "Requirement already satisfied: typing-extensions>=3.7.4.3 in /Users/brightcircle/miniconda3/lib/python3.9/site-packages (from huggingface-hub>=0.4.0->sentence-transformers>=0.4.1->bertopic) (4.1.1)\n",
      "Requirement already satisfied: setuptools in /Users/brightcircle/miniconda3/lib/python3.9/site-packages (from numba>=0.49->umap-learn>=0.5.0->bertopic) (58.0.4)\n",
      "Requirement already satisfied: llvmlite<0.40,>=0.39.0dev0 in /Users/brightcircle/miniconda3/lib/python3.9/site-packages (from numba>=0.49->umap-learn>=0.5.0->bertopic) (0.39.1)\n",
      "Requirement already satisfied: six>=1.5 in /Users/brightcircle/miniconda3/lib/python3.9/site-packages (from python-dateutil>=2.8.1->pandas>=1.1.5->bertopic) (1.16.0)\n",
      "Requirement already satisfied: regex!=2019.12.17 in /Users/brightcircle/miniconda3/lib/python3.9/site-packages (from transformers<5.0.0,>=4.6.0->sentence-transformers>=0.4.1->bertopic) (2022.3.15)\n",
      "Requirement already satisfied: sacremoses in /Users/brightcircle/miniconda3/lib/python3.9/site-packages (from transformers<5.0.0,>=4.6.0->sentence-transformers>=0.4.1->bertopic) (0.0.49)\n",
      "Requirement already satisfied: tokenizers!=0.11.3,>=0.11.1 in /Users/brightcircle/miniconda3/lib/python3.9/site-packages (from transformers<5.0.0,>=4.6.0->sentence-transformers>=0.4.1->bertopic) (0.12.0)\n",
      "Requirement already satisfied: click in /Users/brightcircle/miniconda3/lib/python3.9/site-packages (from nltk->sentence-transformers>=0.4.1->bertopic) (8.1.1)\n",
      "Requirement already satisfied: pillow!=8.3.*,>=5.3.0 in /Users/brightcircle/miniconda3/lib/python3.9/site-packages (from torchvision->sentence-transformers>=0.4.1->bertopic) (9.1.0)\n",
      "Requirement already satisfied: pyparsing!=3.0.5,>=2.0.2 in /Users/brightcircle/miniconda3/lib/python3.9/site-packages (from packaging>=20.9->huggingface-hub>=0.4.0->sentence-transformers>=0.4.1->bertopic) (3.0.7)\n",
      "Requirement already satisfied: urllib3<1.27,>=1.21.1 in /Users/brightcircle/miniconda3/lib/python3.9/site-packages (from requests->huggingface-hub>=0.4.0->sentence-transformers>=0.4.1->bertopic) (1.26.7)\n",
      "Requirement already satisfied: idna<4,>=2.5 in /Users/brightcircle/miniconda3/lib/python3.9/site-packages (from requests->huggingface-hub>=0.4.0->sentence-transformers>=0.4.1->bertopic) (3.3)\n",
      "Requirement already satisfied: certifi>=2017.4.17 in /Users/brightcircle/miniconda3/lib/python3.9/site-packages (from requests->huggingface-hub>=0.4.0->sentence-transformers>=0.4.1->bertopic) (2021.10.8)\n",
      "Requirement already satisfied: charset-normalizer~=2.0.0 in /Users/brightcircle/miniconda3/lib/python3.9/site-packages (from requests->huggingface-hub>=0.4.0->sentence-transformers>=0.4.1->bertopic) (2.0.4)\n"
     ]
    }
   ],
   "source": [
    "!pip install bertopic"
   ]
  },
  {
   "cell_type": "markdown",
   "metadata": {},
   "source": [
    "### BERTopic with K-means and CountVectorizer"
   ]
  },
  {
   "cell_type": "code",
   "execution_count": 26,
   "metadata": {},
   "outputs": [
    {
     "name": "stderr",
     "output_type": "stream",
     "text": [
      "OMP: Info #271: omp_set_nested routine deprecated, please use omp_set_max_active_levels instead.\n"
     ]
    }
   ],
   "source": [
    "# \n",
    "from bertopic import BERTopic\n",
    "from sklearn.cluster import KMeans #By using KMeans as clustering, we can exclude outlier topics\n",
    "from sklearn.feature_extraction.text import CountVectorizer # remove stopwords with CountVectorizer\n",
    "docs =  df['text'].to_list() \n",
    "\n",
    "\n",
    "vectorizer_model = CountVectorizer(stop_words=spacy_stopwords, max_df=0.9)\n",
    "cluster_model = KMeans(n_clusters=10) \n",
    "topic_model = BERTopic(hdbscan_model=cluster_model, vectorizer_model=vectorizer_model, nr_topics='auto', calculate_probabilities=True)\n",
    "topics, probs = topic_model.fit_transform(docs)"
   ]
  },
  {
   "cell_type": "code",
   "execution_count": 27,
   "metadata": {},
   "outputs": [
    {
     "data": {
      "text/html": [
       "<div>\n",
       "<style scoped>\n",
       "    .dataframe tbody tr th:only-of-type {\n",
       "        vertical-align: middle;\n",
       "    }\n",
       "\n",
       "    .dataframe tbody tr th {\n",
       "        vertical-align: top;\n",
       "    }\n",
       "\n",
       "    .dataframe thead th {\n",
       "        text-align: right;\n",
       "    }\n",
       "</style>\n",
       "<table border=\"1\" class=\"dataframe\">\n",
       "  <thead>\n",
       "    <tr style=\"text-align: right;\">\n",
       "      <th></th>\n",
       "      <th>Topic</th>\n",
       "      <th>Count</th>\n",
       "      <th>Name</th>\n",
       "    </tr>\n",
       "  </thead>\n",
       "  <tbody>\n",
       "    <tr>\n",
       "      <th>0</th>\n",
       "      <td>0</td>\n",
       "      <td>8420</td>\n",
       "      <td>0_museum_british_london_architecture</td>\n",
       "    </tr>\n",
       "    <tr>\n",
       "      <th>1</th>\n",
       "      <td>1</td>\n",
       "      <td>6866</td>\n",
       "      <td>1_london_amp_thatmuse_history</td>\n",
       "    </tr>\n",
       "    <tr>\n",
       "      <th>2</th>\n",
       "      <td>2</td>\n",
       "      <td>6441</td>\n",
       "      <td>2_art_museum_british_london</td>\n",
       "    </tr>\n",
       "    <tr>\n",
       "      <th>3</th>\n",
       "      <td>3</td>\n",
       "      <td>3823</td>\n",
       "      <td>3_egypt_egyptian_museum_british</td>\n",
       "    </tr>\n",
       "    <tr>\n",
       "      <th>4</th>\n",
       "      <td>4</td>\n",
       "      <td>3058</td>\n",
       "      <td>4_bp_stolen_troy_british</td>\n",
       "    </tr>\n",
       "    <tr>\n",
       "      <th>5</th>\n",
       "      <td>5</td>\n",
       "      <td>2447</td>\n",
       "      <td>5_parthenon_greece_marbles_athens</td>\n",
       "    </tr>\n",
       "    <tr>\n",
       "      <th>6</th>\n",
       "      <td>6</td>\n",
       "      <td>1536</td>\n",
       "      <td>6_blackhistory_tour_book_place</td>\n",
       "    </tr>\n",
       "    <tr>\n",
       "      <th>7</th>\n",
       "      <td>7</td>\n",
       "      <td>1185</td>\n",
       "      <td>7_manga_hokusai_japan_japanese</td>\n",
       "    </tr>\n",
       "    <tr>\n",
       "      <th>8</th>\n",
       "      <td>8</td>\n",
       "      <td>664</td>\n",
       "      <td>8_munch_edvardmunch_edvard_booking</td>\n",
       "    </tr>\n",
       "    <tr>\n",
       "      <th>9</th>\n",
       "      <td>9</td>\n",
       "      <td>551</td>\n",
       "      <td>9_climatemarch_bpornotbp_held_provoking</td>\n",
       "    </tr>\n",
       "  </tbody>\n",
       "</table>\n",
       "</div>"
      ],
      "text/plain": [
       "   Topic  Count                                     Name\n",
       "0      0   8420     0_museum_british_london_architecture\n",
       "1      1   6866            1_london_amp_thatmuse_history\n",
       "2      2   6441              2_art_museum_british_london\n",
       "3      3   3823          3_egypt_egyptian_museum_british\n",
       "4      4   3058                 4_bp_stolen_troy_british\n",
       "5      5   2447        5_parthenon_greece_marbles_athens\n",
       "6      6   1536           6_blackhistory_tour_book_place\n",
       "7      7   1185           7_manga_hokusai_japan_japanese\n",
       "8      8    664       8_munch_edvardmunch_edvard_booking\n",
       "9      9    551  9_climatemarch_bpornotbp_held_provoking"
      ]
     },
     "execution_count": 27,
     "metadata": {},
     "output_type": "execute_result"
    }
   ],
   "source": [
    "# Topic Summary Table\n",
    "topic_model.get_topic_info()"
   ]
  },
  {
   "cell_type": "code",
   "execution_count": 28,
   "metadata": {},
   "outputs": [
    {
     "data": {
      "text/plain": [
       "[('london', 0.05730749564317934),\n",
       " ('amp', 0.02079178956489388),\n",
       " ('thatmuse', 0.014350612565846398),\n",
       " ('history', 0.013955179963467578),\n",
       " ('love', 0.013908397346068677),\n",
       " ('visit', 0.012592871446093263),\n",
       " ('new', 0.012340712731907812),\n",
       " ('like', 0.01173891919789129),\n",
       " ('british', 0.011620502949381871),\n",
       " ('uk', 0.011452152113387466)]"
      ]
     },
     "execution_count": 28,
     "metadata": {},
     "output_type": "execute_result"
    }
   ],
   "source": [
    "# Searching words for each topic\n",
    "topic_model.get_topic(1)"
   ]
  },
  {
   "cell_type": "code",
   "execution_count": 29,
   "metadata": {},
   "outputs": [],
   "source": [
    "\n",
    "df['topic']=topics"
   ]
  },
  {
   "cell_type": "code",
   "execution_count": 31,
   "metadata": {},
   "outputs": [
    {
     "data": {
      "text/html": [
       "<div>\n",
       "<style scoped>\n",
       "    .dataframe tbody tr th:only-of-type {\n",
       "        vertical-align: middle;\n",
       "    }\n",
       "\n",
       "    .dataframe tbody tr th {\n",
       "        vertical-align: top;\n",
       "    }\n",
       "\n",
       "    .dataframe thead th {\n",
       "        text-align: right;\n",
       "    }\n",
       "</style>\n",
       "<table border=\"1\" class=\"dataframe\">\n",
       "  <thead>\n",
       "    <tr style=\"text-align: right;\">\n",
       "      <th></th>\n",
       "      <th>date</th>\n",
       "      <th>text</th>\n",
       "      <th>likes</th>\n",
       "      <th>quote</th>\n",
       "      <th>reply</th>\n",
       "      <th>retweet</th>\n",
       "      <th>query</th>\n",
       "      <th>topic</th>\n",
       "    </tr>\n",
       "  </thead>\n",
       "  <tbody>\n",
       "    <tr>\n",
       "      <th>0</th>\n",
       "      <td>2014-06</td>\n",
       "      <td>Follow @EY_Foundation launching this Wed #brit...</td>\n",
       "      <td>1</td>\n",
       "      <td>0</td>\n",
       "      <td>1</td>\n",
       "      <td>0</td>\n",
       "      <td>#britishmuseum</td>\n",
       "      <td>1</td>\n",
       "    </tr>\n",
       "    <tr>\n",
       "      <th>1</th>\n",
       "      <td>2014-06</td>\n",
       "      <td>Bronze votive statue Etrusco-Roman 200-100BC S...</td>\n",
       "      <td>0</td>\n",
       "      <td>0</td>\n",
       "      <td>0</td>\n",
       "      <td>0</td>\n",
       "      <td>#britishmuseum</td>\n",
       "      <td>2</td>\n",
       "    </tr>\n",
       "    <tr>\n",
       "      <th>2</th>\n",
       "      <td>2014-06</td>\n",
       "      <td>Yesterday I spent the full day at the #british...</td>\n",
       "      <td>5</td>\n",
       "      <td>0</td>\n",
       "      <td>0</td>\n",
       "      <td>2</td>\n",
       "      <td>#britishmuseum</td>\n",
       "      <td>1</td>\n",
       "    </tr>\n",
       "    <tr>\n",
       "      <th>3</th>\n",
       "      <td>2014-06</td>\n",
       "      <td>#Britishmuseum #crieale @ British Museum http:...</td>\n",
       "      <td>0</td>\n",
       "      <td>0</td>\n",
       "      <td>0</td>\n",
       "      <td>0</td>\n",
       "      <td>#britishmuseum</td>\n",
       "      <td>0</td>\n",
       "    </tr>\n",
       "    <tr>\n",
       "      <th>4</th>\n",
       "      <td>2014-06</td>\n",
       "      <td>Judy from #BritishMuseum is running a drop-in ...</td>\n",
       "      <td>0</td>\n",
       "      <td>0</td>\n",
       "      <td>0</td>\n",
       "      <td>0</td>\n",
       "      <td>#britishmuseum</td>\n",
       "      <td>1</td>\n",
       "    </tr>\n",
       "    <tr>\n",
       "      <th>...</th>\n",
       "      <td>...</td>\n",
       "      <td>...</td>\n",
       "      <td>...</td>\n",
       "      <td>...</td>\n",
       "      <td>...</td>\n",
       "      <td>...</td>\n",
       "      <td>...</td>\n",
       "      <td>...</td>\n",
       "    </tr>\n",
       "    <tr>\n",
       "      <th>34986</th>\n",
       "      <td>2022-06</td>\n",
       "      <td>My protest at the British Museum 4 years ago t...</td>\n",
       "      <td>0</td>\n",
       "      <td>0</td>\n",
       "      <td>0</td>\n",
       "      <td>0</td>\n",
       "      <td>#britishmuseum</td>\n",
       "      <td>5</td>\n",
       "    </tr>\n",
       "    <tr>\n",
       "      <th>34987</th>\n",
       "      <td>2022-06</td>\n",
       "      <td>@ivan_ruggeri The main block and facade of the...</td>\n",
       "      <td>0</td>\n",
       "      <td>0</td>\n",
       "      <td>0</td>\n",
       "      <td>0</td>\n",
       "      <td>#britishmuseum</td>\n",
       "      <td>0</td>\n",
       "    </tr>\n",
       "    <tr>\n",
       "      <th>34988</th>\n",
       "      <td>2022-06</td>\n",
       "      <td>Demands are growing for #BritishMuseum to retu...</td>\n",
       "      <td>0</td>\n",
       "      <td>0</td>\n",
       "      <td>0</td>\n",
       "      <td>0</td>\n",
       "      <td>#britishmuseum</td>\n",
       "      <td>5</td>\n",
       "    </tr>\n",
       "    <tr>\n",
       "      <th>34989</th>\n",
       "      <td>2022-06</td>\n",
       "      <td>Now at British Museum again to taking new pict...</td>\n",
       "      <td>1</td>\n",
       "      <td>0</td>\n",
       "      <td>0</td>\n",
       "      <td>1</td>\n",
       "      <td>#britishmuseum</td>\n",
       "      <td>0</td>\n",
       "    </tr>\n",
       "    <tr>\n",
       "      <th>34990</th>\n",
       "      <td>2022-06</td>\n",
       "      <td>#India  Akademi presents APOTHEOSIS: Indian cl...</td>\n",
       "      <td>1</td>\n",
       "      <td>0</td>\n",
       "      <td>0</td>\n",
       "      <td>0</td>\n",
       "      <td>#britishmuseum</td>\n",
       "      <td>2</td>\n",
       "    </tr>\n",
       "  </tbody>\n",
       "</table>\n",
       "<p>34991 rows × 8 columns</p>\n",
       "</div>"
      ],
      "text/plain": [
       "          date                                               text  likes  \\\n",
       "0      2014-06  Follow @EY_Foundation launching this Wed #brit...      1   \n",
       "1      2014-06  Bronze votive statue Etrusco-Roman 200-100BC S...      0   \n",
       "2      2014-06  Yesterday I spent the full day at the #british...      5   \n",
       "3      2014-06  #Britishmuseum #crieale @ British Museum http:...      0   \n",
       "4      2014-06  Judy from #BritishMuseum is running a drop-in ...      0   \n",
       "...        ...                                                ...    ...   \n",
       "34986  2022-06  My protest at the British Museum 4 years ago t...      0   \n",
       "34987  2022-06  @ivan_ruggeri The main block and facade of the...      0   \n",
       "34988  2022-06  Demands are growing for #BritishMuseum to retu...      0   \n",
       "34989  2022-06  Now at British Museum again to taking new pict...      1   \n",
       "34990  2022-06  #India  Akademi presents APOTHEOSIS: Indian cl...      1   \n",
       "\n",
       "       quote  reply  retweet           query  topic  \n",
       "0          0      1        0  #britishmuseum      1  \n",
       "1          0      0        0  #britishmuseum      2  \n",
       "2          0      0        2  #britishmuseum      1  \n",
       "3          0      0        0  #britishmuseum      0  \n",
       "4          0      0        0  #britishmuseum      1  \n",
       "...      ...    ...      ...             ...    ...  \n",
       "34986      0      0        0  #britishmuseum      5  \n",
       "34987      0      0        0  #britishmuseum      0  \n",
       "34988      0      0        0  #britishmuseum      5  \n",
       "34989      0      0        1  #britishmuseum      0  \n",
       "34990      0      0        0  #britishmuseum      2  \n",
       "\n",
       "[34991 rows x 8 columns]"
      ]
     },
     "execution_count": 31,
     "metadata": {},
     "output_type": "execute_result"
    }
   ],
   "source": [
    "df"
   ]
  },
  {
   "cell_type": "code",
   "execution_count": 30,
   "metadata": {},
   "outputs": [
    {
     "data": {
      "application/vnd.plotly.v1+json": {
       "config": {
        "plotlyServerURL": "https://plot.ly"
       },
       "data": [
        {
         "customdata": [
          [
           0,
           "museum | british | london | architecture | uk",
           8420
          ],
          [
           1,
           "london | amp | thatmuse | history | love",
           6866
          ],
          [
           2,
           "art | museum | british | london | exhibition",
           6441
          ],
          [
           3,
           "egypt | egyptian | museum | british | london",
           3823
          ],
          [
           4,
           "bp | stolen | troy | british | looted",
           3058
          ],
          [
           5,
           "parthenon | greece | marbles | athens | acropolismuseum",
           2447
          ],
          [
           6,
           "blackhistory | tour | book | place | essential",
           1536
          ],
          [
           7,
           "manga | hokusai | japan | japanese | exhibition",
           1185
          ],
          [
           8,
           "munch | edvardmunch | edvard | booking | blackhistory",
           664
          ],
          [
           9,
           "climatemarch | bpornotbp | held | provoking | performance",
           551
          ]
         ],
         "hovertemplate": "<b>Topic %{customdata[0]}</b><br>Words: %{customdata[1]}<br>Size: %{customdata[2]}",
         "legendgroup": "",
         "marker": {
          "color": "#B0BEC5",
          "line": {
           "color": "DarkSlateGrey",
           "width": 2
          },
          "size": [
           8420,
           6866,
           6441,
           3823,
           3058,
           2447,
           1536,
           1185,
           664,
           551
          ],
          "sizemode": "area",
          "sizeref": 5.2625,
          "symbol": "circle"
         },
         "mode": "markers",
         "name": "",
         "orientation": "v",
         "showlegend": false,
         "type": "scatter",
         "x": [
          4.570918560028076,
          4.034399509429932,
          10.627034187316895,
          10.411141395568848,
          3.4420056343078613,
          3.3933310508728027,
          2.576829433441162,
          2.9014475345611572,
          1.8566274642944336,
          2.8911421298980713
         ],
         "xaxis": "x",
         "y": [
          -4.8262104988098145,
          -4.971893787384033,
          9.070253372192383,
          8.845888137817383,
          -4.583058834075928,
          -3.9795072078704834,
          2.214059591293335,
          -2.55019211769104,
          1.8621758222579956,
          1.8245539665222168
         ],
         "yaxis": "y"
        }
       ],
       "layout": {
        "annotations": [
         {
          "showarrow": false,
          "text": "D1",
          "x": 1.5781333446502686,
          "y": 2.356556761264801,
          "yshift": 10
         },
         {
          "showarrow": false,
          "text": "D2",
          "x": 6.899611330032348,
          "xshift": 10,
          "y": 10.43079137802124
         }
        ],
        "height": 650,
        "hoverlabel": {
         "bgcolor": "white",
         "font": {
          "family": "Rockwell",
          "size": 16
         }
        },
        "legend": {
         "itemsizing": "constant",
         "tracegroupgap": 0
        },
        "margin": {
         "t": 60
        },
        "shapes": [
         {
          "line": {
           "color": "#CFD8DC",
           "width": 2
          },
          "type": "line",
          "x0": 6.899611330032348,
          "x1": 6.899611330032348,
          "y0": -5.7176778554916385,
          "y1": 10.43079137802124
         },
         {
          "line": {
           "color": "#9E9E9E",
           "width": 2
          },
          "type": "line",
          "x0": 1.5781333446502686,
          "x1": 12.221089315414428,
          "y0": 2.356556761264801,
          "y1": 2.356556761264801
         }
        ],
        "sliders": [
         {
          "active": 0,
          "pad": {
           "t": 50
          },
          "steps": [
           {
            "args": [
             {
              "marker.color": [
               [
                "red",
                "#B0BEC5",
                "#B0BEC5",
                "#B0BEC5",
                "#B0BEC5",
                "#B0BEC5",
                "#B0BEC5",
                "#B0BEC5",
                "#B0BEC5",
                "#B0BEC5"
               ]
              ]
             }
            ],
            "label": "Topic 0",
            "method": "update"
           },
           {
            "args": [
             {
              "marker.color": [
               [
                "#B0BEC5",
                "red",
                "#B0BEC5",
                "#B0BEC5",
                "#B0BEC5",
                "#B0BEC5",
                "#B0BEC5",
                "#B0BEC5",
                "#B0BEC5",
                "#B0BEC5"
               ]
              ]
             }
            ],
            "label": "Topic 1",
            "method": "update"
           },
           {
            "args": [
             {
              "marker.color": [
               [
                "#B0BEC5",
                "#B0BEC5",
                "red",
                "#B0BEC5",
                "#B0BEC5",
                "#B0BEC5",
                "#B0BEC5",
                "#B0BEC5",
                "#B0BEC5",
                "#B0BEC5"
               ]
              ]
             }
            ],
            "label": "Topic 2",
            "method": "update"
           },
           {
            "args": [
             {
              "marker.color": [
               [
                "#B0BEC5",
                "#B0BEC5",
                "#B0BEC5",
                "red",
                "#B0BEC5",
                "#B0BEC5",
                "#B0BEC5",
                "#B0BEC5",
                "#B0BEC5",
                "#B0BEC5"
               ]
              ]
             }
            ],
            "label": "Topic 3",
            "method": "update"
           },
           {
            "args": [
             {
              "marker.color": [
               [
                "#B0BEC5",
                "#B0BEC5",
                "#B0BEC5",
                "#B0BEC5",
                "red",
                "#B0BEC5",
                "#B0BEC5",
                "#B0BEC5",
                "#B0BEC5",
                "#B0BEC5"
               ]
              ]
             }
            ],
            "label": "Topic 4",
            "method": "update"
           },
           {
            "args": [
             {
              "marker.color": [
               [
                "#B0BEC5",
                "#B0BEC5",
                "#B0BEC5",
                "#B0BEC5",
                "#B0BEC5",
                "red",
                "#B0BEC5",
                "#B0BEC5",
                "#B0BEC5",
                "#B0BEC5"
               ]
              ]
             }
            ],
            "label": "Topic 5",
            "method": "update"
           },
           {
            "args": [
             {
              "marker.color": [
               [
                "#B0BEC5",
                "#B0BEC5",
                "#B0BEC5",
                "#B0BEC5",
                "#B0BEC5",
                "#B0BEC5",
                "red",
                "#B0BEC5",
                "#B0BEC5",
                "#B0BEC5"
               ]
              ]
             }
            ],
            "label": "Topic 6",
            "method": "update"
           },
           {
            "args": [
             {
              "marker.color": [
               [
                "#B0BEC5",
                "#B0BEC5",
                "#B0BEC5",
                "#B0BEC5",
                "#B0BEC5",
                "#B0BEC5",
                "#B0BEC5",
                "red",
                "#B0BEC5",
                "#B0BEC5"
               ]
              ]
             }
            ],
            "label": "Topic 7",
            "method": "update"
           },
           {
            "args": [
             {
              "marker.color": [
               [
                "#B0BEC5",
                "#B0BEC5",
                "#B0BEC5",
                "#B0BEC5",
                "#B0BEC5",
                "#B0BEC5",
                "#B0BEC5",
                "#B0BEC5",
                "red",
                "#B0BEC5"
               ]
              ]
             }
            ],
            "label": "Topic 8",
            "method": "update"
           },
           {
            "args": [
             {
              "marker.color": [
               [
                "#B0BEC5",
                "#B0BEC5",
                "#B0BEC5",
                "#B0BEC5",
                "#B0BEC5",
                "#B0BEC5",
                "#B0BEC5",
                "#B0BEC5",
                "#B0BEC5",
                "red"
               ]
              ]
             }
            ],
            "label": "Topic 9",
            "method": "update"
           }
          ]
         }
        ],
        "template": {
         "data": {
          "bar": [
           {
            "error_x": {
             "color": "rgb(36,36,36)"
            },
            "error_y": {
             "color": "rgb(36,36,36)"
            },
            "marker": {
             "line": {
              "color": "white",
              "width": 0.5
             },
             "pattern": {
              "fillmode": "overlay",
              "size": 10,
              "solidity": 0.2
             }
            },
            "type": "bar"
           }
          ],
          "barpolar": [
           {
            "marker": {
             "line": {
              "color": "white",
              "width": 0.5
             },
             "pattern": {
              "fillmode": "overlay",
              "size": 10,
              "solidity": 0.2
             }
            },
            "type": "barpolar"
           }
          ],
          "carpet": [
           {
            "aaxis": {
             "endlinecolor": "rgb(36,36,36)",
             "gridcolor": "white",
             "linecolor": "white",
             "minorgridcolor": "white",
             "startlinecolor": "rgb(36,36,36)"
            },
            "baxis": {
             "endlinecolor": "rgb(36,36,36)",
             "gridcolor": "white",
             "linecolor": "white",
             "minorgridcolor": "white",
             "startlinecolor": "rgb(36,36,36)"
            },
            "type": "carpet"
           }
          ],
          "choropleth": [
           {
            "colorbar": {
             "outlinewidth": 1,
             "tickcolor": "rgb(36,36,36)",
             "ticks": "outside"
            },
            "type": "choropleth"
           }
          ],
          "contour": [
           {
            "colorbar": {
             "outlinewidth": 1,
             "tickcolor": "rgb(36,36,36)",
             "ticks": "outside"
            },
            "colorscale": [
             [
              0,
              "#440154"
             ],
             [
              0.1111111111111111,
              "#482878"
             ],
             [
              0.2222222222222222,
              "#3e4989"
             ],
             [
              0.3333333333333333,
              "#31688e"
             ],
             [
              0.4444444444444444,
              "#26828e"
             ],
             [
              0.5555555555555556,
              "#1f9e89"
             ],
             [
              0.6666666666666666,
              "#35b779"
             ],
             [
              0.7777777777777778,
              "#6ece58"
             ],
             [
              0.8888888888888888,
              "#b5de2b"
             ],
             [
              1,
              "#fde725"
             ]
            ],
            "type": "contour"
           }
          ],
          "contourcarpet": [
           {
            "colorbar": {
             "outlinewidth": 1,
             "tickcolor": "rgb(36,36,36)",
             "ticks": "outside"
            },
            "type": "contourcarpet"
           }
          ],
          "heatmap": [
           {
            "colorbar": {
             "outlinewidth": 1,
             "tickcolor": "rgb(36,36,36)",
             "ticks": "outside"
            },
            "colorscale": [
             [
              0,
              "#440154"
             ],
             [
              0.1111111111111111,
              "#482878"
             ],
             [
              0.2222222222222222,
              "#3e4989"
             ],
             [
              0.3333333333333333,
              "#31688e"
             ],
             [
              0.4444444444444444,
              "#26828e"
             ],
             [
              0.5555555555555556,
              "#1f9e89"
             ],
             [
              0.6666666666666666,
              "#35b779"
             ],
             [
              0.7777777777777778,
              "#6ece58"
             ],
             [
              0.8888888888888888,
              "#b5de2b"
             ],
             [
              1,
              "#fde725"
             ]
            ],
            "type": "heatmap"
           }
          ],
          "heatmapgl": [
           {
            "colorbar": {
             "outlinewidth": 1,
             "tickcolor": "rgb(36,36,36)",
             "ticks": "outside"
            },
            "colorscale": [
             [
              0,
              "#440154"
             ],
             [
              0.1111111111111111,
              "#482878"
             ],
             [
              0.2222222222222222,
              "#3e4989"
             ],
             [
              0.3333333333333333,
              "#31688e"
             ],
             [
              0.4444444444444444,
              "#26828e"
             ],
             [
              0.5555555555555556,
              "#1f9e89"
             ],
             [
              0.6666666666666666,
              "#35b779"
             ],
             [
              0.7777777777777778,
              "#6ece58"
             ],
             [
              0.8888888888888888,
              "#b5de2b"
             ],
             [
              1,
              "#fde725"
             ]
            ],
            "type": "heatmapgl"
           }
          ],
          "histogram": [
           {
            "marker": {
             "line": {
              "color": "white",
              "width": 0.6
             }
            },
            "type": "histogram"
           }
          ],
          "histogram2d": [
           {
            "colorbar": {
             "outlinewidth": 1,
             "tickcolor": "rgb(36,36,36)",
             "ticks": "outside"
            },
            "colorscale": [
             [
              0,
              "#440154"
             ],
             [
              0.1111111111111111,
              "#482878"
             ],
             [
              0.2222222222222222,
              "#3e4989"
             ],
             [
              0.3333333333333333,
              "#31688e"
             ],
             [
              0.4444444444444444,
              "#26828e"
             ],
             [
              0.5555555555555556,
              "#1f9e89"
             ],
             [
              0.6666666666666666,
              "#35b779"
             ],
             [
              0.7777777777777778,
              "#6ece58"
             ],
             [
              0.8888888888888888,
              "#b5de2b"
             ],
             [
              1,
              "#fde725"
             ]
            ],
            "type": "histogram2d"
           }
          ],
          "histogram2dcontour": [
           {
            "colorbar": {
             "outlinewidth": 1,
             "tickcolor": "rgb(36,36,36)",
             "ticks": "outside"
            },
            "colorscale": [
             [
              0,
              "#440154"
             ],
             [
              0.1111111111111111,
              "#482878"
             ],
             [
              0.2222222222222222,
              "#3e4989"
             ],
             [
              0.3333333333333333,
              "#31688e"
             ],
             [
              0.4444444444444444,
              "#26828e"
             ],
             [
              0.5555555555555556,
              "#1f9e89"
             ],
             [
              0.6666666666666666,
              "#35b779"
             ],
             [
              0.7777777777777778,
              "#6ece58"
             ],
             [
              0.8888888888888888,
              "#b5de2b"
             ],
             [
              1,
              "#fde725"
             ]
            ],
            "type": "histogram2dcontour"
           }
          ],
          "mesh3d": [
           {
            "colorbar": {
             "outlinewidth": 1,
             "tickcolor": "rgb(36,36,36)",
             "ticks": "outside"
            },
            "type": "mesh3d"
           }
          ],
          "parcoords": [
           {
            "line": {
             "colorbar": {
              "outlinewidth": 1,
              "tickcolor": "rgb(36,36,36)",
              "ticks": "outside"
             }
            },
            "type": "parcoords"
           }
          ],
          "pie": [
           {
            "automargin": true,
            "type": "pie"
           }
          ],
          "scatter": [
           {
            "fillpattern": {
             "fillmode": "overlay",
             "size": 10,
             "solidity": 0.2
            },
            "type": "scatter"
           }
          ],
          "scatter3d": [
           {
            "line": {
             "colorbar": {
              "outlinewidth": 1,
              "tickcolor": "rgb(36,36,36)",
              "ticks": "outside"
             }
            },
            "marker": {
             "colorbar": {
              "outlinewidth": 1,
              "tickcolor": "rgb(36,36,36)",
              "ticks": "outside"
             }
            },
            "type": "scatter3d"
           }
          ],
          "scattercarpet": [
           {
            "marker": {
             "colorbar": {
              "outlinewidth": 1,
              "tickcolor": "rgb(36,36,36)",
              "ticks": "outside"
             }
            },
            "type": "scattercarpet"
           }
          ],
          "scattergeo": [
           {
            "marker": {
             "colorbar": {
              "outlinewidth": 1,
              "tickcolor": "rgb(36,36,36)",
              "ticks": "outside"
             }
            },
            "type": "scattergeo"
           }
          ],
          "scattergl": [
           {
            "marker": {
             "colorbar": {
              "outlinewidth": 1,
              "tickcolor": "rgb(36,36,36)",
              "ticks": "outside"
             }
            },
            "type": "scattergl"
           }
          ],
          "scattermapbox": [
           {
            "marker": {
             "colorbar": {
              "outlinewidth": 1,
              "tickcolor": "rgb(36,36,36)",
              "ticks": "outside"
             }
            },
            "type": "scattermapbox"
           }
          ],
          "scatterpolar": [
           {
            "marker": {
             "colorbar": {
              "outlinewidth": 1,
              "tickcolor": "rgb(36,36,36)",
              "ticks": "outside"
             }
            },
            "type": "scatterpolar"
           }
          ],
          "scatterpolargl": [
           {
            "marker": {
             "colorbar": {
              "outlinewidth": 1,
              "tickcolor": "rgb(36,36,36)",
              "ticks": "outside"
             }
            },
            "type": "scatterpolargl"
           }
          ],
          "scatterternary": [
           {
            "marker": {
             "colorbar": {
              "outlinewidth": 1,
              "tickcolor": "rgb(36,36,36)",
              "ticks": "outside"
             }
            },
            "type": "scatterternary"
           }
          ],
          "surface": [
           {
            "colorbar": {
             "outlinewidth": 1,
             "tickcolor": "rgb(36,36,36)",
             "ticks": "outside"
            },
            "colorscale": [
             [
              0,
              "#440154"
             ],
             [
              0.1111111111111111,
              "#482878"
             ],
             [
              0.2222222222222222,
              "#3e4989"
             ],
             [
              0.3333333333333333,
              "#31688e"
             ],
             [
              0.4444444444444444,
              "#26828e"
             ],
             [
              0.5555555555555556,
              "#1f9e89"
             ],
             [
              0.6666666666666666,
              "#35b779"
             ],
             [
              0.7777777777777778,
              "#6ece58"
             ],
             [
              0.8888888888888888,
              "#b5de2b"
             ],
             [
              1,
              "#fde725"
             ]
            ],
            "type": "surface"
           }
          ],
          "table": [
           {
            "cells": {
             "fill": {
              "color": "rgb(237,237,237)"
             },
             "line": {
              "color": "white"
             }
            },
            "header": {
             "fill": {
              "color": "rgb(217,217,217)"
             },
             "line": {
              "color": "white"
             }
            },
            "type": "table"
           }
          ]
         },
         "layout": {
          "annotationdefaults": {
           "arrowhead": 0,
           "arrowwidth": 1
          },
          "autotypenumbers": "strict",
          "coloraxis": {
           "colorbar": {
            "outlinewidth": 1,
            "tickcolor": "rgb(36,36,36)",
            "ticks": "outside"
           }
          },
          "colorscale": {
           "diverging": [
            [
             0,
             "rgb(103,0,31)"
            ],
            [
             0.1,
             "rgb(178,24,43)"
            ],
            [
             0.2,
             "rgb(214,96,77)"
            ],
            [
             0.3,
             "rgb(244,165,130)"
            ],
            [
             0.4,
             "rgb(253,219,199)"
            ],
            [
             0.5,
             "rgb(247,247,247)"
            ],
            [
             0.6,
             "rgb(209,229,240)"
            ],
            [
             0.7,
             "rgb(146,197,222)"
            ],
            [
             0.8,
             "rgb(67,147,195)"
            ],
            [
             0.9,
             "rgb(33,102,172)"
            ],
            [
             1,
             "rgb(5,48,97)"
            ]
           ],
           "sequential": [
            [
             0,
             "#440154"
            ],
            [
             0.1111111111111111,
             "#482878"
            ],
            [
             0.2222222222222222,
             "#3e4989"
            ],
            [
             0.3333333333333333,
             "#31688e"
            ],
            [
             0.4444444444444444,
             "#26828e"
            ],
            [
             0.5555555555555556,
             "#1f9e89"
            ],
            [
             0.6666666666666666,
             "#35b779"
            ],
            [
             0.7777777777777778,
             "#6ece58"
            ],
            [
             0.8888888888888888,
             "#b5de2b"
            ],
            [
             1,
             "#fde725"
            ]
           ],
           "sequentialminus": [
            [
             0,
             "#440154"
            ],
            [
             0.1111111111111111,
             "#482878"
            ],
            [
             0.2222222222222222,
             "#3e4989"
            ],
            [
             0.3333333333333333,
             "#31688e"
            ],
            [
             0.4444444444444444,
             "#26828e"
            ],
            [
             0.5555555555555556,
             "#1f9e89"
            ],
            [
             0.6666666666666666,
             "#35b779"
            ],
            [
             0.7777777777777778,
             "#6ece58"
            ],
            [
             0.8888888888888888,
             "#b5de2b"
            ],
            [
             1,
             "#fde725"
            ]
           ]
          },
          "colorway": [
           "#1F77B4",
           "#FF7F0E",
           "#2CA02C",
           "#D62728",
           "#9467BD",
           "#8C564B",
           "#E377C2",
           "#7F7F7F",
           "#BCBD22",
           "#17BECF"
          ],
          "font": {
           "color": "rgb(36,36,36)"
          },
          "geo": {
           "bgcolor": "white",
           "lakecolor": "white",
           "landcolor": "white",
           "showlakes": true,
           "showland": true,
           "subunitcolor": "white"
          },
          "hoverlabel": {
           "align": "left"
          },
          "hovermode": "closest",
          "mapbox": {
           "style": "light"
          },
          "paper_bgcolor": "white",
          "plot_bgcolor": "white",
          "polar": {
           "angularaxis": {
            "gridcolor": "rgb(232,232,232)",
            "linecolor": "rgb(36,36,36)",
            "showgrid": false,
            "showline": true,
            "ticks": "outside"
           },
           "bgcolor": "white",
           "radialaxis": {
            "gridcolor": "rgb(232,232,232)",
            "linecolor": "rgb(36,36,36)",
            "showgrid": false,
            "showline": true,
            "ticks": "outside"
           }
          },
          "scene": {
           "xaxis": {
            "backgroundcolor": "white",
            "gridcolor": "rgb(232,232,232)",
            "gridwidth": 2,
            "linecolor": "rgb(36,36,36)",
            "showbackground": true,
            "showgrid": false,
            "showline": true,
            "ticks": "outside",
            "zeroline": false,
            "zerolinecolor": "rgb(36,36,36)"
           },
           "yaxis": {
            "backgroundcolor": "white",
            "gridcolor": "rgb(232,232,232)",
            "gridwidth": 2,
            "linecolor": "rgb(36,36,36)",
            "showbackground": true,
            "showgrid": false,
            "showline": true,
            "ticks": "outside",
            "zeroline": false,
            "zerolinecolor": "rgb(36,36,36)"
           },
           "zaxis": {
            "backgroundcolor": "white",
            "gridcolor": "rgb(232,232,232)",
            "gridwidth": 2,
            "linecolor": "rgb(36,36,36)",
            "showbackground": true,
            "showgrid": false,
            "showline": true,
            "ticks": "outside",
            "zeroline": false,
            "zerolinecolor": "rgb(36,36,36)"
           }
          },
          "shapedefaults": {
           "fillcolor": "black",
           "line": {
            "width": 0
           },
           "opacity": 0.3
          },
          "ternary": {
           "aaxis": {
            "gridcolor": "rgb(232,232,232)",
            "linecolor": "rgb(36,36,36)",
            "showgrid": false,
            "showline": true,
            "ticks": "outside"
           },
           "baxis": {
            "gridcolor": "rgb(232,232,232)",
            "linecolor": "rgb(36,36,36)",
            "showgrid": false,
            "showline": true,
            "ticks": "outside"
           },
           "bgcolor": "white",
           "caxis": {
            "gridcolor": "rgb(232,232,232)",
            "linecolor": "rgb(36,36,36)",
            "showgrid": false,
            "showline": true,
            "ticks": "outside"
           }
          },
          "title": {
           "x": 0.05
          },
          "xaxis": {
           "automargin": true,
           "gridcolor": "rgb(232,232,232)",
           "linecolor": "rgb(36,36,36)",
           "showgrid": false,
           "showline": true,
           "ticks": "outside",
           "title": {
            "standoff": 15
           },
           "zeroline": false,
           "zerolinecolor": "rgb(36,36,36)"
          },
          "yaxis": {
           "automargin": true,
           "gridcolor": "rgb(232,232,232)",
           "linecolor": "rgb(36,36,36)",
           "showgrid": false,
           "showline": true,
           "ticks": "outside",
           "title": {
            "standoff": 15
           },
           "zeroline": false,
           "zerolinecolor": "rgb(36,36,36)"
          }
         }
        },
        "title": {
         "font": {
          "color": "Black",
          "size": 22
         },
         "text": "<b>Intertopic Distance Map",
         "x": 0.5,
         "xanchor": "center",
         "y": 0.95,
         "yanchor": "top"
        },
        "width": 650,
        "xaxis": {
         "anchor": "y",
         "domain": [
          0,
          1
         ],
         "range": [
          1.5781333446502686,
          12.221089315414428
         ],
         "title": {
          "text": ""
         },
         "visible": false
        },
        "yaxis": {
         "anchor": "x",
         "domain": [
          0,
          1
         ],
         "range": [
          -5.7176778554916385,
          10.43079137802124
         ],
         "title": {
          "text": ""
         },
         "visible": false
        }
       }
      }
     },
     "metadata": {},
     "output_type": "display_data"
    }
   ],
   "source": [
    "topic_model.visualize_topics()"
   ]
  },
  {
   "cell_type": "code",
   "execution_count": 32,
   "metadata": {},
   "outputs": [
    {
     "data": {
      "text/html": [
       "<div>\n",
       "<style scoped>\n",
       "    .dataframe tbody tr th:only-of-type {\n",
       "        vertical-align: middle;\n",
       "    }\n",
       "\n",
       "    .dataframe tbody tr th {\n",
       "        vertical-align: top;\n",
       "    }\n",
       "\n",
       "    .dataframe thead th {\n",
       "        text-align: right;\n",
       "    }\n",
       "</style>\n",
       "<table border=\"1\" class=\"dataframe\">\n",
       "  <thead>\n",
       "    <tr style=\"text-align: right;\">\n",
       "      <th></th>\n",
       "      <th>Topic</th>\n",
       "      <th>Count</th>\n",
       "      <th>Name</th>\n",
       "      <th>words</th>\n",
       "    </tr>\n",
       "  </thead>\n",
       "  <tbody>\n",
       "    <tr>\n",
       "      <th>0</th>\n",
       "      <td>0</td>\n",
       "      <td>8420</td>\n",
       "      <td>0_museum_british_london_architecture</td>\n",
       "      <td>[museum, british, london, architecture, uk, mu...</td>\n",
       "    </tr>\n",
       "    <tr>\n",
       "      <th>1</th>\n",
       "      <td>1</td>\n",
       "      <td>6866</td>\n",
       "      <td>1_london_amp_thatmuse_history</td>\n",
       "      <td>[london, amp, thatmuse, history, love, visit, ...</td>\n",
       "    </tr>\n",
       "    <tr>\n",
       "      <th>2</th>\n",
       "      <td>2</td>\n",
       "      <td>6441</td>\n",
       "      <td>2_art_museum_british_london</td>\n",
       "      <td>[art, museum, british, london, exhibition, his...</td>\n",
       "    </tr>\n",
       "    <tr>\n",
       "      <th>3</th>\n",
       "      <td>3</td>\n",
       "      <td>3823</td>\n",
       "      <td>3_egypt_egyptian_museum_british</td>\n",
       "      <td>[egypt, egyptian, museum, british, london, ros...</td>\n",
       "    </tr>\n",
       "    <tr>\n",
       "      <th>4</th>\n",
       "      <td>4</td>\n",
       "      <td>3058</td>\n",
       "      <td>4_bp_stolen_troy_british</td>\n",
       "      <td>[bp, stolen, troy, british, looted, museum, re...</td>\n",
       "    </tr>\n",
       "    <tr>\n",
       "      <th>5</th>\n",
       "      <td>5</td>\n",
       "      <td>2447</td>\n",
       "      <td>5_parthenon_greece_marbles_athens</td>\n",
       "      <td>[parthenon, greece, marbles, athens, acropolis...</td>\n",
       "    </tr>\n",
       "    <tr>\n",
       "      <th>6</th>\n",
       "      <td>6</td>\n",
       "      <td>1536</td>\n",
       "      <td>6_blackhistory_tour_book_place</td>\n",
       "      <td>[blackhistory, tour, book, place, essential, m...</td>\n",
       "    </tr>\n",
       "    <tr>\n",
       "      <th>7</th>\n",
       "      <td>7</td>\n",
       "      <td>1185</td>\n",
       "      <td>7_manga_hokusai_japan_japanese</td>\n",
       "      <td>[manga, hokusai, japan, japanese, exhibition, ...</td>\n",
       "    </tr>\n",
       "    <tr>\n",
       "      <th>8</th>\n",
       "      <td>8</td>\n",
       "      <td>664</td>\n",
       "      <td>8_munch_edvardmunch_edvard_booking</td>\n",
       "      <td>[munch, edvardmunch, edvard, booking, blackhis...</td>\n",
       "    </tr>\n",
       "    <tr>\n",
       "      <th>9</th>\n",
       "      <td>9</td>\n",
       "      <td>551</td>\n",
       "      <td>9_climatemarch_bpornotbp_held_provoking</td>\n",
       "      <td>[climatemarch, bpornotbp, held, provoking, per...</td>\n",
       "    </tr>\n",
       "  </tbody>\n",
       "</table>\n",
       "</div>"
      ],
      "text/plain": [
       "   Topic  Count                                     Name  \\\n",
       "0      0   8420     0_museum_british_london_architecture   \n",
       "1      1   6866            1_london_amp_thatmuse_history   \n",
       "2      2   6441              2_art_museum_british_london   \n",
       "3      3   3823          3_egypt_egyptian_museum_british   \n",
       "4      4   3058                 4_bp_stolen_troy_british   \n",
       "5      5   2447        5_parthenon_greece_marbles_athens   \n",
       "6      6   1536           6_blackhistory_tour_book_place   \n",
       "7      7   1185           7_manga_hokusai_japan_japanese   \n",
       "8      8    664       8_munch_edvardmunch_edvard_booking   \n",
       "9      9    551  9_climatemarch_bpornotbp_held_provoking   \n",
       "\n",
       "                                               words  \n",
       "0  [museum, british, london, architecture, uk, mu...  \n",
       "1  [london, amp, thatmuse, history, love, visit, ...  \n",
       "2  [art, museum, british, london, exhibition, his...  \n",
       "3  [egypt, egyptian, museum, british, london, ros...  \n",
       "4  [bp, stolen, troy, british, looted, museum, re...  \n",
       "5  [parthenon, greece, marbles, athens, acropolis...  \n",
       "6  [blackhistory, tour, book, place, essential, m...  \n",
       "7  [manga, hokusai, japan, japanese, exhibition, ...  \n",
       "8  [munch, edvardmunch, edvard, booking, blackhis...  \n",
       "9  [climatemarch, bpornotbp, held, provoking, per...  "
      ]
     },
     "execution_count": 32,
     "metadata": {},
     "output_type": "execute_result"
    }
   ],
   "source": [
    "# topic discribtion table\n",
    "\n",
    "topic_df = topic_model.get_topic_info()\n",
    "topic_df['words']=0\n",
    "\n",
    "for idx in topic_df.index :\n",
    "    word_list=[]\n",
    "    for j in range(0,10) :\n",
    "        word_list.append(topic_model.get_topic(idx)[j][0])\n",
    "    topic_df['words'][idx]=word_list\n",
    "\n",
    "topic_df"
   ]
  },
  {
   "cell_type": "code",
   "execution_count": 208,
   "metadata": {},
   "outputs": [],
   "source": []
  },
  {
   "cell_type": "code",
   "execution_count": 33,
   "metadata": {},
   "outputs": [
    {
     "data": {
      "application/vnd.plotly.v1+json": {
       "config": {
        "plotlyServerURL": "https://plot.ly"
       },
       "data": [
        {
         "hoverinfo": "text",
         "hovertext": [
          "<b>Topic 0</b><br>Words: museum, british, london, photo, court",
          "<b>Topic 0</b><br>Words: museum, british, london, uk, architecture",
          "<b>Topic 0</b><br>Words: museum, british, london, architecture, vacaciones",
          "<b>Topic 0</b><br>Words: museum, british, london, photography, carnabysnaps",
          "<b>Topic 0</b><br>Words: museum, british, london, history, architecture",
          "<b>Topic 0</b><br>Words: museum, british, london, architecture, photo",
          "<b>Topic 0</b><br>Words: museum, london, british, benstiller, night",
          "<b>Topic 0</b><br>Words: museum, british, london, egipto, uk",
          "<b>Topic 0</b><br>Words: museum, british, london, architecture, history",
          "<b>Topic 0</b><br>Words: museum, british, london, uk, architecture",
          "<b>Topic 0</b><br>Words: museum, british, london, travel, architecture",
          "<b>Topic 0</b><br>Words: museum, british, london, architecture, uk",
          "<b>Topic 0</b><br>Words: museum, british, london, architecture, history",
          "<b>Topic 0</b><br>Words: museum, british, london, architecture, uk",
          "<b>Topic 0</b><br>Words: museum, british, london, reality, virtual",
          "<b>Topic 0</b><br>Words: museum, british, london, uk, architecture",
          "<b>Topic 0</b><br>Words: museum, british, inglaterra, london, londres",
          "<b>Topic 0</b><br>Words: museum, google, british, london, appsampgame",
          "<b>Topic 0</b><br>Words: museum, british, london, london2015, england",
          "<b>Topic 0</b><br>Words: museum, british, london, architecture, 1759",
          "<b>Topic 0</b><br>Words: museum, british, london, architecture, uk",
          "<b>Topic 0</b><br>Words: museum, british, london, architecture, travel",
          "<b>Topic 0</b><br>Words: museum, british, london, londonist, londra",
          "<b>Topic 0</b><br>Words: museum, british, london, architecture, prewedding",
          "<b>Topic 0</b><br>Words: museum, british, london, england, architecture",
          "<b>Topic 0</b><br>Words: museum, british, london, uk, architecture",
          "<b>Topic 0</b><br>Words: museum, british, london, architecture, uk",
          "<b>Topic 0</b><br>Words: museum, british, london, uk, architecture",
          "<b>Topic 0</b><br>Words: museum, british, london, architecture, uk",
          "<b>Topic 0</b><br>Words: museum, british, london, architecture, streetphotography",
          "<b>Topic 0</b><br>Words: museum, british, london, architecture, uk",
          "<b>Topic 0</b><br>Words: museum, british, london, uk, architecture",
          "<b>Topic 0</b><br>Words: museum, british, london, architecture, photography",
          "<b>Topic 0</b><br>Words: museum, british, london, candid, architecture",
          "<b>Topic 0</b><br>Words: museum, british, london, 1881, architecture",
          "<b>Topic 0</b><br>Words: museum, british, london, dedicated, month",
          "<b>Topic 0</b><br>Words: museum, british, london, architecture, uk",
          "<b>Topic 0</b><br>Words: museum, british, london, architecture, uk",
          "<b>Topic 0</b><br>Words: museum, british, london, architecture, uk",
          "<b>Topic 0</b><br>Words: museum, british, london, architecture, history",
          "<b>Topic 0</b><br>Words: museum, british, london, instalondon, architecture",
          "<b>Topic 0</b><br>Words: museum, british, london, architecture, hotung",
          "<b>Topic 0</b><br>Words: museum, british, london, en, londres",
          "<b>Topic 0</b><br>Words: museum, british, london, uk, 1759",
          "<b>Topic 0</b><br>Words: museum, british, london, uk, observations",
          "<b>Topic 0</b><br>Words: museum, british, london, museums, travel",
          "<b>Topic 0</b><br>Words: museum, london, british, history, travel",
          "<b>Topic 0</b><br>Words: museum, british, london, museums, architecture",
          "<b>Topic 0</b><br>Words: museum, british, london, uk, art",
          "<b>Topic 0</b><br>Words: museum, british, london, museums, history",
          "<b>Topic 0</b><br>Words: museum, british, london, architecture, beamishmuseum",
          "<b>Topic 0</b><br>Words: museum, london, british, art, architecture",
          "<b>Topic 0</b><br>Words: museum, british, london, female, caryatid",
          "<b>Topic 0</b><br>Words: museum, british, london, architecture, uk",
          "<b>Topic 0</b><br>Words: museum, british, london, photography, architecture",
          "<b>Topic 0</b><br>Words: museum, british, london, birthday, history",
          "<b>Topic 0</b><br>Words: museum, postcard, british, london, blouinartinfo",
          "<b>Topic 0</b><br>Words: museum, british, london, lumix, tatemodern",
          "<b>Topic 0</b><br>Words: museum, british, london, architecture, uk",
          "<b>Topic 0</b><br>Words: museum, british, london, showcasing, rembrandt",
          "<b>Topic 0</b><br>Words: museum, british, lumix, london, leicadgsummilux15mm",
          "<b>Topic 0</b><br>Words: museum, british, london, uk, world",
          "<b>Topic 0</b><br>Words: museum, british, london, photography, engagingfamilies",
          "<b>Topic 0</b><br>Words: museum, british, london, whitneymuseum, guggenheimmuseum",
          "<b>Topic 0</b><br>Words: museum, british, london, travel, history",
          "<b>Topic 0</b><br>Words: museum, british, london, travel, museums",
          "<b>Topic 0</b><br>Words: museum, british, london, troyexhibition, architecture",
          "<b>Topic 0</b><br>Words: museum, british, london, birthday, art",
          "<b>Topic 0</b><br>Words: museum, british, london, architecture, museums",
          "<b>Topic 0</b><br>Words: museum, british, london, museums, uk",
          "<b>Topic 0</b><br>Words: museum, british, london, museums, online",
          "<b>Topic 0</b><br>Words: museum, british, london, england, photography",
          "<b>Topic 0</b><br>Words: england, london, museum, british, photography",
          "<b>Topic 0</b><br>Words: museum, british, london, culture, art",
          "<b>Topic 0</b><br>Words: museum, british, london, history, minox",
          "<b>Topic 0</b><br>Words: museum, london, british, charliebahama, earthbeatfilms",
          "<b>Topic 0</b><br>Words: museum, british, london, uk, museums",
          "<b>Topic 0</b><br>Words: museum, british, london, history, labels",
          "<b>Topic 0</b><br>Words: museum, british, london, curatorscorner, court",
          "<b>Topic 0</b><br>Words: museum, british, london, 1759, public",
          "<b>Topic 0</b><br>Words: museum, british, london, architecture, museums",
          "<b>Topic 0</b><br>Words: museum, british, london, museums, uk",
          "<b>Topic 0</b><br>Words: museum, archive30, british, london, archive",
          "<b>Topic 0</b><br>Words: museum, british, london, museums, bm",
          "<b>Topic 0</b><br>Words: museum, british, london, jessica, museums",
          "<b>Topic 0</b><br>Words: museum, british, london, travel, museums",
          "<b>Topic 0</b><br>Words: museum, british, london, museums, uk",
          "<b>Topic 0</b><br>Words: museum, british, london, blake, museums",
          "<b>Topic 0</b><br>Words: museum, british, london, history, staff",
          "<b>Topic 0</b><br>Words: museum, british, london, visit, uk",
          "<b>Topic 0</b><br>Words: museum, british, london, archiveadventcalendar, arascot",
          "<b>Topic 0</b><br>Words: museum, british, london, opened, 1759",
          "<b>Topic 0</b><br>Words: museum, british, london, theyearoftiger, photos",
          "<b>Topic 0</b><br>Words: museum, british, london, sackler, gt",
          "<b>Topic 0</b><br>Words: bmw, museum, british, archive30, london",
          "<b>Topic 0</b><br>Words: museum, british, london, museums, amp",
          "<b>Topic 0</b><br>Words: museum, british, london, uk, archive"
         ],
         "marker": {
          "color": "#E69F00"
         },
         "mode": "lines",
         "name": "0_museum_british_london_architecture",
         "type": "scatter",
         "x": [
          "2014-06-01T00:00:00",
          "2014-07-01T00:00:00",
          "2014-08-01T00:00:00",
          "2014-09-01T00:00:00",
          "2014-10-01T00:00:00",
          "2014-11-01T00:00:00",
          "2014-12-01T00:00:00",
          "2015-01-01T00:00:00",
          "2015-02-01T00:00:00",
          "2015-03-01T00:00:00",
          "2015-04-01T00:00:00",
          "2015-05-01T00:00:00",
          "2015-06-01T00:00:00",
          "2015-07-01T00:00:00",
          "2015-08-01T00:00:00",
          "2015-09-01T00:00:00",
          "2015-10-01T00:00:00",
          "2015-11-01T00:00:00",
          "2015-12-01T00:00:00",
          "2016-01-01T00:00:00",
          "2016-02-01T00:00:00",
          "2016-03-01T00:00:00",
          "2016-04-01T00:00:00",
          "2016-05-01T00:00:00",
          "2016-06-01T00:00:00",
          "2016-07-01T00:00:00",
          "2016-08-01T00:00:00",
          "2016-09-01T00:00:00",
          "2016-10-01T00:00:00",
          "2016-11-01T00:00:00",
          "2016-12-01T00:00:00",
          "2017-01-01T00:00:00",
          "2017-02-01T00:00:00",
          "2017-03-01T00:00:00",
          "2017-04-01T00:00:00",
          "2017-05-01T00:00:00",
          "2017-06-01T00:00:00",
          "2017-07-01T00:00:00",
          "2017-08-01T00:00:00",
          "2017-09-01T00:00:00",
          "2017-10-01T00:00:00",
          "2017-11-01T00:00:00",
          "2017-12-01T00:00:00",
          "2018-01-01T00:00:00",
          "2018-02-01T00:00:00",
          "2018-03-01T00:00:00",
          "2018-04-01T00:00:00",
          "2018-05-01T00:00:00",
          "2018-06-01T00:00:00",
          "2018-07-01T00:00:00",
          "2018-08-01T00:00:00",
          "2018-09-01T00:00:00",
          "2018-10-01T00:00:00",
          "2018-11-01T00:00:00",
          "2018-12-01T00:00:00",
          "2019-01-01T00:00:00",
          "2019-02-01T00:00:00",
          "2019-03-01T00:00:00",
          "2019-04-01T00:00:00",
          "2019-05-01T00:00:00",
          "2019-06-01T00:00:00",
          "2019-07-01T00:00:00",
          "2019-08-01T00:00:00",
          "2019-09-01T00:00:00",
          "2019-10-01T00:00:00",
          "2019-11-01T00:00:00",
          "2019-12-01T00:00:00",
          "2020-01-01T00:00:00",
          "2020-02-01T00:00:00",
          "2020-03-01T00:00:00",
          "2020-04-01T00:00:00",
          "2020-05-01T00:00:00",
          "2020-06-01T00:00:00",
          "2020-07-01T00:00:00",
          "2020-08-01T00:00:00",
          "2020-09-01T00:00:00",
          "2020-10-01T00:00:00",
          "2020-11-01T00:00:00",
          "2020-12-01T00:00:00",
          "2021-01-01T00:00:00",
          "2021-02-01T00:00:00",
          "2021-03-01T00:00:00",
          "2021-04-01T00:00:00",
          "2021-05-01T00:00:00",
          "2021-06-01T00:00:00",
          "2021-07-01T00:00:00",
          "2021-08-01T00:00:00",
          "2021-09-01T00:00:00",
          "2021-10-01T00:00:00",
          "2021-11-01T00:00:00",
          "2021-12-01T00:00:00",
          "2022-01-01T00:00:00",
          "2022-02-01T00:00:00",
          "2022-03-01T00:00:00",
          "2022-04-01T00:00:00",
          "2022-05-01T00:00:00",
          "2022-06-01T00:00:00"
         ],
         "y": [
          80,
          90,
          120,
          81,
          108,
          106,
          89,
          152,
          114,
          135,
          111,
          99,
          115,
          110,
          164,
          134,
          226,
          191,
          124,
          168,
          114,
          131,
          133,
          103,
          105,
          104,
          117,
          114,
          142,
          115,
          92,
          108,
          125,
          124,
          143,
          129,
          81,
          92,
          88,
          77,
          78,
          83,
          68,
          115,
          80,
          105,
          77,
          70,
          73,
          95,
          91,
          98,
          94,
          78,
          77,
          123,
          103,
          102,
          93,
          93,
          91,
          76,
          71,
          92,
          56,
          59,
          78,
          66,
          51,
          66,
          87,
          77,
          48,
          26,
          77,
          38,
          37,
          56,
          41,
          43,
          19,
          43,
          34,
          44,
          46,
          31,
          37,
          29,
          36,
          26,
          28,
          32,
          41,
          47,
          55,
          53,
          33
         ]
        },
        {
         "hoverinfo": "text",
         "hovertext": [
          "<b>Topic 1</b><br>Words: london, funslugz, httptcoxcvy4iozut, kids, love",
          "<b>Topic 1</b><br>Words: london, httptcoxcvy4iozut, eyfoundation, eyf, launch",
          "<b>Topic 1</b><br>Words: london, funslugz, delivered, httptcokoaesn9qub, amp",
          "<b>Topic 1</b><br>Words: minecraft, london, recreated, digitally, lfw",
          "<b>Topic 1</b><br>Words: witches, wicked, troywise, witchesandwickedbodies, bodies",
          "<b>Topic 1</b><br>Words: london, germany, kidlit, funslugz, exhibition",
          "<b>Topic 1</b><br>Words: london, witches, britishmonarchy, medieval, httptcojdh0jgw8lo",
          "<b>Topic 1</b><br>Words: london, germany, httptcojdh0jgw8lo, lecture, visit",
          "<b>Topic 1</b><br>Words: london, 4b, autism, leafleting, httptcofttmrxuocl",
          "<b>Topic 1</b><br>Words: london, coffee, attraction, visitor, uk",
          "<b>Topic 1</b><br>Words: london, macgregor, neil, director, love",
          "<b>Topic 1</b><br>Words: periscope, london, live, youll, youre",
          "<b>Topic 1</b><br>Words: london, pvrlive, periscope, coffee, kids",
          "<b>Topic 1</b><br>Words: london, amazing, history, kids, visit",
          "<b>Topic 1</b><br>Words: london, summer, bfi, afternoon, love",
          "<b>Topic 1</b><br>Words: london, httpstco0xnet2xa4e, german, fischer, new",
          "<b>Topic 1</b><br>Words: spectre, london, dead, dayofthedead, jamesbond",
          "<b>Topic 1</b><br>Words: london, dayofthedead, dead, google, british",
          "<b>Topic 1</b><br>Words: london, macgregor, neil, minotaurus, aquisition",
          "<b>Topic 1</b><br>Words: london, lampedusa, walk, couch, lets",
          "<b>Topic 1</b><br>Words: london, project365, aliceinwonderland, russell, sq",
          "<b>Topic 1</b><br>Words: london, londres, tasteofeurope, saboreseuropeos, londineando",
          "<b>Topic 1</b><br>Words: london, thatmuse, themes, londons, scouting",
          "<b>Topic 1</b><br>Words: london, history, british, im, live",
          "<b>Topic 1</b><br>Words: london, brexit, chicken, like, look",
          "<b>Topic 1</b><br>Words: london, russell, tube, highlights, 215pm",
          "<b>Topic 1</b><br>Words: london, map, friday, fun, beautiful",
          "<b>Topic 1</b><br>Words: london, chuseok, highlights, afternoon, fun",
          "<b>Topic 1</b><br>Words: london, thatmuse, rhinos, visit, amp",
          "<b>Topic 1</b><br>Words: london, xeroroadshow, sound, 215pm, londonwalks",
          "<b>Topic 1</b><br>Words: london, thatmuse, christmas, 10ksbuk, 10ksb",
          "<b>Topic 1</b><br>Words: london, thatmuse, londonwalks, tube, russell",
          "<b>Topic 1</b><br>Words: thelostcityofz, london, robertpattinson, premiere, lostcityofz",
          "<b>Topic 1</b><br>Words: london, firstdayofspring, celebrate, beautiful, scenes",
          "<b>Topic 1</b><br>Words: london, c0nvey, aprilfoolsday, reveals, londonwalks",
          "<b>Topic 1</b><br>Words: london, cimsummit, tea, thatmuse, lgbtq",
          "<b>Topic 1</b><br>Words: london, thatmuse, hunt, amp, week",
          "<b>Topic 1</b><br>Words: london, thatmuse, 10year, transformation, evacuation",
          "<b>Topic 1</b><br>Words: london, thatmuse, inspiration, premiere, robertpattinson",
          "<b>Topic 1</b><br>Words: london, marshawards, winners, londonwalks, londonisopen",
          "<b>Topic 1</b><br>Words: london, halloween, thatmuse, eventbriteuk, treasurehunt",
          "<b>Topic 1</b><br>Words: lt, livingwiththegods, livingwithgods, londonislovinit, london",
          "<b>Topic 1</b><br>Words: london, delortaeagency, bestofbritish, amp, festive",
          "<b>Topic 1</b><br>Words: london, tube, londonwalks, russell, knowledge",
          "<b>Topic 1</b><br>Words: london, tube, trip, amp, londonwalks",
          "<b>Topic 1</b><br>Words: londonwalks, london, tube, tea, amp",
          "<b>Topic 1</b><br>Words: london, history, hartwig, music, culture",
          "<b>Topic 1</b><br>Words: london, event, history, going, square",
          "<b>Topic 1</b><br>Words: london, thatmuse, hunt, im, repeat",
          "<b>Topic 1</b><br>Words: london, thatmuse, team, itp, corporate",
          "<b>Topic 1</b><br>Words: london, thatmuse, treasure, 630, 24",
          "<b>Topic 1</b><br>Words: london, peaceonedayofficial, peaceoneday, iobject, tonight",
          "<b>Topic 1</b><br>Words: london, amp, thatmuse, mandgcollection, im",
          "<b>Topic 1</b><br>Words: london, geekout, history, cake, tea",
          "<b>Topic 1</b><br>Words: london, thatmuse, clients, repeat, amp",
          "<b>Topic 1</b><br>Words: london, walking, dairy, amp, happy",
          "<b>Topic 1</b><br>Words: london, event, uptodate, trends, yearly",
          "<b>Topic 1</b><br>Words: london, whyilovemuseums, amp, bookplugs, destinyofdragons",
          "<b>Topic 1</b><br>Words: event, nationaldevopsconf, london, nationaltestconf, professionals",
          "<b>Topic 1</b><br>Words: nationaltestconf, london, nationaldevopsconf, httpstcos35wdoo4l9, 18th19th",
          "<b>Topic 1</b><br>Words: london, devops, nationaldevopsconf, httpstcots613yii4u, amp",
          "<b>Topic 1</b><br>Words: london, lbmsdg, summer, im, amp",
          "<b>Topic 1</b><br>Words: london, tea, private, local, afternoon",
          "<b>Topic 1</b><br>Words: fashionforrelief, london, fashion, naomicampbell, naomi",
          "<b>Topic 1</b><br>Words: tea, london, londontearoom, camelliasteahouse, scones",
          "<b>Topic 1</b><br>Words: london, srilanka, ostraca, dont, visit",
          "<b>Topic 1</b><br>Words: london, amp, thatmuse, daisy, christmas",
          "<b>Topic 1</b><br>Words: london, casbah, thank, amp, laurencefox",
          "<b>Topic 1</b><br>Words: london, princeofegyptuk, look, amp, attending",
          "<b>Topic 1</b><br>Words: marybeard, wmarybeard, london, home, interference",
          "<b>Topic 1</b><br>Words: london, amp, fyi, bbcradio4, musical",
          "<b>Topic 1</b><br>Words: pompeii, london, pompeiilive, herculaneum, love",
          "<b>Topic 1</b><br>Words: lgbtq, added, beginning, london, music",
          "<b>Topic 1</b><br>Words: michael, london, warkentin, latest, skyline",
          "<b>Topic 1</b><br>Words: london, reopening, hanssloane, amp, love",
          "<b>Topic 1</b><br>Words: london, exile, hanssloane, libraryofexile, library",
          "<b>Topic 1</b><br>Words: museumpassion, lgbtq, aimed, eminent, guidebook",
          "<b>Topic 1</b><br>Words: volunteers, marshawards, award, marshaward, london",
          "<b>Topic 1</b><br>Words: museumpassion, aimed, eminent, guidebook, mainly",
          "<b>Topic 1</b><br>Words: london, junesarpong, station, lockdown, httpstcoxfznlbxax0",
          "<b>Topic 1</b><br>Words: hatm, debate, id, called, connect2things",
          "<b>Topic 1</b><br>Words: lampedusa, beyondbridgerton, finishing, london, cross",
          "<b>Topic 1</b><br>Words: bridge, amp, london, tower, smygoodness",
          "<b>Topic 1</b><br>Words: reopening, london, tea, indoorhospitality, may17th",
          "<b>Topic 1</b><br>Words: georgeosborne, london, chair, chiggi, years",
          "<b>Topic 1</b><br>Words: london, amp, staff, people, scum",
          "<b>Topic 1</b><br>Words: london, podcast, luxurylaweurope, woke, sponsor",
          "<b>Topic 1</b><br>Words: deadline, hiring, 5pm, apply, partnership",
          "<b>Topic 1</b><br>Words: london, apply, come, uk, understand",
          "<b>Topic 1</b><br>Words: london, hiring, 5pm, 24th, january",
          "<b>Topic 1</b><br>Words: archiveadventcalendar, london, lacollectionoff, arascot, gershwin",
          "<b>Topic 1</b><br>Words: apply, hiring, 5pm, 24th, london",
          "<b>Topic 1</b><br>Words: london, trailer, russellsquare, doctorstrange, secretive",
          "<b>Topic 1</b><br>Words: moonknight, oscarisaac, london, 7pm, gala",
          "<b>Topic 1</b><br>Words: london, chinesefood, ballet, chinatown, britishhistory",
          "<b>Topic 1</b><br>Words: london, 2022, victoria, trod, chauffeur",
          "<b>Topic 1</b><br>Words: london, britishhistory, volunteers, londoneye, moomins"
         ],
         "marker": {
          "color": "#56B4E9"
         },
         "mode": "lines",
         "name": "1_london_amp_thatmuse_history",
         "type": "scatter",
         "x": [
          "2014-06-01T00:00:00",
          "2014-07-01T00:00:00",
          "2014-08-01T00:00:00",
          "2014-09-01T00:00:00",
          "2014-10-01T00:00:00",
          "2014-11-01T00:00:00",
          "2014-12-01T00:00:00",
          "2015-01-01T00:00:00",
          "2015-02-01T00:00:00",
          "2015-03-01T00:00:00",
          "2015-04-01T00:00:00",
          "2015-05-01T00:00:00",
          "2015-06-01T00:00:00",
          "2015-07-01T00:00:00",
          "2015-08-01T00:00:00",
          "2015-09-01T00:00:00",
          "2015-10-01T00:00:00",
          "2015-11-01T00:00:00",
          "2015-12-01T00:00:00",
          "2016-01-01T00:00:00",
          "2016-02-01T00:00:00",
          "2016-03-01T00:00:00",
          "2016-04-01T00:00:00",
          "2016-05-01T00:00:00",
          "2016-06-01T00:00:00",
          "2016-07-01T00:00:00",
          "2016-08-01T00:00:00",
          "2016-09-01T00:00:00",
          "2016-10-01T00:00:00",
          "2016-11-01T00:00:00",
          "2016-12-01T00:00:00",
          "2017-01-01T00:00:00",
          "2017-02-01T00:00:00",
          "2017-03-01T00:00:00",
          "2017-04-01T00:00:00",
          "2017-05-01T00:00:00",
          "2017-06-01T00:00:00",
          "2017-07-01T00:00:00",
          "2017-08-01T00:00:00",
          "2017-09-01T00:00:00",
          "2017-10-01T00:00:00",
          "2017-11-01T00:00:00",
          "2017-12-01T00:00:00",
          "2018-01-01T00:00:00",
          "2018-02-01T00:00:00",
          "2018-03-01T00:00:00",
          "2018-04-01T00:00:00",
          "2018-05-01T00:00:00",
          "2018-06-01T00:00:00",
          "2018-07-01T00:00:00",
          "2018-08-01T00:00:00",
          "2018-09-01T00:00:00",
          "2018-10-01T00:00:00",
          "2018-11-01T00:00:00",
          "2018-12-01T00:00:00",
          "2019-01-01T00:00:00",
          "2019-02-01T00:00:00",
          "2019-03-01T00:00:00",
          "2019-04-01T00:00:00",
          "2019-05-01T00:00:00",
          "2019-06-01T00:00:00",
          "2019-07-01T00:00:00",
          "2019-08-01T00:00:00",
          "2019-09-01T00:00:00",
          "2019-10-01T00:00:00",
          "2019-11-01T00:00:00",
          "2019-12-01T00:00:00",
          "2020-01-01T00:00:00",
          "2020-02-01T00:00:00",
          "2020-03-01T00:00:00",
          "2020-04-01T00:00:00",
          "2020-05-01T00:00:00",
          "2020-06-01T00:00:00",
          "2020-07-01T00:00:00",
          "2020-08-01T00:00:00",
          "2020-09-01T00:00:00",
          "2020-10-01T00:00:00",
          "2020-11-01T00:00:00",
          "2020-12-01T00:00:00",
          "2021-01-01T00:00:00",
          "2021-02-01T00:00:00",
          "2021-03-01T00:00:00",
          "2021-04-01T00:00:00",
          "2021-05-01T00:00:00",
          "2021-06-01T00:00:00",
          "2021-07-01T00:00:00",
          "2021-08-01T00:00:00",
          "2021-09-01T00:00:00",
          "2021-10-01T00:00:00",
          "2021-11-01T00:00:00",
          "2021-12-01T00:00:00",
          "2022-01-01T00:00:00",
          "2022-02-01T00:00:00",
          "2022-03-01T00:00:00",
          "2022-04-01T00:00:00",
          "2022-05-01T00:00:00",
          "2022-06-01T00:00:00"
         ],
         "y": [
          98,
          102,
          122,
          153,
          174,
          97,
          100,
          115,
          83,
          100,
          119,
          138,
          111,
          109,
          124,
          146,
          129,
          120,
          99,
          104,
          91,
          125,
          108,
          117,
          83,
          92,
          79,
          90,
          96,
          82,
          51,
          86,
          142,
          112,
          83,
          89,
          88,
          93,
          76,
          70,
          79,
          67,
          72,
          75,
          71,
          79,
          65,
          59,
          77,
          63,
          78,
          56,
          73,
          73,
          36,
          52,
          49,
          81,
          76,
          69,
          56,
          62,
          48,
          78,
          45,
          46,
          34,
          57,
          51,
          59,
          25,
          38,
          28,
          18,
          89,
          35,
          29,
          30,
          16,
          29,
          12,
          23,
          22,
          28,
          49,
          32,
          17,
          21,
          37,
          27,
          17,
          18,
          31,
          19,
          29,
          38,
          27
         ]
        },
        {
         "hoverinfo": "text",
         "hovertext": [
          "<b>Topic 2</b><br>Words: vikings, olsx, onn, dtg150614, reclaimthebard",
          "<b>Topic 2</b><br>Words: museum, london, stonehenge, british, ming",
          "<b>Topic 2</b><br>Words: project, archeology, micropasts, guardian, crowdsourcing",
          "<b>Topic 2</b><br>Words: ming, chinese, features, goldenage, mingdynasty",
          "<b>Topic 2</b><br>Words: faces, ming, face, london, british",
          "<b>Topic 2</b><br>Words: blind, 3d, 3deye, indiegogo, httptcolel9enknfl",
          "<b>Topic 2</b><br>Words: aztec, london, ming, hadrian, artifact",
          "<b>Topic 2</b><br>Words: colombia, sculpture, roman, dorado, london",
          "<b>Topic 2</b><br>Words: rareobjects, mathewtrinca, captaincook, torresstraitislands, london",
          "<b>Topic 2</b><br>Words: definingbeauty, defining, ancient, beauty, art",
          "<b>Topic 2</b><br>Words: necktie, art, tie, mens, animal",
          "<b>Topic 2</b><br>Words: museum, art, british, ancient, lebaba",
          "<b>Topic 2</b><br>Words: art, roman, british, definingbeauty, museum",
          "<b>Topic 2</b><br>Words: celts, art, ancient, blueboxtour, british",
          "<b>Topic 2</b><br>Words: british, sinaiticus, codex, museum, statue",
          "<b>Topic 2</b><br>Words: celts, barkcloth, art, london, exhibition",
          "<b>Topic 2</b><br>Words: celts, halloween, museum, british, dayofthedead",
          "<b>Topic 2</b><br>Words: celts, british, exhibition, art, museum",
          "<b>Topic 2</b><br>Words: artsfromthepast, art, architecture, horse, head",
          "<b>Topic 2</b><br>Words: celts, exhibition, wales, british, museum",
          "<b>Topic 2</b><br>Words: museum, drawing, london, british, roman",
          "<b>Topic 2</b><br>Words: art, roman, museum, british, history",
          "<b>Topic 2</b><br>Words: yemen, art, museum, british, kohinoor",
          "<b>Topic 2</b><br>Words: art, venus, london, museum, ago",
          "<b>Topic 2</b><br>Words: badarcheology, british, alexanderthegreat, museum, london",
          "<b>Topic 2</b><br>Words: conflics, 400bc, 420, mythic, bassae",
          "<b>Topic 2</b><br>Words: drawing, halicarnassus, cent, seven, ancient",
          "<b>Topic 2</b><br>Words: british, museum, art, london, picasso",
          "<b>Topic 2</b><br>Words: thumb, roman, waiter, knocks, museum",
          "<b>Topic 2</b><br>Words: willwanderinmuseum, statue, museum, british, art",
          "<b>Topic 2</b><br>Words: winemaking, museum, wine, british, god",
          "<b>Topic 2</b><br>Words: caria, combat, halicarnassus, fragment, amazons",
          "<b>Topic 2</b><br>Words: c0nvey, andy, roman, marilyn, warhols",
          "<b>Topic 2</b><br>Words: c0nvey, art, women, world, hoo",
          "<b>Topic 2</b><br>Words: c0nvey, otd, british, museum, picassoguru",
          "<b>Topic 2</b><br>Words: c0nvey, compositions, moser, floral, stunning",
          "<b>Topic 2</b><br>Words: art, museum, british, dinosaur, thatmusefacts",
          "<b>Topic 2</b><br>Words: ring, 750000, cartier, diamond, lamy",
          "<b>Topic 2</b><br>Words: art, 3d, archaeology, london, british",
          "<b>Topic 2</b><br>Words: treasurehuntsinlondon, bewitching, adventure, bgg, join",
          "<b>Topic 2</b><br>Words: art, british, museum, london, bewitching",
          "<b>Topic 2</b><br>Words: museum, british, google, art, amp",
          "<b>Topic 2</b><br>Words: art, history, culture, illustrations, ancient",
          "<b>Topic 2</b><br>Words: history, art, culture, wonderful, museum",
          "<b>Topic 2</b><br>Words: art, history, drawing, museum, british",
          "<b>Topic 2</b><br>Words: ikon, history, art, museum, british",
          "<b>Topic 2</b><br>Words: art, history, museum, london, british",
          "<b>Topic 2</b><br>Words: art, museum, history, london, british",
          "<b>Topic 2</b><br>Words: art, history, museum, british, roman",
          "<b>Topic 2</b><br>Words: art, mandgcollection, history, china, museum",
          "<b>Topic 2</b><br>Words: islamicgallery, mandgcollection, british, museum, art",
          "<b>Topic 2</b><br>Words: nmarome, visitcanberra, rome, empire, city",
          "<b>Topic 2</b><br>Words: islamicgallery, museum, islamic, british, mandgcollection",
          "<b>Topic 2</b><br>Words: witnesses, migrmedallists, spanning, range, museum",
          "<b>Topic 2</b><br>Words: mandgcollection, nmarome, visitcanberra, museum, art",
          "<b>Topic 2</b><br>Words: nmarome, visitcanberra, rome, museum, empire",
          "<b>Topic 2</b><br>Words: banksy, art, mandgcollection, british, museum",
          "<b>Topic 2</b><br>Words: art, roman, museum, london, british",
          "<b>Topic 2</b><br>Words: soldier, museum, art, british, thatmusefacts",
          "<b>Topic 2</b><br>Words: museum, source, british, feminist, origin",
          "<b>Topic 2</b><br>Words: sculpture, art, british, museum, london",
          "<b>Topic 2</b><br>Words: art, museum, british, roman, london",
          "<b>Topic 2</b><br>Words: museum, british, london, art, coins",
          "<b>Topic 2</b><br>Words: bronze, ad, museum, british, source",
          "<b>Topic 2</b><br>Words: art, museum, islamic, inspired, british",
          "<b>Topic 2</b><br>Words: amp, art, museum, british, london",
          "<b>Topic 2</b><br>Words: inspired, inspiredbytheeast, certainly, east, islamicart",
          "<b>Topic 2</b><br>Words: art, exhibition, british, museum, tantra",
          "<b>Topic 2</b><br>Words: art, history, museum, british, ancient",
          "<b>Topic 2</b><br>Words: shropshire, china, museum, british, 3000yearold",
          "<b>Topic 2</b><br>Words: ostrich, eggs, gold, museum, anglo",
          "<b>Topic 2</b><br>Words: ghosts, restless, museum, harlem, art",
          "<b>Topic 2</b><br>Words: odconline, form, art, roman, oxdoodleclub",
          "<b>Topic 2</b><br>Words: disciples, pastorlee, pastor, jesus, lee",
          "<b>Topic 2</b><br>Words: art, museum, british, oneplus8pro, century",
          "<b>Topic 2</b><br>Words: tantra, museum, art, british, ancient",
          "<b>Topic 2</b><br>Words: blakandwhite, beenthere, itsawonderfulworld, blackandwhitephotography, faces",
          "<b>Topic 2</b><br>Words: museumsunlocked, museum, british, coins, mask",
          "<b>Topic 2</b><br>Words: ad, brooch, century, roman, british",
          "<b>Topic 2</b><br>Words: suttonhoo, relief, ereshkigal, thedig, art",
          "<b>Topic 2</b><br>Words: suttonhoo, art, ancient, sutton, netflix",
          "<b>Topic 2</b><br>Words: helmet, simpkins, history, travis, art",
          "<b>Topic 2</b><br>Words: nero, bitci, archive30, emperor, offers",
          "<b>Topic 2</b><br>Words: nero, becket, exhibition, neroexhibition, thomas",
          "<b>Topic 2</b><br>Words: nero, myth, exhibition, neroexhibition, museum",
          "<b>Topic 2</b><br>Words: nero, thomasbecket, history, exhibition, becket",
          "<b>Topic 2</b><br>Words: nero, museum, british, medieval, art",
          "<b>Topic 2</b><br>Words: nero, exhibition, neroexhibition, statue, peru",
          "<b>Topic 2</b><br>Words: oldest, ghost, drawing, stars, exhibition",
          "<b>Topic 2</b><br>Words: peru, museum, art, artexhibition, british",
          "<b>Topic 2</b><br>Words: stonehenge, exhibition, peru, museum, art",
          "<b>Topic 2</b><br>Words: peru, museum, exhibition, british, roman",
          "<b>Topic 2</b><br>Words: stonehenge, exhibition, british, museum, art",
          "<b>Topic 2</b><br>Words: stonehenge, exhibition, museum, british, moleskine",
          "<b>Topic 2</b><br>Words: stonehenge, exhibition, museum, british, henge",
          "<b>Topic 2</b><br>Words: stonehenge, feminine, exhibition, power, goddesses",
          "<b>Topic 2</b><br>Words: stonehenge, exhibition, feminine, art, museum"
         ],
         "marker": {
          "color": "#009E73"
         },
         "mode": "lines",
         "name": "2_art_museum_british_london",
         "type": "scatter",
         "x": [
          "2014-06-01T00:00:00",
          "2014-07-01T00:00:00",
          "2014-08-01T00:00:00",
          "2014-09-01T00:00:00",
          "2014-10-01T00:00:00",
          "2014-11-01T00:00:00",
          "2014-12-01T00:00:00",
          "2015-01-01T00:00:00",
          "2015-02-01T00:00:00",
          "2015-03-01T00:00:00",
          "2015-04-01T00:00:00",
          "2015-05-01T00:00:00",
          "2015-06-01T00:00:00",
          "2015-07-01T00:00:00",
          "2015-08-01T00:00:00",
          "2015-09-01T00:00:00",
          "2015-10-01T00:00:00",
          "2015-11-01T00:00:00",
          "2015-12-01T00:00:00",
          "2016-01-01T00:00:00",
          "2016-02-01T00:00:00",
          "2016-03-01T00:00:00",
          "2016-04-01T00:00:00",
          "2016-05-01T00:00:00",
          "2016-06-01T00:00:00",
          "2016-07-01T00:00:00",
          "2016-08-01T00:00:00",
          "2016-09-01T00:00:00",
          "2016-10-01T00:00:00",
          "2016-11-01T00:00:00",
          "2016-12-01T00:00:00",
          "2017-01-01T00:00:00",
          "2017-02-01T00:00:00",
          "2017-03-01T00:00:00",
          "2017-04-01T00:00:00",
          "2017-05-01T00:00:00",
          "2017-06-01T00:00:00",
          "2017-07-01T00:00:00",
          "2017-08-01T00:00:00",
          "2017-09-01T00:00:00",
          "2017-10-01T00:00:00",
          "2017-11-01T00:00:00",
          "2017-12-01T00:00:00",
          "2018-01-01T00:00:00",
          "2018-02-01T00:00:00",
          "2018-03-01T00:00:00",
          "2018-04-01T00:00:00",
          "2018-05-01T00:00:00",
          "2018-06-01T00:00:00",
          "2018-07-01T00:00:00",
          "2018-08-01T00:00:00",
          "2018-09-01T00:00:00",
          "2018-10-01T00:00:00",
          "2018-11-01T00:00:00",
          "2018-12-01T00:00:00",
          "2019-01-01T00:00:00",
          "2019-02-01T00:00:00",
          "2019-03-01T00:00:00",
          "2019-04-01T00:00:00",
          "2019-05-01T00:00:00",
          "2019-06-01T00:00:00",
          "2019-07-01T00:00:00",
          "2019-08-01T00:00:00",
          "2019-09-01T00:00:00",
          "2019-10-01T00:00:00",
          "2019-11-01T00:00:00",
          "2019-12-01T00:00:00",
          "2020-01-01T00:00:00",
          "2020-02-01T00:00:00",
          "2020-03-01T00:00:00",
          "2020-04-01T00:00:00",
          "2020-05-01T00:00:00",
          "2020-06-01T00:00:00",
          "2020-07-01T00:00:00",
          "2020-08-01T00:00:00",
          "2020-09-01T00:00:00",
          "2020-10-01T00:00:00",
          "2020-11-01T00:00:00",
          "2020-12-01T00:00:00",
          "2021-01-01T00:00:00",
          "2021-02-01T00:00:00",
          "2021-03-01T00:00:00",
          "2021-04-01T00:00:00",
          "2021-05-01T00:00:00",
          "2021-06-01T00:00:00",
          "2021-07-01T00:00:00",
          "2021-08-01T00:00:00",
          "2021-09-01T00:00:00",
          "2021-10-01T00:00:00",
          "2021-11-01T00:00:00",
          "2021-12-01T00:00:00",
          "2022-01-01T00:00:00",
          "2022-02-01T00:00:00",
          "2022-03-01T00:00:00",
          "2022-04-01T00:00:00",
          "2022-05-01T00:00:00",
          "2022-06-01T00:00:00"
         ],
         "y": [
          99,
          50,
          50,
          80,
          86,
          94,
          69,
          62,
          90,
          81,
          85,
          85,
          82,
          64,
          73,
          75,
          109,
          99,
          79,
          80,
          64,
          69,
          60,
          68,
          65,
          85,
          65,
          62,
          78,
          62,
          43,
          86,
          71,
          125,
          74,
          58,
          39,
          72,
          45,
          48,
          66,
          69,
          56,
          103,
          93,
          84,
          77,
          91,
          90,
          100,
          116,
          100,
          113,
          98,
          66,
          71,
          70,
          68,
          49,
          46,
          50,
          58,
          48,
          68,
          70,
          65,
          53,
          42,
          63,
          62,
          36,
          54,
          33,
          33,
          34,
          42,
          74,
          28,
          26,
          55,
          41,
          35,
          45,
          68,
          66,
          61,
          49,
          26,
          59,
          27,
          43,
          37,
          80,
          63,
          57,
          66,
          67
         ]
        },
        {
         "hoverinfo": "text",
         "hovertext": [
          "<b>Topic 3</b><br>Words: egyptian, egypt, rosettastone, ancient, wholyheadmaths",
          "<b>Topic 3</b><br>Words: egyptian, egypt, stone, rosetta, mummy",
          "<b>Topic 3</b><br>Words: egyptian, skeleton, ancient, london, egypt",
          "<b>Topic 3</b><br>Words: egyptian, mummies, egypt, ancientegypt, pharaoh",
          "<b>Topic 3</b><br>Words: egyptian, egypt, museum, british, tedxbrixton",
          "<b>Topic 3</b><br>Words: egyptian, egypt, rosetta, stone, museum",
          "<b>Topic 3</b><br>Words: egypt, london, egyptian, assyrian, mummies",
          "<b>Topic 3</b><br>Words: egypt, droidaday, egyptian, starwars, r2",
          "<b>Topic 3</b><br>Words: egypt, mummies, egyptian, mummy, museum",
          "<b>Topic 3</b><br>Words: nimrud, egypt, goldengram, fertility, mummies",
          "<b>Topic 3</b><br>Words: egyptian, egypteantique, easter, museum, london",
          "<b>Topic 3</b><br>Words: rosetta, egypt, stone, egyptian, london",
          "<b>Topic 3</b><br>Words: mummy, egyptian, egypt, london, rosetta",
          "<b>Topic 3</b><br>Words: egyptian, cat, stone, rosetta, egypt",
          "<b>Topic 3</b><br>Words: egyptian, museum, egypt, british, cat",
          "<b>Topic 3</b><br>Words: egyptian, egypt, london, rosettastone, rosetta",
          "<b>Topic 3</b><br>Words: egypt, faith, egyptian, pharaohs, london",
          "<b>Topic 3</b><br>Words: egyptian, egypt, rosetta, museum, british",
          "<b>Topic 3</b><br>Words: egypt, egyptian, cities, underwater, london",
          "<b>Topic 3</b><br>Words: egypt, egyptian, mummy, museum, british",
          "<b>Topic 3</b><br>Words: egypt, rosetta, stone, mummies, london",
          "<b>Topic 3</b><br>Words: dslr, travel, igphotography, egyptian, london",
          "<b>Topic 3</b><br>Words: egypt, londondaytrip, egyptian, mesopotamia, ancient",
          "<b>Topic 3</b><br>Words: cities, sunkencities, egypts, sunken, egyptian",
          "<b>Topic 3</b><br>Words: sunkencities, egypt, egyptian, rosettastone, stone",
          "<b>Topic 3</b><br>Words: rival, sennacheribs, 700, nineveh, walls",
          "<b>Topic 3</b><br>Words: reliefs, palace, neoassyrian, 879bc, calhu",
          "<b>Topic 3</b><br>Words: assyrian, museum, egypt, egyptian, british",
          "<b>Topic 3</b><br>Words: egypt, stone, egyptian, rosetta, museum",
          "<b>Topic 3</b><br>Words: egypt, britishmuseummomaprado, priced, christies, bonhams",
          "<b>Topic 3</b><br>Words: egypt, cleopatra, museum, rosetta, london",
          "<b>Topic 3</b><br>Words: egyptian, mummies, figurine, bluecat, catfigurine",
          "<b>Topic 3</b><br>Words: egypt, cat, museum, british, figurine",
          "<b>Topic 3</b><br>Words: eiffel, tallest, 1889, manmade, tower",
          "<b>Topic 3</b><br>Words: story, aleppo, 3500yearold, idrimi, refugee",
          "<b>Topic 3</b><br>Words: stone, rosetta, mummies, egypt, ancientegypt",
          "<b>Topic 3</b><br>Words: egyptian, rosetta, thatmusefacts, egypt, rosettastone",
          "<b>Topic 3</b><br>Words: egypt, rosettastone, publishes, egyptian, museum",
          "<b>Topic 3</b><br>Words: egypt, pyramid, egyptian, rosettastone, toys",
          "<b>Topic 3</b><br>Words: egypt, egyptian, rosetta, ancient, stone",
          "<b>Topic 3</b><br>Words: egypt, british, egyptian, museum, london",
          "<b>Topic 3</b><br>Words: egypt, mummy, egyptian, mummies, museum",
          "<b>Topic 3</b><br>Words: egyptian, egypt, rosettastone, rosetta, apostrophe",
          "<b>Topic 3</b><br>Words: egypt, egyptian, ancient, rosetta, stone",
          "<b>Topic 3</b><br>Words: egyptian, egypt, rosettastone, mummys, museum",
          "<b>Topic 3</b><br>Words: egyptian, egypt, ancient, rosettastone, history",
          "<b>Topic 3</b><br>Words: egypt, blackhistory, egyptian, ancient, hieroglyphic",
          "<b>Topic 3</b><br>Words: boots, egyptian, blackhistory, 27, egypt",
          "<b>Topic 3</b><br>Words: egypt, ashurbanipal, rosetta, stone, assyria",
          "<b>Topic 3</b><br>Words: egypt, egyptian, rosetta, rosettastone, stone",
          "<b>Topic 3</b><br>Words: egypt, egyptian, museum, british, moai",
          "<b>Topic 3</b><br>Words: egypt, egyptian, museum, british, london",
          "<b>Topic 3</b><br>Words: egyptian, egypt, ancient, museum, assyrian",
          "<b>Topic 3</b><br>Words: ashurbanipal, assyria, easterisland, egypt, king",
          "<b>Topic 3</b><br>Words: ashurbanipal, assyrian, iamashurbanipal, historyblog, cuneiform",
          "<b>Topic 3</b><br>Words: gozzoli, ashurbanipal, karawalker, kara, walker",
          "<b>Topic 3</b><br>Words: ashurbanipal, king, cyrus, thats, egypt",
          "<b>Topic 3</b><br>Words: food, select, feeding, control, relationship",
          "<b>Topic 3</b><br>Words: egypt, egyptian, museum, easterisland, ancient",
          "<b>Topic 3</b><br>Words: egypt, museum, blackhistory, 26th, stone",
          "<b>Topic 3</b><br>Words: egyptian, rosetta, stone, museum, egypt",
          "<b>Topic 3</b><br>Words: egyptian, egypt, alwaysexplorin, antiquites, urbanromantix",
          "<b>Topic 3</b><br>Words: egypt, egyptian, british, museum, leopards",
          "<b>Topic 3</b><br>Words: egyptian, egypt, iraq, sulaymaniyah, ancient",
          "<b>Topic 3</b><br>Words: cyrusthegreatday, iranian, egyptian, jews, freed",
          "<b>Topic 3</b><br>Words: egypt, iranian, charter, humanrights, tutankhamun",
          "<b>Topic 3</b><br>Words: ashurbanipalexhibition, ashurbanipal, king, cyrusthegreat, egypt",
          "<b>Topic 3</b><br>Words: egypt, museum, stone, british, egyptian",
          "<b>Topic 3</b><br>Words: egypt, egyptian, assyrian, bc, nimrud",
          "<b>Topic 3</b><br>Words: iraq, nikon, egypt, egyptian, museum",
          "<b>Topic 3</b><br>Words: egyptian, egypt, easter, museumfromhome, bc",
          "<b>Topic 3</b><br>Words: museumfromhome, egyptianmuseum, egyptian, ancientring, bkmegyptianart",
          "<b>Topic 3</b><br>Words: egyptianmuseum, museumfromhome, bkmegyptianart, ancientring, tutankhamun",
          "<b>Topic 3</b><br>Words: museumfromhome, tutankhamun, egyptianmuseum, ancientring, bkmegyptianart",
          "<b>Topic 3</b><br>Words: egypt, egyptianmuseum, egyptian, museumfromhome, exclusively",
          "<b>Topic 3</b><br>Words: egypt, egyptian, mummies, gissing, 12921189",
          "<b>Topic 3</b><br>Words: egyptian, thatlondon, edutainment, igersengland, egypt",
          "<b>Topic 3</b><br>Words: egypt, museumsunlocked, egyptian, iraq, layard",
          "<b>Topic 3</b><br>Words: black, 365, 2021, history, iraq",
          "<b>Topic 3</b><br>Words: iraq, egypt, egyptian, bce, king",
          "<b>Topic 3</b><br>Words: egypt, nikons, bce, mulligan, iraq",
          "<b>Topic 3</b><br>Words: ur, iraq, dynastic, 2500, bce",
          "<b>Topic 3</b><br>Words: iraq, bce, nikonphotography, nimrud, nikon",
          "<b>Topic 3</b><br>Words: egypt, wellhidden, treaty, egyptian, image",
          "<b>Topic 3</b><br>Words: egypt, egyptian, ancientegypt, museum, history",
          "<b>Topic 3</b><br>Words: egypt, osamasmamin, egyptian, lachish, british",
          "<b>Topic 3</b><br>Words: egypt, ancientegypt, simpkins, travis, museum",
          "<b>Topic 3</b><br>Words: ginger, gebelein, thatmusefacts, httpstcocfkvwawow2, httpstcostzdz3siil",
          "<b>Topic 3</b><br>Words: egypt, egyptian, halloween, mummy, rosetta",
          "<b>Topic 3</b><br>Words: egypt, egyptology, egyptian, king, assyrian",
          "<b>Topic 3</b><br>Words: threshold, httpstcoq0yiqnaszx, mummy, judgment, program",
          "<b>Topic 3</b><br>Words: andreamartin, qei, sammycahn, cofe, genekrupa",
          "<b>Topic 3</b><br>Words: cat, egypt, gayeranderson, museum, egyptian",
          "<b>Topic 3</b><br>Words: egyptian, rosetta, assyrian, stone, mummies",
          "<b>Topic 3</b><br>Words: rsgrants, egypt, egyptian, perpetual, mmxxii",
          "<b>Topic 3</b><br>Words: assyrian, assyria, egyptian, assyrianhistory, academicpublishing",
          "<b>Topic 3</b><br>Words: archaeology, egypt, egyptian, lachish, museum"
         ],
         "marker": {
          "color": "#F0E442"
         },
         "mode": "lines",
         "name": "3_egypt_egyptian_museum_british",
         "type": "scatter",
         "x": [
          "2014-06-01T00:00:00",
          "2014-07-01T00:00:00",
          "2014-08-01T00:00:00",
          "2014-09-01T00:00:00",
          "2014-10-01T00:00:00",
          "2014-11-01T00:00:00",
          "2014-12-01T00:00:00",
          "2015-01-01T00:00:00",
          "2015-02-01T00:00:00",
          "2015-03-01T00:00:00",
          "2015-04-01T00:00:00",
          "2015-05-01T00:00:00",
          "2015-06-01T00:00:00",
          "2015-07-01T00:00:00",
          "2015-08-01T00:00:00",
          "2015-09-01T00:00:00",
          "2015-10-01T00:00:00",
          "2015-11-01T00:00:00",
          "2015-12-01T00:00:00",
          "2016-01-01T00:00:00",
          "2016-02-01T00:00:00",
          "2016-03-01T00:00:00",
          "2016-04-01T00:00:00",
          "2016-05-01T00:00:00",
          "2016-06-01T00:00:00",
          "2016-07-01T00:00:00",
          "2016-08-01T00:00:00",
          "2016-09-01T00:00:00",
          "2016-10-01T00:00:00",
          "2016-11-01T00:00:00",
          "2016-12-01T00:00:00",
          "2017-01-01T00:00:00",
          "2017-02-01T00:00:00",
          "2017-03-01T00:00:00",
          "2017-04-01T00:00:00",
          "2017-05-01T00:00:00",
          "2017-06-01T00:00:00",
          "2017-07-01T00:00:00",
          "2017-08-01T00:00:00",
          "2017-09-01T00:00:00",
          "2017-10-01T00:00:00",
          "2017-11-01T00:00:00",
          "2017-12-01T00:00:00",
          "2018-01-01T00:00:00",
          "2018-02-01T00:00:00",
          "2018-03-01T00:00:00",
          "2018-04-01T00:00:00",
          "2018-05-01T00:00:00",
          "2018-06-01T00:00:00",
          "2018-07-01T00:00:00",
          "2018-08-01T00:00:00",
          "2018-09-01T00:00:00",
          "2018-10-01T00:00:00",
          "2018-11-01T00:00:00",
          "2018-12-01T00:00:00",
          "2019-01-01T00:00:00",
          "2019-02-01T00:00:00",
          "2019-03-01T00:00:00",
          "2019-04-01T00:00:00",
          "2019-05-01T00:00:00",
          "2019-06-01T00:00:00",
          "2019-07-01T00:00:00",
          "2019-08-01T00:00:00",
          "2019-09-01T00:00:00",
          "2019-10-01T00:00:00",
          "2019-11-01T00:00:00",
          "2019-12-01T00:00:00",
          "2020-01-01T00:00:00",
          "2020-02-01T00:00:00",
          "2020-03-01T00:00:00",
          "2020-04-01T00:00:00",
          "2020-05-01T00:00:00",
          "2020-06-01T00:00:00",
          "2020-07-01T00:00:00",
          "2020-08-01T00:00:00",
          "2020-09-01T00:00:00",
          "2020-10-01T00:00:00",
          "2020-11-01T00:00:00",
          "2020-12-01T00:00:00",
          "2021-01-01T00:00:00",
          "2021-02-01T00:00:00",
          "2021-03-01T00:00:00",
          "2021-04-01T00:00:00",
          "2021-05-01T00:00:00",
          "2021-06-01T00:00:00",
          "2021-07-01T00:00:00",
          "2021-08-01T00:00:00",
          "2021-09-01T00:00:00",
          "2021-10-01T00:00:00",
          "2021-11-01T00:00:00",
          "2021-12-01T00:00:00",
          "2022-01-01T00:00:00",
          "2022-02-01T00:00:00",
          "2022-03-01T00:00:00",
          "2022-04-01T00:00:00",
          "2022-05-01T00:00:00",
          "2022-06-01T00:00:00"
         ],
         "y": [
          54,
          51,
          67,
          40,
          40,
          36,
          24,
          41,
          55,
          51,
          43,
          33,
          52,
          44,
          52,
          41,
          52,
          59,
          67,
          63,
          38,
          49,
          49,
          63,
          65,
          70,
          82,
          59,
          64,
          76,
          30,
          24,
          35,
          46,
          44,
          49,
          45,
          45,
          40,
          43,
          29,
          22,
          32,
          30,
          24,
          46,
          39,
          54,
          38,
          39,
          58,
          27,
          44,
          129,
          75,
          64,
          96,
          46,
          27,
          32,
          24,
          34,
          29,
          28,
          28,
          30,
          22,
          19,
          31,
          27,
          21,
          50,
          65,
          47,
          45,
          16,
          23,
          30,
          26,
          24,
          11,
          16,
          27,
          16,
          20,
          14,
          13,
          8,
          29,
          19,
          8,
          14,
          16,
          12,
          17,
          23,
          9
         ]
        },
        {
         "hoverinfo": "text",
         "hovertext": [
          "<b>Topic 4</b><br>Words: creativeresearch, extension, fr, saadiyat, 3m",
          "<b>Topic 4</b><br>Words: africa, giirrlmeetsworld, cans, tourguide, entirely",
          "<b>Topic 4</b><br>Words: ruskin, louvre, louvreguggenheim, niallfitzgerald, masterworks",
          "<b>Topic 4</b><br>Words: prior, action, quakers, bp, bpornotbp",
          "<b>Topic 4</b><br>Words: brass, nigeria, benincity, metal, plaque",
          "<b>Topic 4</b><br>Words: forcedlabour, colonial, louvre, guardian, rga",
          "<b>Topic 4</b><br>Words: guggenheim, saadiyat, abudhabi, forcedlabour, ilo",
          "<b>Topic 4</b><br>Words: australia, african, napoleons, aboriginal, hat",
          "<b>Topic 4</b><br>Words: propaganda, napoleon, napoleonbonaparte, napoleonic, bonaparte",
          "<b>Topic 4</b><br>Words: napoleon, bonaparte, propaganda, indigenous, ashrouen",
          "<b>Topic 4</b><br>Words: indigenous, australia, indigenousaustralia, art, aboriginal",
          "<b>Topic 4</b><br>Words: propaganda, napoleon, bp, michelleule, indigenousaustralia",
          "<b>Topic 4</b><br>Words: syria, guarding, looted, lecture, indigenousaustralia",
          "<b>Topic 4</b><br>Words: protest, sponsorship, bp, httpstcoucxgsq3h3p, 1bn",
          "<b>Topic 4</b><br>Words: iliad, almeida, iliadlive, almeidatheatre, epic",
          "<b>Topic 4</b><br>Words: activists, bp, protest, occupy, sponsorship",
          "<b>Topic 4</b><br>Words: inglaterra, video, londonlife, londres, unitedkingdom",
          "<b>Topic 4</b><br>Words: httpstcox3bssvhkuk, httpstco9vfskavjx5, httpstcowu3yl8rptp, yanks, httpstcol3psrhskyk",
          "<b>Topic 4</b><br>Words: httpstcola9bdmxnwt, httpstcokzwohmbfdc, copt, costa, salafyo",
          "<b>Topic 4</b><br>Words: african, art, africanrockart, rock, benin",
          "<b>Topic 4</b><br>Words: wordsymbolsong, yaabafunk, westafrica, exhibiting, performances",
          "<b>Topic 4</b><br>Words: stole, dja, selfguidedtour, abolitionist, httpstcojseprflajf",
          "<b>Topic 4</b><br>Words: bp, drop, sponsorship, ruffalo, names",
          "<b>Topic 4</b><br>Words: greenpeace, bp, protest, activists, scale",
          "<b>Topic 4</b><br>Words: refuse, guggenheim, httpstcop6y51nc3ox, httpstcoykj3fgdjdh, mills",
          "<b>Topic 4</b><br>Words: bp, partnerships, rsc, royaloperahouse, plaques",
          "<b>Topic 4</b><br>Words: dambuilding, johnvidal, chiefs, protest, amazon",
          "<b>Topic 4</b><br>Words: kraken, fossilfuel, bp, point, dropbp",
          "<b>Topic 4</b><br>Words: africa, south, art, southafrica, exhibition",
          "<b>Topic 4</b><br>Words: shield, return, bp, africa, south",
          "<b>Topic 4</b><br>Words: nation, south, africa, art, southafricanart",
          "<b>Topic 4</b><br>Words: skullscouting, fridaythe13th, httpstcoqgzemvy3jh, louvre, thatmuse",
          "<b>Topic 4</b><br>Words: southafricanart, iraqi, experts, c0nvey, trains",
          "<b>Topic 4</b><br>Words: heritage, emergency, southafrica, iraqi, colonialism",
          "<b>Topic 4</b><br>Words: handdecorated, renewal, birth, traditional, symbol",
          "<b>Topic 4</b><br>Words: provokes, encourages, keith, imagination, people",
          "<b>Topic 4</b><br>Words: africanart, africa, louvre, hunt, httpstco3z4bl1t0a4",
          "<b>Topic 4</b><br>Words: louvre, cultural, equestr, inconceivable, httpstconepfmice7b",
          "<b>Topic 4</b><br>Words: benin, sept, unique, come, sun",
          "<b>Topic 4</b><br>Words: asian, confusing, names, stolen, gleams",
          "<b>Topic 4</b><br>Words: dhabi, deal, abu, nov, 12",
          "<b>Topic 4</b><br>Words: pakistan, bust, mayor, unveiled, sadiqkhan",
          "<b>Topic 4</b><br>Words: protest, cracks, bp, huge, appear",
          "<b>Topic 4</b><br>Words: rodin, place, 2018, ur, 25th",
          "<b>Topic 4</b><br>Words: hamburg, rodin, africa, acryl, malerei",
          "<b>Topic 4</b><br>Words: pcsunion, carillion, inhouse, protest, museum",
          "<b>Topic 4</b><br>Words: rodin, rodinexhibition, art, ethiopia, ancient",
          "<b>Topic 4</b><br>Words: rodin, rodinexhibition, art, exhibition, attack",
          "<b>Topic 4</b><br>Words: rodin, rodinexhibition, art, ancient, exhibition",
          "<b>Topic 4</b><br>Words: rodin, kiss, rodinexhibition, thinker, art",
          "<b>Topic 4</b><br>Words: iraq, looted, antiquities, return, artifacts",
          "<b>Topic 4</b><br>Words: stolen, artworks, brazils, bellona, circumstance",
          "<b>Topic 4</b><br>Words: looted, paris, counter, scouting, stolen",
          "<b>Topic 4</b><br>Words: stolen, africa, britain, benin, nigeria",
          "<b>Topic 4</b><br>Words: artifacts, stolen, return, looted, benin",
          "<b>Topic 4</b><br>Words: nupe, windrush, african, stolen, nigerian",
          "<b>Topic 4</b><br>Words: protest, bp, iraq, nigeria, return",
          "<b>Topic 4</b><br>Words: ethiopia, crown, stolen, items, returned",
          "<b>Topic 4</b><br>Words: finches, bookfest, darwins, latimesfob, wallace",
          "<b>Topic 4</b><br>Words: stolen, return, artefacts, tabots, benin",
          "<b>Topic 4</b><br>Words: troy, years, benin, nigeria, artefacts",
          "<b>Topic 4</b><br>Words: lindow, phdlife, placement, man, archives",
          "<b>Topic 4</b><br>Words: jamaica, return, artefacts, seeks, stolen",
          "<b>Topic 4</b><br>Words: looted, httpstcobkgjfjl3ml, outofprint, ndtv, maritimus",
          "<b>Topic 4</b><br>Words: bp, troy, trojan, theatre, world",
          "<b>Topic 4</b><br>Words: troy, myth, stolen, troyexhibition, achilles",
          "<b>Topic 4</b><br>Words: troy, troyexhibition, achilles, myth, reality",
          "<b>Topic 4</b><br>Words: troy, eraofreclamation, caribbean, insearchofblackhistory, myth",
          "<b>Topic 4</b><br>Words: troy, bp, bpmustfall, protest, exhibition",
          "<b>Topic 4</b><br>Words: trustee, marybeard, blocked, beard, mary",
          "<b>Topic 4</b><br>Words: fridaythoughts, africanamerican, existence, trustee, meand",
          "<b>Topic 4</b><br>Words: c5th, travel, historical, guide, city",
          "<b>Topic 4</b><br>Words: looted, possession, signing, benin, petition",
          "<b>Topic 4</b><br>Words: stolen, horowitz39, valikasmeuthers, return, drambardar",
          "<b>Topic 4</b><br>Words: bust, sloane, slavery, stolen, founder",
          "<b>Topic 4</b><br>Words: stolen, benin, controversial, artefacts, beninbronzes",
          "<b>Topic 4</b><br>Words: arctic, climate, british, cultural, restitution",
          "<b>Topic 4</b><br>Words: beninbronzes, arctic, benin, emowaa, stolen",
          "<b>Topic 4</b><br>Words: looted, arctic, beninbronzes, stolen, artifacts",
          "<b>Topic 4</b><br>Words: arctic, parkas, eraofreclamation, amp, colonial",
          "<b>Topic 4</b><br>Words: artefacts, beninbronzes, collected, art, african",
          "<b>Topic 4</b><br>Words: beninbronzes, benin, httpstcony1aart7bd, stolen, return",
          "<b>Topic 4</b><br>Words: genius, caribbean, beninbronzes, conversation, eraofreclamation",
          "<b>Topic 4</b><br>Words: libya, looted, beninbronzes, statue, gweagal",
          "<b>Topic 4</b><br>Words: georgeosborne, osborne, george, chair, british",
          "<b>Topic 4</b><br>Words: beirutblast, restore, damaged, looted, stolen",
          "<b>Topic 4</b><br>Words: bp, colonialism, museum, beirut, artefacts",
          "<b>Topic 4</b><br>Words: beninbronzes, looted, blacktofront, benin, stolen",
          "<b>Topic 4</b><br>Words: looted, return, ethiopia, stolen, nigeria",
          "<b>Topic 4</b><br>Words: beninbronzes, httpstcolzqmflrkmn, ethiopia, benin, repatriation",
          "<b>Topic 4</b><br>Words: beninbronzes, stolen, nigeria, colonialviolence, looted",
          "<b>Topic 4</b><br>Words: stolen, knocked, boxers, professional, youve",
          "<b>Topic 4</b><br>Words: bp, sponsorship, stolen, 38degrees, deal",
          "<b>Topic 4</b><br>Words: artnotoil, climatefreeculture, goers, artivism, monkeesincharge",
          "<b>Topic 4</b><br>Words: bp, climate, stolen, dropbp, sponsorship",
          "<b>Topic 4</b><br>Words: stolen, cambodia, looted, return, invitation",
          "<b>Topic 4</b><br>Words: stolen, invitation, rsvp, british, pensions"
         ],
         "marker": {
          "color": "#D55E00"
         },
         "mode": "lines",
         "name": "4_bp_stolen_troy_british",
         "type": "scatter",
         "x": [
          "2014-06-01T00:00:00",
          "2014-07-01T00:00:00",
          "2014-08-01T00:00:00",
          "2014-09-01T00:00:00",
          "2014-10-01T00:00:00",
          "2014-11-01T00:00:00",
          "2014-12-01T00:00:00",
          "2015-01-01T00:00:00",
          "2015-02-01T00:00:00",
          "2015-03-01T00:00:00",
          "2015-04-01T00:00:00",
          "2015-05-01T00:00:00",
          "2015-06-01T00:00:00",
          "2015-07-01T00:00:00",
          "2015-08-01T00:00:00",
          "2015-09-01T00:00:00",
          "2015-10-01T00:00:00",
          "2015-11-01T00:00:00",
          "2015-12-01T00:00:00",
          "2016-01-01T00:00:00",
          "2016-02-01T00:00:00",
          "2016-03-01T00:00:00",
          "2016-04-01T00:00:00",
          "2016-05-01T00:00:00",
          "2016-06-01T00:00:00",
          "2016-07-01T00:00:00",
          "2016-08-01T00:00:00",
          "2016-09-01T00:00:00",
          "2016-10-01T00:00:00",
          "2016-11-01T00:00:00",
          "2016-12-01T00:00:00",
          "2017-01-01T00:00:00",
          "2017-02-01T00:00:00",
          "2017-03-01T00:00:00",
          "2017-04-01T00:00:00",
          "2017-05-01T00:00:00",
          "2017-06-01T00:00:00",
          "2017-07-01T00:00:00",
          "2017-08-01T00:00:00",
          "2017-09-01T00:00:00",
          "2017-10-01T00:00:00",
          "2017-11-01T00:00:00",
          "2017-12-01T00:00:00",
          "2018-01-01T00:00:00",
          "2018-02-01T00:00:00",
          "2018-03-01T00:00:00",
          "2018-04-01T00:00:00",
          "2018-05-01T00:00:00",
          "2018-06-01T00:00:00",
          "2018-07-01T00:00:00",
          "2018-08-01T00:00:00",
          "2018-09-01T00:00:00",
          "2018-10-01T00:00:00",
          "2018-11-01T00:00:00",
          "2018-12-01T00:00:00",
          "2019-01-01T00:00:00",
          "2019-02-01T00:00:00",
          "2019-03-01T00:00:00",
          "2019-04-01T00:00:00",
          "2019-05-01T00:00:00",
          "2019-06-01T00:00:00",
          "2019-07-01T00:00:00",
          "2019-08-01T00:00:00",
          "2019-09-01T00:00:00",
          "2019-10-01T00:00:00",
          "2019-11-01T00:00:00",
          "2019-12-01T00:00:00",
          "2020-01-01T00:00:00",
          "2020-02-01T00:00:00",
          "2020-03-01T00:00:00",
          "2020-04-01T00:00:00",
          "2020-05-01T00:00:00",
          "2020-06-01T00:00:00",
          "2020-07-01T00:00:00",
          "2020-08-01T00:00:00",
          "2020-09-01T00:00:00",
          "2020-10-01T00:00:00",
          "2020-11-01T00:00:00",
          "2020-12-01T00:00:00",
          "2021-01-01T00:00:00",
          "2021-02-01T00:00:00",
          "2021-03-01T00:00:00",
          "2021-04-01T00:00:00",
          "2021-05-01T00:00:00",
          "2021-06-01T00:00:00",
          "2021-07-01T00:00:00",
          "2021-08-01T00:00:00",
          "2021-09-01T00:00:00",
          "2021-10-01T00:00:00",
          "2021-11-01T00:00:00",
          "2021-12-01T00:00:00",
          "2022-01-01T00:00:00",
          "2022-02-01T00:00:00",
          "2022-03-01T00:00:00",
          "2022-04-01T00:00:00",
          "2022-05-01T00:00:00",
          "2022-06-01T00:00:00"
         ],
         "y": [
          19,
          8,
          8,
          71,
          12,
          14,
          14,
          13,
          21,
          19,
          23,
          28,
          26,
          36,
          29,
          35,
          70,
          9,
          4,
          13,
          18,
          10,
          31,
          83,
          6,
          12,
          6,
          19,
          29,
          32,
          12,
          31,
          22,
          13,
          25,
          17,
          10,
          8,
          9,
          33,
          22,
          28,
          14,
          24,
          17,
          24,
          40,
          62,
          54,
          48,
          55,
          15,
          26,
          31,
          24,
          15,
          34,
          15,
          7,
          22,
          21,
          126,
          31,
          4,
          7,
          94,
          41,
          102,
          123,
          80,
          18,
          32,
          82,
          19,
          108,
          35,
          42,
          51,
          33,
          16,
          14,
          39,
          14,
          32,
          103,
          24,
          17,
          42,
          35,
          28,
          24,
          16,
          31,
          19,
          24,
          35,
          21
         ]
        },
        {
         "hoverinfo": "text",
         "hovertext": [
          "<b>Topic 5</b><br>Words: parthenon, greece, marbles, athens, acropolis",
          "<b>Topic 5</b><br>Words: parthenon, marbles, parthenongalleries, restart, expected",
          "<b>Topic 5</b><br>Words: parthenon, greece, galleries, athens, parthenonsculptures",
          "<b>Topic 5</b><br>Words: parthenon, acropolis, greece, beauty, httptcolstaeexyl1",
          "<b>Topic 5</b><br>Words: greece, parthenon, marbles, parthenonmarbles, httptcofxksko3ddl",
          "<b>Topic 5</b><br>Words: parthenon, greece, marbles, httptcofxksko3ddl, httptconerk3hrc1t",
          "<b>Topic 5</b><br>Words: russia, elginmarbles, marbles, elgin, greece",
          "<b>Topic 5</b><br>Words: parthenon, marbles, greece, httptcoliefiwdrat, httptconerk3iipq5",
          "<b>Topic 5</b><br>Words: greece, marbles, parthenon, httptcoqjvpl1pp4h, greek",
          "<b>Topic 5</b><br>Words: greece, parthenon, elginmarbles, marbles, athens",
          "<b>Topic 5</b><br>Words: greece, parthenon, athens, parthenonsculptures, marbles",
          "<b>Topic 5</b><br>Words: greece, parthenon, marbles, elginmarbles, rules",
          "<b>Topic 5</b><br>Words: greek, parthenon, greece, return, propaganda",
          "<b>Topic 5</b><br>Words: greece, parthenon, marbles, greek, elgin",
          "<b>Topic 5</b><br>Words: artesplorando, viaggio, con, parthenon, al",
          "<b>Topic 5</b><br>Words: artesplorando, viaggio, con, al, greece",
          "<b>Topic 5</b><br>Words: parthenon, artesplorando, viaggio, con, al",
          "<b>Topic 5</b><br>Words: parthenon, athens, greece, cantata, panathenaia",
          "<b>Topic 5</b><br>Words: parthenon, marbles, iris, acropolismuseum, greece",
          "<b>Topic 5</b><br>Words: marbles, dayatthemuseum, bloomsbury, elgin, parthenonmarbles",
          "<b>Topic 5</b><br>Words: parthenon, elginmarbles, greece, httpstcoqulne88vxt, karyatides",
          "<b>Topic 5</b><br>Words: fujix30, greece, parthenon, cndtphotography, igphotography",
          "<b>Topic 5</b><br>Words: parthenonas, parthenon, parthenonmarbles, padparishipstersculpture, greece",
          "<b>Topic 5</b><br>Words: greece, parthenon, marbles, regain, international",
          "<b>Topic 5</b><br>Words: greece, parthenon, athens, parthenonmarbles, acropolis",
          "<b>Topic 5</b><br>Words: parthenon, greece, return, elginmarbles, marbles",
          "<b>Topic 5</b><br>Words: greece, parthenon, marbles, greek, story",
          "<b>Topic 5</b><br>Words: parthenon, greece, waiting, marbles, mobilephoto",
          "<b>Topic 5</b><br>Words: parthenon, marbles, elginmarbles, ancientgreece, parthenonmarbles",
          "<b>Topic 5</b><br>Words: parthenon, greek, marbles, greece, british",
          "<b>Topic 5</b><br>Words: believe, cant, httpstcoxacz0uqgxa, httpstcobxqbtevndj, httpstcoitlve2e6ty",
          "<b>Topic 5</b><br>Words: parthenonsculptures, parthenon, greece, marbles, return",
          "<b>Topic 5</b><br>Words: dadjokes, addicted, parthenon, centaur, greek",
          "<b>Topic 5</b><br>Words: marbles, parthenon, elgin, greece, parthenonmarbles",
          "<b>Topic 5</b><br>Words: parthenon, athens, pediment, greek, greece",
          "<b>Topic 5</b><br>Words: garlands, maia, flower, shown, named",
          "<b>Topic 5</b><br>Words: parthenon, sculptures, discovery, elgin, authority",
          "<b>Topic 5</b><br>Words: parthenon, elgin, marbles, greece, russianrevolution",
          "<b>Topic 5</b><br>Words: scythians, sony, marbles, parthenon, elginmarbles",
          "<b>Topic 5</b><br>Words: scythians, parthenon, warriors, ancient, siberia",
          "<b>Topic 5</b><br>Words: scythians, greece, parthenon, instalondon, marbles",
          "<b>Topic 5</b><br>Words: scythians, parthenon, warriors, greece, crimea",
          "<b>Topic 5</b><br>Words: scythians, parthenon, sculptures, oil, greece",
          "<b>Topic 5</b><br>Words: greece, parthenon, marbles, scythians, athens",
          "<b>Topic 5</b><br>Words: attend, 25th, unique, way, parthenon",
          "<b>Topic 5</b><br>Words: greece, charmed, parthenon, johncraxton, lives",
          "<b>Topic 5</b><br>Words: parthenon, parthenonsculptures, athens, greece, marbles",
          "<b>Topic 5</b><br>Words: parthenon, parthenonsculptures, greece, rodinexhibition, athens",
          "<b>Topic 5</b><br>Words: parthenon, greece, marbles, return, parthenonsculptures",
          "<b>Topic 5</b><br>Words: parthenon, greece, marbles, greek, acropolismuseum",
          "<b>Topic 5</b><br>Words: parthenon, athens, marbles, greece, acropolismuseum",
          "<b>Topic 5</b><br>Words: parthenon, greece, marbles, parthenonmarbles, greek",
          "<b>Topic 5</b><br>Words: parthenon, greece, athens, acropolismuseum, marbles",
          "<b>Topic 5</b><br>Words: parthenon, greece, greek, athens, iphonexs",
          "<b>Topic 5</b><br>Words: parthenon, greece, marbles, parthenonmarbles, acropolis",
          "<b>Topic 5</b><br>Words: greece, parthenon, marbles, elgin, parthenonmarbles",
          "<b>Topic 5</b><br>Words: parthenon, marbles, greece, athens, acropolismuseum",
          "<b>Topic 5</b><br>Words: parthenon, acropolismuseum, greece, athens, parthenonmarbles",
          "<b>Topic 5</b><br>Words: parthenon, greece, athens, parthenonmarbles, acropolismuseum",
          "<b>Topic 5</b><br>Words: parthenon, greece, athens, acropolismuseum, acropolis",
          "<b>Topic 5</b><br>Words: superman, parthenon, greece, neandercol, superboy",
          "<b>Topic 5</b><br>Words: parthenon, athens, acropolismuseum, greece, bringthemback",
          "<b>Topic 5</b><br>Words: parthenon, athens, greece, acropolismuseum, acropolis",
          "<b>Topic 5</b><br>Words: parthenon, greece, marbles, acropolis, athens",
          "<b>Topic 5</b><br>Words: parthenon, athens, greece, acropolismuseum, acropolis",
          "<b>Topic 5</b><br>Words: greece, parthenon, athens, marbles, acropolis",
          "<b>Topic 5</b><br>Words: parthenon, acropolismuseum, acropolis, athens, greece",
          "<b>Topic 5</b><br>Words: parthenon, greece, athens, acropolis, acropolismuseum",
          "<b>Topic 5</b><br>Words: parthenon, greece, athens, marbles, acropolis",
          "<b>Topic 5</b><br>Words: parthenon, greece, marbles, athens, acropolismuseum",
          "<b>Topic 5</b><br>Words: parthenon, greece, athens, sculptures, acropolismuseum",
          "<b>Topic 5</b><br>Words: parthenon, greece, athens, acropolis, acropolismuseum",
          "<b>Topic 5</b><br>Words: parthenon, greece, acropolismuseum, athens, marbles",
          "<b>Topic 5</b><br>Words: parthenon, greece, athens, acropolismuseum, acropolis",
          "<b>Topic 5</b><br>Words: parthenon, greece, marbles, athens, acropolismuseum",
          "<b>Topic 5</b><br>Words: parthenon, greece, athens, marbles, acropolismuseum",
          "<b>Topic 5</b><br>Words: athens, parthenon, greece, acropolis, acropolismuseum",
          "<b>Topic 5</b><br>Words: parthenon, sculptures, athens, reunify, httpstcof222cmjnsv",
          "<b>Topic 5</b><br>Words: parthenon, greece, marbles, athens, acropolismuseum",
          "<b>Topic 5</b><br>Words: parthenon, greece, athens, acropolismuseum, parthenonmarbles",
          "<b>Topic 5</b><br>Words: parthenon, athens, greece, acropolismuseum, acropolis",
          "<b>Topic 5</b><br>Words: parthenon, greece, parthenonmarbles, marbles, athens",
          "<b>Topic 5</b><br>Words: parthenon, acropolismuseum, parthenonmarbles, greece, athens",
          "<b>Topic 5</b><br>Words: parthenon, greece, persephone, athens, parthenonsculptures",
          "<b>Topic 5</b><br>Words: parthenon, athens, greece, acropolismuseum, acropolisthe",
          "<b>Topic 5</b><br>Words: parthenon, greece, athens, parthenonmarbles, elgin",
          "<b>Topic 5</b><br>Words: parthenon, marbles, greece, parthenonsculptures, athens",
          "<b>Topic 5</b><br>Words: parthenon, greece, marbles, elgin, elginmarbles",
          "<b>Topic 5</b><br>Words: parthenon, greece, unesco, marbles, parthenonmarbles",
          "<b>Topic 5</b><br>Words: parthenon, greece, marbles, athens, parthenonmarbles",
          "<b>Topic 5</b><br>Words: parthenon, greece, marbles, parthenonmarbles, athens",
          "<b>Topic 5</b><br>Words: parthenon, greece, parthenonmarbles, marbles, elginmarbles",
          "<b>Topic 5</b><br>Words: parthenon, marbles, greece, parthenonmarbles, acropolismuseum",
          "<b>Topic 5</b><br>Words: parthenon, marbles, greece, sculptures, parthenonmarbles",
          "<b>Topic 5</b><br>Words: parthenon, greece, acropolismuseum, marbles, parthenonmarbles",
          "<b>Topic 5</b><br>Words: parthenon, greece, marbles, parthenonmarbles, acropolismuseum",
          "<b>Topic 5</b><br>Words: parthenon, greece, marbles, athens, acropolismuseum"
         ],
         "marker": {
          "color": "#0072B2"
         },
         "mode": "lines",
         "name": "5_parthenon_greece_marbles_athens",
         "type": "scatter",
         "x": [
          "2014-06-01T00:00:00",
          "2014-07-01T00:00:00",
          "2014-08-01T00:00:00",
          "2014-09-01T00:00:00",
          "2014-10-01T00:00:00",
          "2014-11-01T00:00:00",
          "2014-12-01T00:00:00",
          "2015-01-01T00:00:00",
          "2015-02-01T00:00:00",
          "2015-03-01T00:00:00",
          "2015-04-01T00:00:00",
          "2015-05-01T00:00:00",
          "2015-06-01T00:00:00",
          "2015-07-01T00:00:00",
          "2015-08-01T00:00:00",
          "2015-09-01T00:00:00",
          "2015-10-01T00:00:00",
          "2015-11-01T00:00:00",
          "2015-12-01T00:00:00",
          "2016-01-01T00:00:00",
          "2016-02-01T00:00:00",
          "2016-03-01T00:00:00",
          "2016-04-01T00:00:00",
          "2016-05-01T00:00:00",
          "2016-06-01T00:00:00",
          "2016-07-01T00:00:00",
          "2016-08-01T00:00:00",
          "2016-09-01T00:00:00",
          "2016-10-01T00:00:00",
          "2016-11-01T00:00:00",
          "2016-12-01T00:00:00",
          "2017-01-01T00:00:00",
          "2017-02-01T00:00:00",
          "2017-03-01T00:00:00",
          "2017-04-01T00:00:00",
          "2017-05-01T00:00:00",
          "2017-06-01T00:00:00",
          "2017-07-01T00:00:00",
          "2017-08-01T00:00:00",
          "2017-09-01T00:00:00",
          "2017-10-01T00:00:00",
          "2017-11-01T00:00:00",
          "2017-12-01T00:00:00",
          "2018-01-01T00:00:00",
          "2018-02-01T00:00:00",
          "2018-03-01T00:00:00",
          "2018-04-01T00:00:00",
          "2018-05-01T00:00:00",
          "2018-06-01T00:00:00",
          "2018-07-01T00:00:00",
          "2018-08-01T00:00:00",
          "2018-09-01T00:00:00",
          "2018-10-01T00:00:00",
          "2018-11-01T00:00:00",
          "2018-12-01T00:00:00",
          "2019-01-01T00:00:00",
          "2019-02-01T00:00:00",
          "2019-03-01T00:00:00",
          "2019-04-01T00:00:00",
          "2019-05-01T00:00:00",
          "2019-06-01T00:00:00",
          "2019-07-01T00:00:00",
          "2019-08-01T00:00:00",
          "2019-09-01T00:00:00",
          "2019-10-01T00:00:00",
          "2019-11-01T00:00:00",
          "2019-12-01T00:00:00",
          "2020-01-01T00:00:00",
          "2020-02-01T00:00:00",
          "2020-03-01T00:00:00",
          "2020-04-01T00:00:00",
          "2020-05-01T00:00:00",
          "2020-06-01T00:00:00",
          "2020-07-01T00:00:00",
          "2020-08-01T00:00:00",
          "2020-09-01T00:00:00",
          "2020-10-01T00:00:00",
          "2020-11-01T00:00:00",
          "2020-12-01T00:00:00",
          "2021-01-01T00:00:00",
          "2021-02-01T00:00:00",
          "2021-03-01T00:00:00",
          "2021-04-01T00:00:00",
          "2021-05-01T00:00:00",
          "2021-06-01T00:00:00",
          "2021-07-01T00:00:00",
          "2021-08-01T00:00:00",
          "2021-09-01T00:00:00",
          "2021-10-01T00:00:00",
          "2021-11-01T00:00:00",
          "2021-12-01T00:00:00",
          "2022-01-01T00:00:00",
          "2022-02-01T00:00:00",
          "2022-03-01T00:00:00",
          "2022-04-01T00:00:00",
          "2022-05-01T00:00:00",
          "2022-06-01T00:00:00"
         ],
         "y": [
          10,
          13,
          13,
          9,
          33,
          26,
          185,
          25,
          16,
          23,
          28,
          50,
          15,
          22,
          42,
          32,
          32,
          14,
          11,
          15,
          11,
          35,
          20,
          13,
          14,
          14,
          10,
          18,
          17,
          12,
          4,
          11,
          9,
          11,
          10,
          31,
          12,
          14,
          9,
          30,
          30,
          24,
          13,
          34,
          27,
          12,
          31,
          16,
          34,
          15,
          24,
          30,
          26,
          33,
          19,
          57,
          33,
          16,
          33,
          17,
          61,
          20,
          18,
          41,
          14,
          45,
          28,
          23,
          69,
          32,
          14,
          29,
          27,
          8,
          30,
          18,
          36,
          45,
          29,
          24,
          16,
          30,
          9,
          16,
          16,
          11,
          28,
          12,
          36,
          58,
          29,
          29,
          14,
          15,
          14,
          36,
          24
         ]
        },
        {
         "hoverinfo": "text",
         "hovertext": [
          "<b>Topic 6</b><br>Words: httptco95atnioukd, testimonials, watch, video, black",
          "<b>Topic 6</b><br>Words: pineapplenecklace, httptcoatrgttwgp1, juicy, pineapple, delivering",
          "<b>Topic 6</b><br>Words: taymourgrahne, saadiyatcd, httptcoowzwvanm6i, booth, venetia",
          "<b>Topic 6</b><br>Words: drilling, cover, giving, macgregor, neil",
          "<b>Topic 6</b><br>Words: httptcobhezoh1ia2, equinox, httptcoh4m1d5fe5a, mentioned, 3000",
          "<b>Topic 6</b><br>Words: testimonials, watch, video, blackhistory, tour",
          "<b>Topic 6</b><br>Words: neckties, executive, httptcoxbfeqzx5kl, career, mens",
          "<b>Topic 6</b><br>Words: londonbaby, glamgirl, httptcoeagrfxrdqp, book, midnight",
          "<b>Topic 6</b><br>Words: artesplorando, viaggio, con, httpstcoeghonnwwnp, al",
          "<b>Topic 6</b><br>Words: digitalmedia, broadcast, culturalco, httptcoxa3dsydrgc, accredited",
          "<b>Topic 6</b><br>Words: artesplorando, viaggio, con, httpstco4jeibumdql, edw",
          "<b>Topic 6</b><br>Words: sainsburyafricangalleries, artworld, photocredit, cashino, ndt",
          "<b>Topic 6</b><br>Words: 12, march, black, tour, httpstcoeagrfxrdqp",
          "<b>Topic 6</b><br>Words: sainsburyafricangalleries, cashinondt, ndt, cashino, photocredit",
          "<b>Topic 6</b><br>Words: june, sun, blackhistory, book, tour",
          "<b>Topic 6</b><br>Words: june, httpstcoeagrfxrdqp, blackhistory, httpstco0amhtvngav, knnacho",
          "<b>Topic 6</b><br>Words: tour, httpstcos02mibs8vd, httpstcomz5s2ttoxn, httpstcoogbhdnzvj7, pict",
          "<b>Topic 6</b><br>Words: tour, october, blackhistory, httpstcoeagrfxrdqp, sun",
          "<b>Topic 6</b><br>Words: sun, httpstcoeagrfxrdqp, tour, october, blackhistory",
          "<b>Topic 6</b><br>Words: mapungubwe, rhino, africas, travels, golden",
          "<b>Topic 6</b><br>Words: 19, sun, httpstcol7bvzpdqc3, book, blackhistory",
          "<b>Topic 6</b><br>Words: 19, march, blackhistory, tour, book",
          "<b>Topic 6</b><br>Words: c0nvey, blackhistory, tour, 19, march",
          "<b>Topic 6</b><br>Words: c0nvey, swans, bracelet, 600, podcats",
          "<b>Topic 6</b><br>Words: june, sun, httpstcoeagrfxrdqp, tour, blackhistory",
          "<b>Topic 6</b><br>Words: httpstcoxc6v0avvxo, masalafestival, chaichaatchutney, httpstco6brfb7z8zx, chetnamakan",
          "<b>Topic 6</b><br>Words: sept, spaces, sun, blackhistory, tour",
          "<b>Topic 6</b><br>Words: blackhistory, tour, book, place, httpstcoeagrfxrdqp",
          "<b>Topic 6</b><br>Words: nov, tour, 12, httpstcoeagrfxrdqp, sun",
          "<b>Topic 6</b><br>Words: agencyaccent, reposting, totem, tour, blackhistory",
          "<b>Topic 6</b><br>Words: httpstco4i5i2jlaug, agencyaccent, reposting, totem, design",
          "<b>Topic 6</b><br>Words: place, 25th, secure, prebooking, httpstcoeagrfxrdqp",
          "<b>Topic 6</b><br>Words: place, 25th, guidedtours, museumlover, secure",
          "<b>Topic 6</b><br>Words: blackhistory, museumtours, museumlover, secure, 25th",
          "<b>Topic 6</b><br>Words: 27th, blackhistory, prebooking, secure, place",
          "<b>Topic 6</b><br>Words: blackhistory, tour, 27th, guidedtours, museumtours",
          "<b>Topic 6</b><br>Words: place, 29th, july2018prebooking, nowhttpstcoeagrfxrdqpbook, secure",
          "<b>Topic 6</b><br>Words: 29, blackhistory, secure, tour, essential",
          "<b>Topic 6</b><br>Words: 7th, october, interactive, httpstco08ms66qdlk, blackhistory",
          "<b>Topic 6</b><br>Words: blackhistory, 7th, october, essential, museumfun",
          "<b>Topic 6</b><br>Words: blackhistory, tour, sunday, secure, museumtours",
          "<b>Topic 6</b><br>Words: blackhistory, tour, essential, secure, guidedtours",
          "<b>Topic 6</b><br>Words: babylonia, blackhistory, assyria, tour, book",
          "<b>Topic 6</b><br>Words: blackhistory, tour, essential, museumfun, place",
          "<b>Topic 6</b><br>Words: blackhistory, essential, tour, museumfun, place",
          "<b>Topic 6</b><br>Words: blackhistory, tour, essential, 14, museumfun",
          "<b>Topic 6</b><br>Words: blackhistory, tour, essential, museumfun, book",
          "<b>Topic 6</b><br>Words: blackhistory, 26th, tour, essential, museumfun",
          "<b>Topic 6</b><br>Words: 28th, blackhistory, book, secure, guidedtours",
          "<b>Topic 6</b><br>Words: tour, blackhistory, testimonial, museumfun, place",
          "<b>Topic 6</b><br>Words: blackhistory, 29th, secure, guidedtours, museumtours",
          "<b>Topic 6</b><br>Words: blackhistory, 29th, tour, secure, essential",
          "<b>Topic 6</b><br>Words: november2019prebooking, 17th, nowhttpstcoemdgloyrgpbook, blackhistory, museumtours",
          "<b>Topic 6</b><br>Words: blackhistory, tour, essential, secure, guidedtours",
          "<b>Topic 6</b><br>Words: blackhistory, tour, essential, sunday, place",
          "<b>Topic 6</b><br>Words: blackhistory, 2020, httpstcoemdgloyrgp, tour, essential",
          "<b>Topic 6</b><br>Words: blackhistory, tour, essential, sunday, place",
          "<b>Topic 6</b><br>Words: blackhistory, tour, essential, museumfun, sunday",
          "<b>Topic 6</b><br>Words: httpstcofazvgbxe6m, europe, 20080412dsc003872492, httpstcos1cien22ks, httpstcova3jxwu8ii",
          "<b>Topic 6</b><br>Words: httpstcoccwehoarba, 20080412dsc000154553, europe, england, london",
          "<b>Topic 6</b><br>Words: blackartsmatter, returntheloot, retweeting, blacklivesmatter, demanding",
          "<b>Topic 6</b><br>Words: europe, england, london, httpstco99otbdlyyt, 20080412dsc0007100695",
          "<b>Topic 6</b><br>Words: httpstcoaayocr8okb, 20080412dsc0045105837, kriskoeller, europe, england",
          "<b>Topic 6</b><br>Words: book, httpstcouxmevmmjqw, racism, amazon, blackhistory",
          "<b>Topic 6</b><br>Words: europe, england, london, 530pm, httpstcoab4lo3amtm",
          "<b>Topic 6</b><br>Words: dawnofadarkage, interview, blackhistory, tour, europe",
          "<b>Topic 6</b><br>Words: book, afield, gmt, nubia, httpstcohid0tsa6xh",
          "<b>Topic 6</b><br>Words: blackhistory, tour, httpstcohid0tsa6xh, book, january",
          "<b>Topic 6</b><br>Words: lothair, neanderthals, capabilities, httpstcov2ykgnqopi, httpstcorvnqxxx78g",
          "<b>Topic 6</b><br>Words: blackhistory, book, 24, tour, april",
          "<b>Topic 6</b><br>Words: blackhistory, book, tour, 24, virtual",
          "<b>Topic 6</b><br>Words: nourishment, httpstcozq9dy026jf, postlockdown, tim, httpstcolyegf8mqxi",
          "<b>Topic 6</b><br>Words: book, 17, blackhistory, afield, gmt",
          "<b>Topic 6</b><br>Words: book, blackhistory, tour, 17, virtual",
          "<b>Topic 6</b><br>Words: europe, england, london, httpstcoccwehoarba, 20080412dsc003872492",
          "<b>Topic 6</b><br>Words: benin, blacktalent, c4blackandproud, blackexcellence, channel4news",
          "<b>Topic 6</b><br>Words: blackhistory, book, tour, 13, virtual",
          "<b>Topic 6</b><br>Words: blackhistory, 13, tour, book, gmt",
          "<b>Topic 6</b><br>Words: europe, 20080412dsc000241772, httpstcow01lkff7ju, httpstcohdnvktsqat, 20080412dsc000887872",
          "<b>Topic 6</b><br>Words: book, blackhistory, tour, feb, 2022",
          "<b>Topic 6</b><br>Words: book, blackhistory, tour, httpstcoemdgloyrgp, virtual",
          "<b>Topic 6</b><br>Words: httpstcoah23l4wbxi, 20080412dsc0026103261, europe, england, london",
          "<b>Topic 6</b><br>Words: piranesi, nft, piranesinft, blackhistory, collect",
          "<b>Topic 6</b><br>Words: nft, piranesinft, drop, sale, cest",
          "<b>Topic 6</b><br>Words: book, 16, blackhistory, gmt, 1900"
         ],
         "marker": {
          "color": "#CC79A7"
         },
         "mode": "lines",
         "name": "6_blackhistory_tour_book_place",
         "type": "scatter",
         "x": [
          "2014-07-01T00:00:00",
          "2014-09-01T00:00:00",
          "2014-11-01T00:00:00",
          "2015-02-01T00:00:00",
          "2015-03-01T00:00:00",
          "2015-04-01T00:00:00",
          "2015-06-01T00:00:00",
          "2015-07-01T00:00:00",
          "2015-08-01T00:00:00",
          "2015-09-01T00:00:00",
          "2015-10-01T00:00:00",
          "2016-01-01T00:00:00",
          "2016-02-01T00:00:00",
          "2016-03-01T00:00:00",
          "2016-04-01T00:00:00",
          "2016-05-01T00:00:00",
          "2016-06-01T00:00:00",
          "2016-08-01T00:00:00",
          "2016-09-01T00:00:00",
          "2016-10-01T00:00:00",
          "2017-01-01T00:00:00",
          "2017-02-01T00:00:00",
          "2017-03-01T00:00:00",
          "2017-04-01T00:00:00",
          "2017-05-01T00:00:00",
          "2017-07-01T00:00:00",
          "2017-08-01T00:00:00",
          "2017-09-01T00:00:00",
          "2017-10-01T00:00:00",
          "2017-11-01T00:00:00",
          "2017-12-01T00:00:00",
          "2018-01-01T00:00:00",
          "2018-02-01T00:00:00",
          "2018-03-01T00:00:00",
          "2018-04-01T00:00:00",
          "2018-05-01T00:00:00",
          "2018-06-01T00:00:00",
          "2018-07-01T00:00:00",
          "2018-08-01T00:00:00",
          "2018-09-01T00:00:00",
          "2018-10-01T00:00:00",
          "2018-11-01T00:00:00",
          "2018-12-01T00:00:00",
          "2019-01-01T00:00:00",
          "2019-02-01T00:00:00",
          "2019-03-01T00:00:00",
          "2019-04-01T00:00:00",
          "2019-05-01T00:00:00",
          "2019-06-01T00:00:00",
          "2019-07-01T00:00:00",
          "2019-08-01T00:00:00",
          "2019-09-01T00:00:00",
          "2019-10-01T00:00:00",
          "2019-11-01T00:00:00",
          "2019-12-01T00:00:00",
          "2020-01-01T00:00:00",
          "2020-02-01T00:00:00",
          "2020-03-01T00:00:00",
          "2020-04-01T00:00:00",
          "2020-05-01T00:00:00",
          "2020-06-01T00:00:00",
          "2020-07-01T00:00:00",
          "2020-08-01T00:00:00",
          "2020-09-01T00:00:00",
          "2020-10-01T00:00:00",
          "2020-11-01T00:00:00",
          "2020-12-01T00:00:00",
          "2021-01-01T00:00:00",
          "2021-02-01T00:00:00",
          "2021-03-01T00:00:00",
          "2021-04-01T00:00:00",
          "2021-05-01T00:00:00",
          "2021-06-01T00:00:00",
          "2021-07-01T00:00:00",
          "2021-08-01T00:00:00",
          "2021-09-01T00:00:00",
          "2021-10-01T00:00:00",
          "2021-11-01T00:00:00",
          "2021-12-01T00:00:00",
          "2022-01-01T00:00:00",
          "2022-02-01T00:00:00",
          "2022-03-01T00:00:00",
          "2022-04-01T00:00:00",
          "2022-05-01T00:00:00",
          "2022-06-01T00:00:00"
         ],
         "y": [
          1,
          1,
          1,
          105,
          1,
          4,
          12,
          14,
          3,
          39,
          4,
          69,
          6,
          4,
          4,
          3,
          3,
          6,
          13,
          13,
          23,
          55,
          65,
          45,
          22,
          2,
          19,
          6,
          31,
          6,
          1,
          12,
          50,
          46,
          23,
          18,
          17,
          22,
          2,
          15,
          18,
          24,
          10,
          17,
          36,
          33,
          19,
          31,
          19,
          22,
          17,
          22,
          33,
          30,
          21,
          38,
          35,
          23,
          3,
          1,
          100,
          4,
          1,
          5,
          6,
          6,
          5,
          8,
          4,
          12,
          24,
          2,
          12,
          23,
          3,
          2,
          8,
          10,
          2,
          12,
          6,
          1,
          13,
          24,
          5
         ]
        },
        {
         "hoverinfo": "text",
         "hovertext": [
          "<b>Topic 7</b><br>Words: tetsuyanoda, tetsuya, noda, pictures, exhibition",
          "<b>Topic 7</b><br>Words: miniature, carving, japanese, httptco80la6rsdz5, httptcowmjsvfvzax",
          "<b>Topic 7</b><br>Words: japanese, japan, httptcoh7ciaasaj7, httptco3ldbbaongy, sth",
          "<b>Topic 7</b><br>Words: japan, obento, kanjis, httptcojwlwgkv7uf, atsukoskitchen",
          "<b>Topic 7</b><br>Words: goya, httptco380swoevuh, britishmuseumhistory, httptco4cvhaf3pcq, httptcoht3kktvkux",
          "<b>Topic 7</b><br>Words: hou, httptcoyafn0h9hmt, gui, kang, expand",
          "<b>Topic 7</b><br>Words: samurai, httptcoo0uxkt72p8, culturalafternoon, yunggleam, httptcokj9akfrcyb",
          "<b>Topic 7</b><br>Words: japanese, exhibit, amazing, love, manga",
          "<b>Topic 7</b><br>Words: japan, monk, 2015, eightwiewsofomi, amazingdress",
          "<b>Topic 7</b><br>Words: samurai, samoura, httptcouv8rfby1nn, httpstcovlbyze4ubk, katana",
          "<b>Topic 7</b><br>Words: japanese, japan, softspoken, motherfucker, httpstcoaonot2bsbl",
          "<b>Topic 7</b><br>Words: alasaca, notas, yakuza, httpstcomoxkldr8ek, metiendo",
          "<b>Topic 7</b><br>Words: japan, japanesefood, httpstcov8xhkihear, hosono, take2",
          "<b>Topic 7</b><br>Words: manga, manganow, japan, japanese, exhibition",
          "<b>Topic 7</b><br>Words: respect, manga, httpstco8syzp5wyog, httpstcopqfmiehbrc, wanderer",
          "<b>Topic 7</b><br>Words: japan, manga, cartoon, japanese, geezer",
          "<b>Topic 7</b><br>Words: potenhits, sawa, sawachi, gm, japaneseidol",
          "<b>Topic 7</b><br>Words: cashinondt, ndt, cashino, photocredit, headshots",
          "<b>Topic 7</b><br>Words: cashinondt, ndt, photocredit, cashino, httpstcoulkofdbalh",
          "<b>Topic 7</b><br>Words: httpstcowbjaehsanw, saintoniisan, httpstco5wfgnrie7p, httpstcozewhhfpigd, japanology",
          "<b>Topic 7</b><br>Words: japon, gopro, japan, casadete, httpstcohmeq7ddxn8",
          "<b>Topic 7</b><br>Words: httpstconpohfk0yed, japanese, earthpix, 07052016, httpstcoarfkvvgxfr",
          "<b>Topic 7</b><br>Words: swarms, httpstcowenvzdhk5m, elbows, southampton, locusts",
          "<b>Topic 7</b><br>Words: httpstcozwps2vjozz, httpstcohb47ij2mrt, goatandkid, hoshopaper, woodblockprint",
          "<b>Topic 7</b><br>Words: faun, drunkbaby, httpstcooukyusxpwy, httpstcou6ellxchiz, getthosegrapesinya",
          "<b>Topic 7</b><br>Words: japanese, tea, httpstcoeddnwjv4jc, httpstcoesbtvf6tyn, httpstcoki8oiu6jqw",
          "<b>Topic 7</b><br>Words: samurai, inktober, armour, japan, httpstcolygnvxkebo",
          "<b>Topic 7</b><br>Words: lionel, davis, c0nvey, powerful, talk",
          "<b>Topic 7</b><br>Words: hokusai, wave, ht, 25, 2017",
          "<b>Topic 7</b><br>Words: jiujitsu, bjj, c4d, martialarts, samurai",
          "<b>Topic 7</b><br>Words: worldbookday, 5000, earliest, celebrating, c0nvey",
          "<b>Topic 7</b><br>Words: c0nvey, hokusai, japanese, turner, exhibition",
          "<b>Topic 7</b><br>Words: hokusai, barnsleyisbrill, wave, c0nvey, japan",
          "<b>Topic 7</b><br>Words: hokusai, wave, barnsleyisbrill, exhibition, manga",
          "<b>Topic 7</b><br>Words: hokusai, exhibition, japanese, wave, manga",
          "<b>Topic 7</b><br>Words: hokusai, barnsleyisbrill, exhibition, wave, thegreatwave",
          "<b>Topic 7</b><br>Words: hokusai, japanesewing, httpstcob74pcg6uae, deanclough, httpstcoy3xgtxfu9l",
          "<b>Topic 7</b><br>Words: httpstcoley0bszb0o, japan, art, manga, hokusai",
          "<b>Topic 7</b><br>Words: httpstco3cx0ylbix1, exploration, porcelain, nature, pottery",
          "<b>Topic 7</b><br>Words: meguro, snowy, tokyo, japan, japanese",
          "<b>Topic 7</b><br>Words: httpstcogildpjyrq4, httpstcorpizyspbgz, httpstco72hgnxwjug, panto, httpstcoqrxqnd1ygs",
          "<b>Topic 7</b><br>Words: olympics, starsofthekoreancollection, kccuk, httpstcopi7kuhh1lf, pyeongchang2018",
          "<b>Topic 7</b><br>Words: wahidtutors, english, lessons, museums, httpstcoqxqw1gpbau",
          "<b>Topic 7</b><br>Words: httpstcoh1eqoof3cg, revitalising, hokusaidecorated, salad, coffee",
          "<b>Topic 7</b><br>Words: httpstcobmbwn1aom6, httpstcohebusmoash, abstracted, haniwa, figural",
          "<b>Topic 7</b><br>Words: uncover, histories, hidden, museumlovermuseumfun, black",
          "<b>Topic 7</b><br>Words: 29, july2018prebooking, shunga, uncover, nowhttpstcoeagrfxrdqpbook",
          "<b>Topic 7</b><br>Words: hokusai, manga, japan, japanese, minamoto",
          "<b>Topic 7</b><br>Words: 7th, october, uncover, histories, hidden",
          "<b>Topic 7</b><br>Words: 18th, uncover, histories, hidden, black",
          "<b>Topic 7</b><br>Words: japanese, guidedtoursafricanhistory, november2018prebooking, nowhttpstco08ms66qdlkbook, 18th",
          "<b>Topic 7</b><br>Words: manga, japan, outside, exhibition, 2019",
          "<b>Topic 7</b><br>Words: manga, japan, performanceart, outside, largest",
          "<b>Topic 7</b><br>Words: japan, crows, httpstcoz9qnf37wvb, issybryonyh, mangaexcibition",
          "<b>Topic 7</b><br>Words: manga, japanese, japan, teampentax, httpstco1acer59kzs",
          "<b>Topic 7</b><br>Words: manga, japan, phyllismahon, japanese, exhibition",
          "<b>Topic 7</b><br>Words: manga, exhibition, japan, mangaexhibition, hokusai",
          "<b>Topic 7</b><br>Words: manga, beautifullife, toykingdom, toykingdomdesign, wangyu",
          "<b>Topic 7</b><br>Words: manga, mangaexhibition, exhibition, hokusai, japanese",
          "<b>Topic 7</b><br>Words: manga, mangaexhibition, exhibition, hokusai, japanese",
          "<b>Topic 7</b><br>Words: manga, japanese, shunga, exhibition, japan",
          "<b>Topic 7</b><br>Words: nara, japan, hokusai, japanese, cooking",
          "<b>Topic 7</b><br>Words: cubotx18, japaneseart, outing, japan, japaneseculture",
          "<b>Topic 7</b><br>Words: samurai, artofvisuals, artstudy, artnerd, artcollective",
          "<b>Topic 7</b><br>Words: domjan, mandarake, woodblock, print, sahra",
          "<b>Topic 7</b><br>Words: iwai, hanshiro, httpstcorkfslddngb, floatingworld, 1820s",
          "<b>Topic 7</b><br>Words: feature, hokusai, throwback, httpstcoz72pkpe3rl, httpstcoxzn7cbkxst",
          "<b>Topic 7</b><br>Words: pompeii, cocksuker, hokusai, origami, cmon",
          "<b>Topic 7</b><br>Words: utamaro, kitagawa, ukiyoe, httpstcoraczycbswi, niwaka",
          "<b>Topic 7</b><br>Words: httpstcoccmy4z5hdp, httpstco6wbfyvpw0s, dive, reopens, discovering",
          "<b>Topic 7</b><br>Words: hokusai, drawings, 103, lost, japanese",
          "<b>Topic 7</b><br>Words: httpstcorm9skoitfy, consulting, httpstcovswhgtmvvh, httpstcofwvmj5b8k3, catalogues",
          "<b>Topic 7</b><br>Words: httpstcofwvmj5b8k3, viewbug, naturelovers, naturephotos, fotografia",
          "<b>Topic 7</b><br>Words: manga, httpstcozbg9thfkss, izim, angkuoch, unescobangkok",
          "<b>Topic 7</b><br>Words: coldwarsteve, japan, atkinhouse, pamphlets, httpstcoqaiuknywyd",
          "<b>Topic 7</b><br>Words: httpstco3bwy2p4ejj, naturelovers, naturephotos, viewbug, fotografia",
          "<b>Topic 7</b><br>Words: httpstcorsfuuzqhph, katsushika, bespokeinsurance, artexhibition, centuries",
          "<b>Topic 7</b><br>Words: hokusai, nfts, digitisation, luxury, workshop",
          "<b>Topic 7</b><br>Words: nfts, hokusai, postcards, digital, enters",
          "<b>Topic 7</b><br>Words: hokusai, manga, japan, exhibition, nfts",
          "<b>Topic 7</b><br>Words: hokusai, exhibition, manga, japan, thegreatwave",
          "<b>Topic 7</b><br>Words: hokusai, japanese, picture, bespokeinsurance, selling",
          "<b>Topic 7</b><br>Words: hokusai, nft, turner, nfts, exhibition",
          "<b>Topic 7</b><br>Words: turner, nft, nfts, hokusai, manga",
          "<b>Topic 7</b><br>Words: swords, japanese, communicates, foreigner, japanesesword",
          "<b>Topic 7</b><br>Words: nft, japanese, manga, japan, hokusai",
          "<b>Topic 7</b><br>Words: cezanne, theartinstituteofchicago, httpstcoixbqqbmxkv, venicebiennale, whitneybiennial",
          "<b>Topic 7</b><br>Words: armory, whitneybiennial, venicebiennale, koyaabe, arthistorian"
         ],
         "marker": {
          "color": "#E69F00"
         },
         "mode": "lines",
         "name": "7_manga_hokusai_japan_japanese",
         "type": "scatter",
         "x": [
          "2014-06-01T00:00:00",
          "2014-07-01T00:00:00",
          "2014-08-01T00:00:00",
          "2014-10-01T00:00:00",
          "2014-11-01T00:00:00",
          "2014-12-01T00:00:00",
          "2015-01-01T00:00:00",
          "2015-02-01T00:00:00",
          "2015-03-01T00:00:00",
          "2015-04-01T00:00:00",
          "2015-05-01T00:00:00",
          "2015-07-01T00:00:00",
          "2015-08-01T00:00:00",
          "2015-09-01T00:00:00",
          "2015-10-01T00:00:00",
          "2015-11-01T00:00:00",
          "2015-12-01T00:00:00",
          "2016-01-01T00:00:00",
          "2016-02-01T00:00:00",
          "2016-03-01T00:00:00",
          "2016-04-01T00:00:00",
          "2016-05-01T00:00:00",
          "2016-06-01T00:00:00",
          "2016-07-01T00:00:00",
          "2016-08-01T00:00:00",
          "2016-09-01T00:00:00",
          "2016-10-01T00:00:00",
          "2016-12-01T00:00:00",
          "2017-01-01T00:00:00",
          "2017-02-01T00:00:00",
          "2017-03-01T00:00:00",
          "2017-04-01T00:00:00",
          "2017-05-01T00:00:00",
          "2017-06-01T00:00:00",
          "2017-07-01T00:00:00",
          "2017-08-01T00:00:00",
          "2017-09-01T00:00:00",
          "2017-10-01T00:00:00",
          "2017-11-01T00:00:00",
          "2017-12-01T00:00:00",
          "2018-01-01T00:00:00",
          "2018-02-01T00:00:00",
          "2018-03-01T00:00:00",
          "2018-04-01T00:00:00",
          "2018-05-01T00:00:00",
          "2018-06-01T00:00:00",
          "2018-07-01T00:00:00",
          "2018-08-01T00:00:00",
          "2018-09-01T00:00:00",
          "2018-10-01T00:00:00",
          "2018-11-01T00:00:00",
          "2018-12-01T00:00:00",
          "2019-01-01T00:00:00",
          "2019-02-01T00:00:00",
          "2019-03-01T00:00:00",
          "2019-04-01T00:00:00",
          "2019-05-01T00:00:00",
          "2019-06-01T00:00:00",
          "2019-07-01T00:00:00",
          "2019-08-01T00:00:00",
          "2019-09-01T00:00:00",
          "2019-10-01T00:00:00",
          "2019-11-01T00:00:00",
          "2019-12-01T00:00:00",
          "2020-01-01T00:00:00",
          "2020-03-01T00:00:00",
          "2020-04-01T00:00:00",
          "2020-05-01T00:00:00",
          "2020-07-01T00:00:00",
          "2020-08-01T00:00:00",
          "2020-09-01T00:00:00",
          "2020-10-01T00:00:00",
          "2020-11-01T00:00:00",
          "2020-12-01T00:00:00",
          "2021-03-01T00:00:00",
          "2021-05-01T00:00:00",
          "2021-07-01T00:00:00",
          "2021-08-01T00:00:00",
          "2021-09-01T00:00:00",
          "2021-10-01T00:00:00",
          "2021-11-01T00:00:00",
          "2021-12-01T00:00:00",
          "2022-01-01T00:00:00",
          "2022-02-01T00:00:00",
          "2022-03-01T00:00:00",
          "2022-04-01T00:00:00",
          "2022-05-01T00:00:00",
          "2022-06-01T00:00:00"
         ],
         "y": [
          4,
          4,
          3,
          4,
          3,
          1,
          2,
          1,
          5,
          3,
          3,
          1,
          3,
          12,
          2,
          3,
          3,
          129,
          14,
          3,
          3,
          4,
          2,
          2,
          2,
          3,
          2,
          4,
          23,
          3,
          41,
          40,
          47,
          67,
          35,
          30,
          5,
          1,
          1,
          4,
          3,
          1,
          2,
          1,
          2,
          12,
          10,
          8,
          15,
          12,
          11,
          10,
          20,
          3,
          6,
          11,
          66,
          103,
          74,
          68,
          10,
          8,
          11,
          7,
          4,
          1,
          2,
          5,
          2,
          1,
          15,
          2,
          3,
          5,
          6,
          1,
          1,
          6,
          17,
          23,
          16,
          6,
          29,
          15,
          7,
          13,
          4,
          5
         ]
        },
        {
         "hoverinfo": "text",
         "hovertext": [
          "<b>Topic 8</b><br>Words: httptcodmrvplid7v, discoveranthro, londonanthropologyday2014, attends, social",
          "<b>Topic 8</b><br>Words: httptcogdesxmfjgl, gumgum, dumdum, spend, actually",
          "<b>Topic 8</b><br>Words: bpsponsored, httptcomp6hthz3rw, spill, reclaimourbard, deepwaterhorizon",
          "<b>Topic 8</b><br>Words: remocamerota, remography, remocamero, whitewall, remix",
          "<b>Topic 8</b><br>Words: holidaywinners, losers, box, office, winners",
          "<b>Topic 8</b><br>Words: dum, gum, tyl, httpstcoytql6o2nqm, happiness",
          "<b>Topic 8</b><br>Words: dumb, gum, httpstcoshkxnp7hsm, nightinthemuseummovie, met",
          "<b>Topic 8</b><br>Words: anthropology, lad2015, unikent, anthropologist, budding",
          "<b>Topic 8</b><br>Words: gum, oldart, lastcrusade, brody, httptco7pmzm4i6zs",
          "<b>Topic 8</b><br>Words: gum, httpstco1pby17hqwp, httpstcouzqpttb7zi, gumgum, wanderlust",
          "<b>Topic 8</b><br>Words: vaishnavi, kubera, palaempire, 1043, kumari",
          "<b>Topic 8</b><br>Words: rarehistorical, kumari, kubera, palaempire, vaishnavi",
          "<b>Topic 8</b><br>Words: anthropologyandphotography, callforpaper, httpstcojedvufdyn5, anthropology, gum",
          "<b>Topic 8</b><br>Words: httpstcojedvufdyn5, anthropologyandphotography, callforpaper, anthropology, revisits",
          "<b>Topic 8</b><br>Words: sicily, conquest, sicilian, culture, periscope",
          "<b>Topic 8</b><br>Words: httpstcojedvufdyn5, callforpaper, anthropologyandphotography, anthropology, dumb",
          "<b>Topic 8</b><br>Words: sicily, sicilyexhibition, conquest, palatine, exhibition",
          "<b>Topic 8</b><br>Words: sicily, exhibition, sicilyexhibition, httpstcosdjtsvv5m5, gum",
          "<b>Topic 8</b><br>Words: sicily, sicilyexhibition, httpstcosdjtsvv5m5, alwayslearning, sights",
          "<b>Topic 8</b><br>Words: sicily, sicilian, sicilyexhibition, roger, gum",
          "<b>Topic 8</b><br>Words: sicily, lucazingaretti, httpstcosdjtsvv5m5, alwayslearning, sights",
          "<b>Topic 8</b><br>Words: httpstcojkr8txy1l2, egyptologist, daddy, claims, actually",
          "<b>Topic 8</b><br>Words: httpstcojkr8txy1l2, egyptologist, daddy, claims, actually",
          "<b>Topic 8</b><br>Words: httpstcojkr8txy1l2, egyptologist, daddy, claims, actually",
          "<b>Topic 8</b><br>Words: httpstcojkr8txy1l2, egyptologist, daddy, claims, actually",
          "<b>Topic 8</b><br>Words: annum, jobhunt, auditjobs, httpstcopnorjvr6fo, 45935",
          "<b>Topic 8</b><br>Words: httpstcosdjtsvv5m5, alwayslearning, sights, stuck, gotta",
          "<b>Topic 8</b><br>Words: classical, women, c0nvey, picked, wmarybeard",
          "<b>Topic 8</b><br>Words: httpstcohajt4ak15n, gumgum, london2017, httpstcosdjtsvv5m5, alwayslearning",
          "<b>Topic 8</b><br>Words: httpstcosdjtsvv5m5, alwayslearning, sights, stuck, gotta",
          "<b>Topic 8</b><br>Words: httpstcoqo4vcmqhbc, anthropology, thursday, study, 29th",
          "<b>Topic 8</b><br>Words: dum, gum, httpstcoepcaov835f, wants, united",
          "<b>Topic 8</b><br>Words: httpstcovakbg6krvn, edvardmunch, artist, wonderful, culture",
          "<b>Topic 8</b><br>Words: httpstcohipxl5mpdu, httpstcomqr8hcguce, 895, 35000, tolet",
          "<b>Topic 8</b><br>Words: 895, 35000, officespace, tolet, 7843",
          "<b>Topic 8</b><br>Words: httpstco2fq2zzvh5g, 895, 35000, 9189, 7843",
          "<b>Topic 8</b><br>Words: aeolian, panecunzato, italianfood, sicilian, holborn",
          "<b>Topic 8</b><br>Words: anthropology, university, lad2018, 2018, july",
          "<b>Topic 8</b><br>Words: 29, museumtour, booking, blackhistory, info",
          "<b>Topic 8</b><br>Words: blackhistory, autumn, familylearning, museumtour, 7th",
          "<b>Topic 8</b><br>Words: autumn, familylearning, museumtour, 7th, booking",
          "<b>Topic 8</b><br>Words: autumn, blackhistory, familylearning, booking, discover",
          "<b>Topic 8</b><br>Words: assyria, babylonia, november2018pre, familylearningblackhistorystudies, tohttpstcoeagrfxrdqpblackhistory",
          "<b>Topic 8</b><br>Words: assyria, babylonia, transcendental, httpstcoepph4equ9d, outlook",
          "<b>Topic 8</b><br>Words: munch, edvard, edvardmunch, scream, lithograph",
          "<b>Topic 8</b><br>Words: assyria, babylonia, httpstcomj9qgtpaiu, occurs, musmemes",
          "<b>Topic 8</b><br>Words: munch, scream, edvardmunchs, screaming, edvard",
          "<b>Topic 8</b><br>Words: edvardmunch, munch, norwegian, edvard, artist",
          "<b>Topic 8</b><br>Words: munch, edvardmunch, edvard, munchexhibition, exhibition",
          "<b>Topic 8</b><br>Words: munch, munchexhibition, edvard, thescream, edvardmunch",
          "<b>Topic 8</b><br>Words: munch, edvardmunch, edvard, loveandangst, angsty",
          "<b>Topic 8</b><br>Words: autumn, museumtour, booking, familylearning, blackhistory",
          "<b>Topic 8</b><br>Words: blackhistory, autumn, 29th, familylearning, museumtour",
          "<b>Topic 8</b><br>Words: november2019pre, tohttpstcoemdgloyrgpblackhistory, autumn, 17th, museumtour",
          "<b>Topic 8</b><br>Words: blackhistory, museumtour, booking, pre, info",
          "<b>Topic 8</b><br>Words: 15th, assyria, winter, booking, tour",
          "<b>Topic 8</b><br>Words: rgs, wsofarchi, maad, geography, dialogues",
          "<b>Topic 8</b><br>Words: assyria, babylonia, httpstcordjd9qnov4, czanne, manet",
          "<b>Topic 8</b><br>Words: assyria, babylonia, transcendental, httpstcoepph4equ9d, httpstcoj3tf7wewav",
          "<b>Topic 8</b><br>Words: italianculture, httpstcoibktn2vjhm, 8pm, pompei, attention",
          "<b>Topic 8</b><br>Words: assyria, babylonia, lostlibraries, aqng, httpstcoepph4eyskd",
          "<b>Topic 8</b><br>Words: jessicachiang, httpstcoba0p55q0ub, 20080412dsc000416162, europe, england",
          "<b>Topic 8</b><br>Words: assyria, babylonia, transcendental, httpstcoepph4equ9d, httpstcoj3tf7wewav",
          "<b>Topic 8</b><br>Words: httpstcou9r4r6zhmf, athttpstcohid0tsa6xh, book, nov, afield",
          "<b>Topic 8</b><br>Words: book, nov, afield, nubia, gmt",
          "<b>Topic 8</b><br>Words: httpstcoge1p6an3bp, akvarel, architectandartist, khanimart, rsm",
          "<b>Topic 8</b><br>Words: preitalian, httpstcolezuaofdm9, sicilys, httpstcodtrtxhofxj, ancientcoins",
          "<b>Topic 8</b><br>Words: assyria, babylonia, transcendental, httpstcoepph4equ9d, httpstcoj3tf7wewav",
          "<b>Topic 8</b><br>Words: thursdayartopening, 58pm, muscled, httpstcoyrasy5hphm, galleriesareback",
          "<b>Topic 8</b><br>Words: jessicachiang, httpstcoba0p55q0ub, 20080412dsc000416162, europe, england",
          "<b>Topic 8</b><br>Words: galleriaborghese, sima, simavisualarts, kunsthistorischesmuseum, lelouvre",
          "<b>Topic 8</b><br>Words: noise, httpstcoinvvrdtntu, httpstcoyuue9761uo, evidarling, eviedarling13",
          "<b>Topic 8</b><br>Words: anthropology, deallook, woohoo, httpstcokz943w4ey3, fechter"
         ],
         "marker": {
          "color": "#56B4E9"
         },
         "mode": "lines",
         "name": "8_munch_edvardmunch_edvard_booking",
         "type": "scatter",
         "x": [
          "2014-07-01T00:00:00",
          "2014-08-01T00:00:00",
          "2014-09-01T00:00:00",
          "2014-10-01T00:00:00",
          "2015-01-01T00:00:00",
          "2015-02-01T00:00:00",
          "2015-03-01T00:00:00",
          "2015-07-01T00:00:00",
          "2015-08-01T00:00:00",
          "2015-09-01T00:00:00",
          "2015-10-01T00:00:00",
          "2015-11-01T00:00:00",
          "2015-12-01T00:00:00",
          "2016-01-01T00:00:00",
          "2016-02-01T00:00:00",
          "2016-03-01T00:00:00",
          "2016-04-01T00:00:00",
          "2016-05-01T00:00:00",
          "2016-06-01T00:00:00",
          "2016-07-01T00:00:00",
          "2016-08-01T00:00:00",
          "2016-09-01T00:00:00",
          "2016-10-01T00:00:00",
          "2016-11-01T00:00:00",
          "2016-12-01T00:00:00",
          "2017-01-01T00:00:00",
          "2017-02-01T00:00:00",
          "2017-03-01T00:00:00",
          "2017-04-01T00:00:00",
          "2017-05-01T00:00:00",
          "2017-06-01T00:00:00",
          "2017-12-01T00:00:00",
          "2018-01-01T00:00:00",
          "2018-02-01T00:00:00",
          "2018-03-01T00:00:00",
          "2018-04-01T00:00:00",
          "2018-05-01T00:00:00",
          "2018-06-01T00:00:00",
          "2018-07-01T00:00:00",
          "2018-08-01T00:00:00",
          "2018-09-01T00:00:00",
          "2018-10-01T00:00:00",
          "2018-11-01T00:00:00",
          "2018-12-01T00:00:00",
          "2019-01-01T00:00:00",
          "2019-02-01T00:00:00",
          "2019-03-01T00:00:00",
          "2019-04-01T00:00:00",
          "2019-05-01T00:00:00",
          "2019-06-01T00:00:00",
          "2019-07-01T00:00:00",
          "2019-08-01T00:00:00",
          "2019-09-01T00:00:00",
          "2019-10-01T00:00:00",
          "2019-11-01T00:00:00",
          "2019-12-01T00:00:00",
          "2020-01-01T00:00:00",
          "2020-02-01T00:00:00",
          "2020-03-01T00:00:00",
          "2020-05-01T00:00:00",
          "2020-07-01T00:00:00",
          "2020-08-01T00:00:00",
          "2020-09-01T00:00:00",
          "2020-10-01T00:00:00",
          "2020-11-01T00:00:00",
          "2020-12-01T00:00:00",
          "2021-02-01T00:00:00",
          "2021-03-01T00:00:00",
          "2021-05-01T00:00:00",
          "2021-12-01T00:00:00",
          "2022-01-01T00:00:00",
          "2022-04-01T00:00:00",
          "2022-06-01T00:00:00"
         ],
         "y": [
          1,
          1,
          8,
          17,
          20,
          1,
          1,
          2,
          2,
          2,
          18,
          3,
          8,
          10,
          16,
          8,
          32,
          13,
          11,
          8,
          9,
          8,
          7,
          6,
          7,
          8,
          2,
          50,
          2,
          1,
          1,
          1,
          1,
          1,
          16,
          19,
          2,
          10,
          15,
          3,
          13,
          11,
          8,
          5,
          27,
          2,
          9,
          49,
          31,
          21,
          46,
          7,
          5,
          8,
          4,
          8,
          2,
          2,
          3,
          1,
          2,
          1,
          1,
          1,
          18,
          2,
          1,
          1,
          1,
          1,
          17,
          2,
          3
         ]
        },
        {
         "hoverinfo": "text",
         "hovertext": [
          "<b>Topic 9</b><br>Words: sobering, topical, 1961, climatemarch, bpornotbp",
          "<b>Topic 9</b><br>Words: climatemarch, bpornotbp, held, provoking, performance",
          "<b>Topic 9</b><br>Words: attending, ideas, change, climate, lots",
          "<b>Topic 9</b><br>Words: winter2016, politicalmotifs, issue86, httpstco0vlqkyqu7m, parastouforouhar",
          "<b>Topic 9</b><br>Words: httpstcogyyq5mwkuj, climatemarch, bpornotbp, held, parties",
          "<b>Topic 9</b><br>Words: httpstcouzwr049e0k, britishmuseumso, roaring20s, onstage, suspect",
          "<b>Topic 9</b><br>Words: dropbp, httpstcoiebtjqjyuj, scottishballet, ipcc, fossilfree"
         ],
         "marker": {
          "color": "#009E73"
         },
         "mode": "lines",
         "name": "9_climatemarch_bpornotbp_held_provoking",
         "type": "scatter",
         "x": [
          "2014-08-01T00:00:00",
          "2014-09-01T00:00:00",
          "2016-05-01T00:00:00",
          "2016-12-01T00:00:00",
          "2019-07-01T00:00:00",
          "2020-01-01T00:00:00",
          "2022-03-01T00:00:00"
         ],
         "y": [
          1,
          544,
          2,
          1,
          1,
          1,
          1
         ]
        }
       ],
       "layout": {
        "height": 450,
        "hoverlabel": {
         "bgcolor": "white",
         "font": {
          "family": "Rockwell",
          "size": 16
         }
        },
        "legend": {
         "title": {
          "text": "<b>Global Topic Representation"
         }
        },
        "template": {
         "data": {
          "bar": [
           {
            "error_x": {
             "color": "rgb(36,36,36)"
            },
            "error_y": {
             "color": "rgb(36,36,36)"
            },
            "marker": {
             "line": {
              "color": "white",
              "width": 0.5
             },
             "pattern": {
              "fillmode": "overlay",
              "size": 10,
              "solidity": 0.2
             }
            },
            "type": "bar"
           }
          ],
          "barpolar": [
           {
            "marker": {
             "line": {
              "color": "white",
              "width": 0.5
             },
             "pattern": {
              "fillmode": "overlay",
              "size": 10,
              "solidity": 0.2
             }
            },
            "type": "barpolar"
           }
          ],
          "carpet": [
           {
            "aaxis": {
             "endlinecolor": "rgb(36,36,36)",
             "gridcolor": "white",
             "linecolor": "white",
             "minorgridcolor": "white",
             "startlinecolor": "rgb(36,36,36)"
            },
            "baxis": {
             "endlinecolor": "rgb(36,36,36)",
             "gridcolor": "white",
             "linecolor": "white",
             "minorgridcolor": "white",
             "startlinecolor": "rgb(36,36,36)"
            },
            "type": "carpet"
           }
          ],
          "choropleth": [
           {
            "colorbar": {
             "outlinewidth": 1,
             "tickcolor": "rgb(36,36,36)",
             "ticks": "outside"
            },
            "type": "choropleth"
           }
          ],
          "contour": [
           {
            "colorbar": {
             "outlinewidth": 1,
             "tickcolor": "rgb(36,36,36)",
             "ticks": "outside"
            },
            "colorscale": [
             [
              0,
              "#440154"
             ],
             [
              0.1111111111111111,
              "#482878"
             ],
             [
              0.2222222222222222,
              "#3e4989"
             ],
             [
              0.3333333333333333,
              "#31688e"
             ],
             [
              0.4444444444444444,
              "#26828e"
             ],
             [
              0.5555555555555556,
              "#1f9e89"
             ],
             [
              0.6666666666666666,
              "#35b779"
             ],
             [
              0.7777777777777778,
              "#6ece58"
             ],
             [
              0.8888888888888888,
              "#b5de2b"
             ],
             [
              1,
              "#fde725"
             ]
            ],
            "type": "contour"
           }
          ],
          "contourcarpet": [
           {
            "colorbar": {
             "outlinewidth": 1,
             "tickcolor": "rgb(36,36,36)",
             "ticks": "outside"
            },
            "type": "contourcarpet"
           }
          ],
          "heatmap": [
           {
            "colorbar": {
             "outlinewidth": 1,
             "tickcolor": "rgb(36,36,36)",
             "ticks": "outside"
            },
            "colorscale": [
             [
              0,
              "#440154"
             ],
             [
              0.1111111111111111,
              "#482878"
             ],
             [
              0.2222222222222222,
              "#3e4989"
             ],
             [
              0.3333333333333333,
              "#31688e"
             ],
             [
              0.4444444444444444,
              "#26828e"
             ],
             [
              0.5555555555555556,
              "#1f9e89"
             ],
             [
              0.6666666666666666,
              "#35b779"
             ],
             [
              0.7777777777777778,
              "#6ece58"
             ],
             [
              0.8888888888888888,
              "#b5de2b"
             ],
             [
              1,
              "#fde725"
             ]
            ],
            "type": "heatmap"
           }
          ],
          "heatmapgl": [
           {
            "colorbar": {
             "outlinewidth": 1,
             "tickcolor": "rgb(36,36,36)",
             "ticks": "outside"
            },
            "colorscale": [
             [
              0,
              "#440154"
             ],
             [
              0.1111111111111111,
              "#482878"
             ],
             [
              0.2222222222222222,
              "#3e4989"
             ],
             [
              0.3333333333333333,
              "#31688e"
             ],
             [
              0.4444444444444444,
              "#26828e"
             ],
             [
              0.5555555555555556,
              "#1f9e89"
             ],
             [
              0.6666666666666666,
              "#35b779"
             ],
             [
              0.7777777777777778,
              "#6ece58"
             ],
             [
              0.8888888888888888,
              "#b5de2b"
             ],
             [
              1,
              "#fde725"
             ]
            ],
            "type": "heatmapgl"
           }
          ],
          "histogram": [
           {
            "marker": {
             "line": {
              "color": "white",
              "width": 0.6
             }
            },
            "type": "histogram"
           }
          ],
          "histogram2d": [
           {
            "colorbar": {
             "outlinewidth": 1,
             "tickcolor": "rgb(36,36,36)",
             "ticks": "outside"
            },
            "colorscale": [
             [
              0,
              "#440154"
             ],
             [
              0.1111111111111111,
              "#482878"
             ],
             [
              0.2222222222222222,
              "#3e4989"
             ],
             [
              0.3333333333333333,
              "#31688e"
             ],
             [
              0.4444444444444444,
              "#26828e"
             ],
             [
              0.5555555555555556,
              "#1f9e89"
             ],
             [
              0.6666666666666666,
              "#35b779"
             ],
             [
              0.7777777777777778,
              "#6ece58"
             ],
             [
              0.8888888888888888,
              "#b5de2b"
             ],
             [
              1,
              "#fde725"
             ]
            ],
            "type": "histogram2d"
           }
          ],
          "histogram2dcontour": [
           {
            "colorbar": {
             "outlinewidth": 1,
             "tickcolor": "rgb(36,36,36)",
             "ticks": "outside"
            },
            "colorscale": [
             [
              0,
              "#440154"
             ],
             [
              0.1111111111111111,
              "#482878"
             ],
             [
              0.2222222222222222,
              "#3e4989"
             ],
             [
              0.3333333333333333,
              "#31688e"
             ],
             [
              0.4444444444444444,
              "#26828e"
             ],
             [
              0.5555555555555556,
              "#1f9e89"
             ],
             [
              0.6666666666666666,
              "#35b779"
             ],
             [
              0.7777777777777778,
              "#6ece58"
             ],
             [
              0.8888888888888888,
              "#b5de2b"
             ],
             [
              1,
              "#fde725"
             ]
            ],
            "type": "histogram2dcontour"
           }
          ],
          "mesh3d": [
           {
            "colorbar": {
             "outlinewidth": 1,
             "tickcolor": "rgb(36,36,36)",
             "ticks": "outside"
            },
            "type": "mesh3d"
           }
          ],
          "parcoords": [
           {
            "line": {
             "colorbar": {
              "outlinewidth": 1,
              "tickcolor": "rgb(36,36,36)",
              "ticks": "outside"
             }
            },
            "type": "parcoords"
           }
          ],
          "pie": [
           {
            "automargin": true,
            "type": "pie"
           }
          ],
          "scatter": [
           {
            "fillpattern": {
             "fillmode": "overlay",
             "size": 10,
             "solidity": 0.2
            },
            "type": "scatter"
           }
          ],
          "scatter3d": [
           {
            "line": {
             "colorbar": {
              "outlinewidth": 1,
              "tickcolor": "rgb(36,36,36)",
              "ticks": "outside"
             }
            },
            "marker": {
             "colorbar": {
              "outlinewidth": 1,
              "tickcolor": "rgb(36,36,36)",
              "ticks": "outside"
             }
            },
            "type": "scatter3d"
           }
          ],
          "scattercarpet": [
           {
            "marker": {
             "colorbar": {
              "outlinewidth": 1,
              "tickcolor": "rgb(36,36,36)",
              "ticks": "outside"
             }
            },
            "type": "scattercarpet"
           }
          ],
          "scattergeo": [
           {
            "marker": {
             "colorbar": {
              "outlinewidth": 1,
              "tickcolor": "rgb(36,36,36)",
              "ticks": "outside"
             }
            },
            "type": "scattergeo"
           }
          ],
          "scattergl": [
           {
            "marker": {
             "colorbar": {
              "outlinewidth": 1,
              "tickcolor": "rgb(36,36,36)",
              "ticks": "outside"
             }
            },
            "type": "scattergl"
           }
          ],
          "scattermapbox": [
           {
            "marker": {
             "colorbar": {
              "outlinewidth": 1,
              "tickcolor": "rgb(36,36,36)",
              "ticks": "outside"
             }
            },
            "type": "scattermapbox"
           }
          ],
          "scatterpolar": [
           {
            "marker": {
             "colorbar": {
              "outlinewidth": 1,
              "tickcolor": "rgb(36,36,36)",
              "ticks": "outside"
             }
            },
            "type": "scatterpolar"
           }
          ],
          "scatterpolargl": [
           {
            "marker": {
             "colorbar": {
              "outlinewidth": 1,
              "tickcolor": "rgb(36,36,36)",
              "ticks": "outside"
             }
            },
            "type": "scatterpolargl"
           }
          ],
          "scatterternary": [
           {
            "marker": {
             "colorbar": {
              "outlinewidth": 1,
              "tickcolor": "rgb(36,36,36)",
              "ticks": "outside"
             }
            },
            "type": "scatterternary"
           }
          ],
          "surface": [
           {
            "colorbar": {
             "outlinewidth": 1,
             "tickcolor": "rgb(36,36,36)",
             "ticks": "outside"
            },
            "colorscale": [
             [
              0,
              "#440154"
             ],
             [
              0.1111111111111111,
              "#482878"
             ],
             [
              0.2222222222222222,
              "#3e4989"
             ],
             [
              0.3333333333333333,
              "#31688e"
             ],
             [
              0.4444444444444444,
              "#26828e"
             ],
             [
              0.5555555555555556,
              "#1f9e89"
             ],
             [
              0.6666666666666666,
              "#35b779"
             ],
             [
              0.7777777777777778,
              "#6ece58"
             ],
             [
              0.8888888888888888,
              "#b5de2b"
             ],
             [
              1,
              "#fde725"
             ]
            ],
            "type": "surface"
           }
          ],
          "table": [
           {
            "cells": {
             "fill": {
              "color": "rgb(237,237,237)"
             },
             "line": {
              "color": "white"
             }
            },
            "header": {
             "fill": {
              "color": "rgb(217,217,217)"
             },
             "line": {
              "color": "white"
             }
            },
            "type": "table"
           }
          ]
         },
         "layout": {
          "annotationdefaults": {
           "arrowhead": 0,
           "arrowwidth": 1
          },
          "autotypenumbers": "strict",
          "coloraxis": {
           "colorbar": {
            "outlinewidth": 1,
            "tickcolor": "rgb(36,36,36)",
            "ticks": "outside"
           }
          },
          "colorscale": {
           "diverging": [
            [
             0,
             "rgb(103,0,31)"
            ],
            [
             0.1,
             "rgb(178,24,43)"
            ],
            [
             0.2,
             "rgb(214,96,77)"
            ],
            [
             0.3,
             "rgb(244,165,130)"
            ],
            [
             0.4,
             "rgb(253,219,199)"
            ],
            [
             0.5,
             "rgb(247,247,247)"
            ],
            [
             0.6,
             "rgb(209,229,240)"
            ],
            [
             0.7,
             "rgb(146,197,222)"
            ],
            [
             0.8,
             "rgb(67,147,195)"
            ],
            [
             0.9,
             "rgb(33,102,172)"
            ],
            [
             1,
             "rgb(5,48,97)"
            ]
           ],
           "sequential": [
            [
             0,
             "#440154"
            ],
            [
             0.1111111111111111,
             "#482878"
            ],
            [
             0.2222222222222222,
             "#3e4989"
            ],
            [
             0.3333333333333333,
             "#31688e"
            ],
            [
             0.4444444444444444,
             "#26828e"
            ],
            [
             0.5555555555555556,
             "#1f9e89"
            ],
            [
             0.6666666666666666,
             "#35b779"
            ],
            [
             0.7777777777777778,
             "#6ece58"
            ],
            [
             0.8888888888888888,
             "#b5de2b"
            ],
            [
             1,
             "#fde725"
            ]
           ],
           "sequentialminus": [
            [
             0,
             "#440154"
            ],
            [
             0.1111111111111111,
             "#482878"
            ],
            [
             0.2222222222222222,
             "#3e4989"
            ],
            [
             0.3333333333333333,
             "#31688e"
            ],
            [
             0.4444444444444444,
             "#26828e"
            ],
            [
             0.5555555555555556,
             "#1f9e89"
            ],
            [
             0.6666666666666666,
             "#35b779"
            ],
            [
             0.7777777777777778,
             "#6ece58"
            ],
            [
             0.8888888888888888,
             "#b5de2b"
            ],
            [
             1,
             "#fde725"
            ]
           ]
          },
          "colorway": [
           "#1F77B4",
           "#FF7F0E",
           "#2CA02C",
           "#D62728",
           "#9467BD",
           "#8C564B",
           "#E377C2",
           "#7F7F7F",
           "#BCBD22",
           "#17BECF"
          ],
          "font": {
           "color": "rgb(36,36,36)"
          },
          "geo": {
           "bgcolor": "white",
           "lakecolor": "white",
           "landcolor": "white",
           "showlakes": true,
           "showland": true,
           "subunitcolor": "white"
          },
          "hoverlabel": {
           "align": "left"
          },
          "hovermode": "closest",
          "mapbox": {
           "style": "light"
          },
          "paper_bgcolor": "white",
          "plot_bgcolor": "white",
          "polar": {
           "angularaxis": {
            "gridcolor": "rgb(232,232,232)",
            "linecolor": "rgb(36,36,36)",
            "showgrid": false,
            "showline": true,
            "ticks": "outside"
           },
           "bgcolor": "white",
           "radialaxis": {
            "gridcolor": "rgb(232,232,232)",
            "linecolor": "rgb(36,36,36)",
            "showgrid": false,
            "showline": true,
            "ticks": "outside"
           }
          },
          "scene": {
           "xaxis": {
            "backgroundcolor": "white",
            "gridcolor": "rgb(232,232,232)",
            "gridwidth": 2,
            "linecolor": "rgb(36,36,36)",
            "showbackground": true,
            "showgrid": false,
            "showline": true,
            "ticks": "outside",
            "zeroline": false,
            "zerolinecolor": "rgb(36,36,36)"
           },
           "yaxis": {
            "backgroundcolor": "white",
            "gridcolor": "rgb(232,232,232)",
            "gridwidth": 2,
            "linecolor": "rgb(36,36,36)",
            "showbackground": true,
            "showgrid": false,
            "showline": true,
            "ticks": "outside",
            "zeroline": false,
            "zerolinecolor": "rgb(36,36,36)"
           },
           "zaxis": {
            "backgroundcolor": "white",
            "gridcolor": "rgb(232,232,232)",
            "gridwidth": 2,
            "linecolor": "rgb(36,36,36)",
            "showbackground": true,
            "showgrid": false,
            "showline": true,
            "ticks": "outside",
            "zeroline": false,
            "zerolinecolor": "rgb(36,36,36)"
           }
          },
          "shapedefaults": {
           "fillcolor": "black",
           "line": {
            "width": 0
           },
           "opacity": 0.3
          },
          "ternary": {
           "aaxis": {
            "gridcolor": "rgb(232,232,232)",
            "linecolor": "rgb(36,36,36)",
            "showgrid": false,
            "showline": true,
            "ticks": "outside"
           },
           "baxis": {
            "gridcolor": "rgb(232,232,232)",
            "linecolor": "rgb(36,36,36)",
            "showgrid": false,
            "showline": true,
            "ticks": "outside"
           },
           "bgcolor": "white",
           "caxis": {
            "gridcolor": "rgb(232,232,232)",
            "linecolor": "rgb(36,36,36)",
            "showgrid": false,
            "showline": true,
            "ticks": "outside"
           }
          },
          "title": {
           "x": 0.05
          },
          "xaxis": {
           "automargin": true,
           "gridcolor": "rgb(232,232,232)",
           "linecolor": "rgb(36,36,36)",
           "showgrid": false,
           "showline": true,
           "ticks": "outside",
           "title": {
            "standoff": 15
           },
           "zeroline": false,
           "zerolinecolor": "rgb(36,36,36)"
          },
          "yaxis": {
           "automargin": true,
           "gridcolor": "rgb(232,232,232)",
           "linecolor": "rgb(36,36,36)",
           "showgrid": false,
           "showline": true,
           "ticks": "outside",
           "title": {
            "standoff": 15
           },
           "zeroline": false,
           "zerolinecolor": "rgb(36,36,36)"
          }
         }
        },
        "title": {
         "font": {
          "color": "Black",
          "size": 22
         },
         "text": "<b>Topics over Time",
         "x": 0.4,
         "xanchor": "center",
         "y": 0.95,
         "yanchor": "top"
        },
        "width": 1250,
        "xaxis": {
         "showgrid": true
        },
        "yaxis": {
         "showgrid": true,
         "title": {
          "text": "Frequency"
         }
        }
       }
      }
     },
     "metadata": {},
     "output_type": "display_data"
    }
   ],
   "source": [
    "# topics over time based on the date column\n",
    "\n",
    "timestamps = df['date'].to_list()\n",
    "docs= df['text'].to_list()\n",
    "topic_over_time = topic_model.topics_over_time(docs, timestamps)\n",
    "topic_model.visualize_topics_over_time(topic_over_time)"
   ]
  },
  {
   "cell_type": "code",
   "execution_count": 34,
   "metadata": {},
   "outputs": [
    {
     "data": {
      "text/html": [
       "<div>\n",
       "<style scoped>\n",
       "    .dataframe tbody tr th:only-of-type {\n",
       "        vertical-align: middle;\n",
       "    }\n",
       "\n",
       "    .dataframe tbody tr th {\n",
       "        vertical-align: top;\n",
       "    }\n",
       "\n",
       "    .dataframe thead th {\n",
       "        text-align: right;\n",
       "    }\n",
       "</style>\n",
       "<table border=\"1\" class=\"dataframe\">\n",
       "  <thead>\n",
       "    <tr style=\"text-align: right;\">\n",
       "      <th></th>\n",
       "      <th>Topic</th>\n",
       "      <th>Words</th>\n",
       "      <th>Frequency</th>\n",
       "      <th>Timestamp</th>\n",
       "      <th>Name</th>\n",
       "    </tr>\n",
       "  </thead>\n",
       "  <tbody>\n",
       "    <tr>\n",
       "      <th>0</th>\n",
       "      <td>0</td>\n",
       "      <td>museum, british, london, photo, court</td>\n",
       "      <td>80</td>\n",
       "      <td>2014-06-01</td>\n",
       "      <td>0_museum_british_london_architecture</td>\n",
       "    </tr>\n",
       "    <tr>\n",
       "      <th>1</th>\n",
       "      <td>1</td>\n",
       "      <td>london, funslugz, httptcoxcvy4iozut, kids, love</td>\n",
       "      <td>98</td>\n",
       "      <td>2014-06-01</td>\n",
       "      <td>1_london_amp_thatmuse_history</td>\n",
       "    </tr>\n",
       "    <tr>\n",
       "      <th>2</th>\n",
       "      <td>2</td>\n",
       "      <td>vikings, olsx, onn, dtg150614, reclaimthebard</td>\n",
       "      <td>99</td>\n",
       "      <td>2014-06-01</td>\n",
       "      <td>2_art_museum_british_london</td>\n",
       "    </tr>\n",
       "    <tr>\n",
       "      <th>3</th>\n",
       "      <td>3</td>\n",
       "      <td>egyptian, egypt, rosettastone, ancient, wholyh...</td>\n",
       "      <td>54</td>\n",
       "      <td>2014-06-01</td>\n",
       "      <td>3_egypt_egyptian_museum_british</td>\n",
       "    </tr>\n",
       "    <tr>\n",
       "      <th>4</th>\n",
       "      <td>4</td>\n",
       "      <td>creativeresearch, extension, fr, saadiyat, 3m</td>\n",
       "      <td>19</td>\n",
       "      <td>2014-06-01</td>\n",
       "      <td>4_bp_stolen_troy_british</td>\n",
       "    </tr>\n",
       "    <tr>\n",
       "      <th>...</th>\n",
       "      <td>...</td>\n",
       "      <td>...</td>\n",
       "      <td>...</td>\n",
       "      <td>...</td>\n",
       "      <td>...</td>\n",
       "    </tr>\n",
       "    <tr>\n",
       "      <th>830</th>\n",
       "      <td>4</td>\n",
       "      <td>stolen, invitation, rsvp, british, pensions</td>\n",
       "      <td>21</td>\n",
       "      <td>2022-06-01</td>\n",
       "      <td>4_bp_stolen_troy_british</td>\n",
       "    </tr>\n",
       "    <tr>\n",
       "      <th>831</th>\n",
       "      <td>5</td>\n",
       "      <td>parthenon, greece, marbles, athens, acropolism...</td>\n",
       "      <td>24</td>\n",
       "      <td>2022-06-01</td>\n",
       "      <td>5_parthenon_greece_marbles_athens</td>\n",
       "    </tr>\n",
       "    <tr>\n",
       "      <th>832</th>\n",
       "      <td>6</td>\n",
       "      <td>book, 16, blackhistory, gmt, 1900</td>\n",
       "      <td>5</td>\n",
       "      <td>2022-06-01</td>\n",
       "      <td>6_blackhistory_tour_book_place</td>\n",
       "    </tr>\n",
       "    <tr>\n",
       "      <th>833</th>\n",
       "      <td>7</td>\n",
       "      <td>armory, whitneybiennial, venicebiennale, koyaa...</td>\n",
       "      <td>5</td>\n",
       "      <td>2022-06-01</td>\n",
       "      <td>7_manga_hokusai_japan_japanese</td>\n",
       "    </tr>\n",
       "    <tr>\n",
       "      <th>834</th>\n",
       "      <td>8</td>\n",
       "      <td>anthropology, deallook, woohoo, httpstcokz943w...</td>\n",
       "      <td>3</td>\n",
       "      <td>2022-06-01</td>\n",
       "      <td>8_munch_edvardmunch_edvard_booking</td>\n",
       "    </tr>\n",
       "  </tbody>\n",
       "</table>\n",
       "<p>835 rows × 5 columns</p>\n",
       "</div>"
      ],
      "text/plain": [
       "     Topic                                              Words  Frequency  \\\n",
       "0        0              museum, british, london, photo, court         80   \n",
       "1        1    london, funslugz, httptcoxcvy4iozut, kids, love         98   \n",
       "2        2      vikings, olsx, onn, dtg150614, reclaimthebard         99   \n",
       "3        3  egyptian, egypt, rosettastone, ancient, wholyh...         54   \n",
       "4        4      creativeresearch, extension, fr, saadiyat, 3m         19   \n",
       "..     ...                                                ...        ...   \n",
       "830      4        stolen, invitation, rsvp, british, pensions         21   \n",
       "831      5  parthenon, greece, marbles, athens, acropolism...         24   \n",
       "832      6                  book, 16, blackhistory, gmt, 1900          5   \n",
       "833      7  armory, whitneybiennial, venicebiennale, koyaa...          5   \n",
       "834      8  anthropology, deallook, woohoo, httpstcokz943w...          3   \n",
       "\n",
       "     Timestamp                                  Name  \n",
       "0   2014-06-01  0_museum_british_london_architecture  \n",
       "1   2014-06-01         1_london_amp_thatmuse_history  \n",
       "2   2014-06-01           2_art_museum_british_london  \n",
       "3   2014-06-01       3_egypt_egyptian_museum_british  \n",
       "4   2014-06-01              4_bp_stolen_troy_british  \n",
       "..         ...                                   ...  \n",
       "830 2022-06-01              4_bp_stolen_troy_british  \n",
       "831 2022-06-01     5_parthenon_greece_marbles_athens  \n",
       "832 2022-06-01        6_blackhistory_tour_book_place  \n",
       "833 2022-06-01        7_manga_hokusai_japan_japanese  \n",
       "834 2022-06-01    8_munch_edvardmunch_edvard_booking  \n",
       "\n",
       "[835 rows x 5 columns]"
      ]
     },
     "execution_count": 34,
     "metadata": {},
     "output_type": "execute_result"
    }
   ],
   "source": [
    "topic_over_time"
   ]
  }
 ],
 "metadata": {
  "kernelspec": {
   "display_name": "Python 3.9.7 ('base')",
   "language": "python",
   "name": "python3"
  },
  "language_info": {
   "codemirror_mode": {
    "name": "ipython",
    "version": 3
   },
   "file_extension": ".py",
   "mimetype": "text/x-python",
   "name": "python",
   "nbconvert_exporter": "python",
   "pygments_lexer": "ipython3",
   "version": "3.9.7"
  },
  "orig_nbformat": 4,
  "vscode": {
   "interpreter": {
    "hash": "e815ec34c9d7ca6d5f6dd6120341f05865440853c6373931621ba05a6d8d6b08"
   }
  }
 },
 "nbformat": 4,
 "nbformat_minor": 2
}
